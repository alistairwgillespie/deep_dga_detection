{
 "cells": [
  {
   "cell_type": "markdown",
   "metadata": {},
   "source": [
    "# Hyperparameter Optimization"
   ]
  },
  {
   "cell_type": "code",
   "execution_count": 19,
   "metadata": {},
   "outputs": [],
   "source": [
    "import optuna\n",
    "import os\n",
    "import joblib\n",
    "import time\n",
    "import datetime\n",
    "import pandas as pd\n",
    "import numpy as np\n",
    "import torch\n",
    "import torch.utils.data\n",
    "import torch.optim as optim\n",
    "from torch.nn.utils.rnn import pad_sequence\n",
    "from sklearn.metrics import precision_score, recall_score, f1_score\n",
    "from dga.datasets import DomainDataset\n",
    "from torch.utils.data import DataLoader\n",
    "from dga.models.dga_classifier import DGAClassifier\n",
    "import mlflow\n",
    "import mlflow.pytorch\n",
    "import optuna\n",
    "import joblib"
   ]
  },
  {
   "cell_type": "code",
   "execution_count": 18,
   "metadata": {},
   "outputs": [
    {
     "name": "stdout",
     "output_type": "stream",
     "text": [
      "Collecting plotly\n",
      "  Downloading plotly-4.11.0-py2.py3-none-any.whl (13.1 MB)\n",
      "Requirement already satisfied: six in c:\\users\\gilleal\\appdata\\local\\continuum\\anaconda3\\envs\\threat_science\\lib\\site-packages (from plotly) (1.15.0)\n",
      "Collecting retrying>=1.3.3\n",
      "  Downloading retrying-1.3.3.tar.gz (10 kB)\n",
      "Building wheels for collected packages: retrying\n",
      "  Building wheel for retrying (setup.py): started\n",
      "  Building wheel for retrying (setup.py): finished with status 'done'\n",
      "  Created wheel for retrying: filename=retrying-1.3.3-py3-none-any.whl size=11435 sha256=a657f81ea4e8bf8a9e83f563d27f632d981fe45ba93b999475652481f2e10755\n",
      "  Stored in directory: c:\\users\\gilleal\\appdata\\local\\pip\\cache\\wheels\\c4\\a7\\48\\0a434133f6d56e878ca511c0e6c38326907c0792f67b476e56\n",
      "Successfully built retrying\n",
      "Installing collected packages: retrying, plotly\n",
      "Successfully installed plotly-4.11.0 retrying-1.3.3\n"
     ]
    }
   ],
   "source": [
    "!pip install plotly"
   ]
  },
  {
   "cell_type": "code",
   "execution_count": 6,
   "metadata": {},
   "outputs": [],
   "source": [
    "def pad_collate(batch):\n",
    "    (xx, yy) = zip(*batch)\n",
    "    x_lens = [len(x) for x in xx]\n",
    "    y_lens = [len(y) for y in yy]\n",
    "    xx_pad = pad_sequence(xx, batch_first=True, padding_value=0)\n",
    "    return xx_pad, yy, x_lens, y_lens\n",
    "\n",
    "\n",
    "def prepare_dl(data_dir, filename, batch_size):\n",
    "    df = pd.read_csv(os.path.join(data_dir, filename))\n",
    "    ds = DomainDataset(df, train=True)\n",
    "    dl = DataLoader(ds, batch_size=batch_size, shuffle=True, collate_fn=pad_collate)\n",
    "    return dl\n",
    "\n",
    "\n",
    "def seed_everything(seed, cuda=False):\n",
    "    # Set the random seed manually for reproducibility.\n",
    "    np.random.seed(seed)\n",
    "    torch.manual_seed(seed)\n",
    "    if cuda:\n",
    "        torch.cuda.manual_seed_all(seed)\n",
    "\n",
    "\n",
    "def calc_prec_rec(y_pred, y_actual):\n",
    "    prec = precision_score(y_actual, y_pred)\n",
    "    rec = recall_score(y_actual, y_pred)\n",
    "    return prec, rec"
   ]
  },
  {
   "cell_type": "code",
   "execution_count": 7,
   "metadata": {},
   "outputs": [],
   "source": [
    "def validate(model, epoch, valid_loader, criterion):\n",
    "    model.eval()\n",
    "    val_pred = np.array([])\n",
    "    val_actual = np.array([])\n",
    "    valid_loss = 0.\n",
    "    with torch.no_grad():\n",
    "        for batch_num, (x_padded, y_padded, x_lens, y_lens) in enumerate(valid_loader):\n",
    "            output = model(x_padded, x_lens)\n",
    "            val_pred = np.append(val_pred, output.detach().cpu().numpy())\n",
    "            val_pred = np.round(val_pred).astype(int)\n",
    "            val_actual = np.append(val_actual, y_padded).astype(int)\n",
    "            loss = criterion(output, torch.Tensor(y_padded).unsqueeze(1))\n",
    "            valid_loss += loss.item()\n",
    "\n",
    "    accuracy = (val_pred == val_actual).sum() / len(valid_loader.dataset)\n",
    "    prec, rec = calc_prec_rec(val_pred, val_actual)\n",
    "    f1 = f1_score(val_actual, val_pred, average='micro')\n",
    "    avg_loss = valid_loss / len(valid_loader)\n",
    "\n",
    "    print(\n",
    "        f\"Validation | \"\n",
    "        f\"Epoch {epoch:03} | \"\n",
    "        f\"Loss {avg_loss:.3f} | \"\n",
    "        f\"Accuracy {accuracy:.3f} | \"\n",
    "        f\"Precision {prec:.3f} | \"\n",
    "        f\"Recall {rec:.3f} | \"\n",
    "        f\"F1 {f1:.3f} \"\n",
    "    )\n",
    "\n",
    "    mlflow.log_metric(key=\"valid_accuracy\", value=accuracy, step=epoch)\n",
    "    mlflow.log_metric(key=\"valid_precision\", value=prec, step=epoch)\n",
    "    mlflow.log_metric(key=\"valid_recall\", value=rec, step=epoch)\n",
    "    mlflow.log_metric(key=\"valid_loss\", value=valid_loss, step=epoch)\n",
    "    mlflow.log_metric(key=\"valid_f1\", value=f1, step=epoch)\n",
    "\n",
    "    return f1\n"
   ]
  },
  {
   "cell_type": "code",
   "execution_count": 8,
   "metadata": {},
   "outputs": [],
   "source": [
    "def train(log_interval, model, epoch, train_loader, optimizer, criterion):\n",
    "    model.train()\n",
    "    train_pred = np.array([])\n",
    "    train_actual = np.array([])\n",
    "    total_loss = 0.\n",
    "    for batch_num, (x_padded, y_padded, x_lens, y_lens) in enumerate(train_loader):\n",
    "        optimizer.zero_grad()\n",
    "        output = model(x_padded, x_lens)\n",
    "        loss = criterion(output, torch.Tensor(y_padded).unsqueeze(1))\n",
    "        train_pred = np.append(train_pred, output.detach().cpu().numpy())\n",
    "        train_pred = np.round(train_pred).astype(int)\n",
    "        train_actual = np.append(train_actual, y_padded).astype(int)\n",
    "        loss.backward()\n",
    "        optimizer.step()\n",
    "        total_loss += loss.item()\n",
    "\n",
    "        if batch_num % log_interval == 0:\n",
    "            print(f'Train Epoch: {epoch}' \n",
    "                    f'[{batch_num*len(x_padded)}/{len(train_loader.dataset)}'\n",
    "                    f' ({100. * batch_num / len(train_loader):.0f}%)]'\n",
    "                    f'\\tLoss: {loss.item():.6f}')\n",
    "\n",
    "    accuracy = (train_pred == train_actual).sum()/len(train_loader.dataset)\n",
    "    prec, rec = calc_prec_rec(train_pred, train_actual)\n",
    "    avg_loss = total_loss / len(train_loader)\n",
    "    f1 = f1_score(train_actual, train_pred, average='micro')\n",
    "    print(\n",
    "        f\"Train      | \"\n",
    "        f\"Epoch {epoch:03} | \"\n",
    "        # f\"Batch {batch_num:03} | \"\n",
    "        f\"Loss {avg_loss:.3f} | \"\n",
    "        f\"Accuracy {accuracy:.3f} | \"\n",
    "        f\"Precision {prec:.3f} | \"\n",
    "        f\"Recall {rec:.3f} | \"\n",
    "        f\"F1 {f1:.3f} \"\n",
    "    )\n",
    "\n",
    "    mlflow.log_metric(key=\"train_accuracy\", value=accuracy, step=epoch)\n",
    "    mlflow.log_metric(key=\"train_precision\", value=prec, step=epoch)\n",
    "    mlflow.log_metric(key=\"train_recall\", value=rec, step=epoch)\n",
    "    mlflow.log_metric(key=\"train_loss\", value=avg_loss, step=epoch)\n"
   ]
  },
  {
   "cell_type": "code",
   "execution_count": 11,
   "metadata": {},
   "outputs": [],
   "source": [
    "def hyper_train(trial):\n",
    "\n",
    "    config = {\n",
    "        'output_data_dir': '../data/',\n",
    "        'model_dir': '../models/',\n",
    "        'data_dir': '../data/processed/',\n",
    "        'train_fn': 'mini_train.csv',\n",
    "        'validation_fn': 'mini_validation.csv',\n",
    "        'device': \"cuda\" if torch.cuda.is_available() else \"cpu\",\n",
    "        'train_batch_size': 64,\n",
    "        'test_batch_size': 1000,\n",
    "        'epochs': 1,\n",
    "        'seed': 0,\n",
    "        'input_features': 68,\n",
    "        'log_interval': 100,\n",
    "        'save_model': False,\n",
    "        'lr': trial.suggest_loguniform('lr', 1e-3, 1e-2),\n",
    "        'dropout_rate': trial.suggest_uniform('dropout_rate', 0.1, 0.5),\n",
    "        'hidden_dim': trial.suggest_int('hidden_dim', 10, 50),\n",
    "        'embedding_dim': trial.suggest_int('embedding_dim', 3, 30),\n",
    "        'n_layers': trial.suggest_int('n_layers', 2, 10),\n",
    "        'optimizer': trial.suggest_categorical('optimizer', [optim.SGD, optim.RMSprop, optim.Adam]),\n",
    "        'save_model': False\n",
    "    }\n",
    "\n",
    "    # Args holds all passed-in arguments\n",
    "    device = torch.device(config['device'])\n",
    "    cuda = torch.cuda.is_available()\n",
    "    print(\"Using device {}.\".format(device))\n",
    "    torch.manual_seed(config['seed'])\n",
    "\n",
    "    # Get loaders\n",
    "    train_loader = prepare_dl(config['data_dir'], config['train_fn'], config['train_batch_size'])\n",
    "    valid_loader = prepare_dl(config['data_dir'], config['validation_fn'], config['test_batch_size'])\n",
    "\n",
    "    # Initialize DGA Classifier\n",
    "    model = DGAClassifier(input_features=config['input_features'],\n",
    "                          hidden_dim=config['hidden_dim'],\n",
    "                          n_layers=config['n_layers'],\n",
    "                          embedding_dim=config['embedding_dim'],\n",
    "                          batch_size=config['train_batch_size'],\n",
    "                          dropout_rate=config['dropout_rate'])\n",
    "\n",
    "    if cuda:\n",
    "        model.cuda()\n",
    "\n",
    "    # Define loss and optimizer\n",
    "    criterion = torch.nn.BCELoss()\n",
    "    optimizer = config['optimizer'](model.parameters(), lr=config['lr'])\n",
    "\n",
    "    train_start = time.time()  # start timer\n",
    "\n",
    "    # Commence training\n",
    "    with mlflow.start_run() as run:\n",
    "        for key, value in config.items():\n",
    "            mlflow.log_param(key, value)\n",
    "        for epoch in range(1, config['epochs'] + 1):\n",
    "            train(config['log_interval'], model, epoch, train_loader, optimizer, criterion)\n",
    "            f1 = validate(model, epoch, valid_loader, criterion)\n",
    "\n",
    "        # mlflow.pytorch.log_model(model, \"models\")\n",
    "\n",
    "    train_finish = time.time()  # end timer\n",
    "    duration_secs = train_finish - train_start\n",
    "    duration_time = str(datetime.timedelta(seconds=duration_secs))\n",
    "    print(f'[DURATION]: {duration_time}')\n",
    "\n",
    "    # Save the model parameters\n",
    "    if config[\"save_model\"]:\n",
    "        model_path = os.path.join(config['model_dir'], 'dga_model.pth')\n",
    "        with open(model_path, 'wb') as f:\n",
    "            torch.save(model.cpu().state_dict(), f)\n",
    "\n",
    "    return f1"
   ]
  },
  {
   "cell_type": "code",
   "execution_count": 12,
   "metadata": {},
   "outputs": [
    {
     "data": {
      "text/plain": [
       "'20201011_17-04-50'"
      ]
     },
     "execution_count": 12,
     "metadata": {},
     "output_type": "execute_result"
    }
   ],
   "source": [
    "import datetime\n",
    "now = datetime.datetime.now()\n",
    "timestamp = str(now.strftime(\"%Y%m%d_%H-%M-%S\"))\n",
    "timestamp"
   ]
  },
  {
   "cell_type": "code",
   "execution_count": 13,
   "metadata": {
    "scrolled": true
   },
   "outputs": [
    {
     "name": "stderr",
     "output_type": "stream",
     "text": [
      "\u001b[32m[I 2020-10-11 17:04:51,554]\u001b[0m A new study created in memory with name: no-name-9a0ae3bc-d151-4997-8dd0-dba8d7005ba7\u001b[0m\n"
     ]
    },
    {
     "name": "stdout",
     "output_type": "stream",
     "text": [
      "Using device cpu.\n",
      "Train Epoch: 1[0/6185 (0%)]\tLoss: 0.693663\n",
      "Train      | Epoch 001 | Loss 0.555 | Accuracy 0.722 | Precision 0.745 | Recall 0.569 | F1 0.722 \n",
      "Validation | Epoch 001 | Loss 0.467 | Accuracy 0.805 | Precision 0.835 | Recall 0.698 | F1 0.805 \n"
     ]
    },
    {
     "name": "stderr",
     "output_type": "stream",
     "text": [
      "\u001b[32m[I 2020-10-11 17:05:06,350]\u001b[0m Trial 0 finished with value: 0.8052325581395349 and parameters: {'lr': 0.0052114978077561335, 'dropout_rate': 0.33171384900036127, 'hidden_dim': 22, 'embedding_dim': 12, 'n_layers': 9, 'optimizer': <class 'torch.optim.adam.Adam'>}. Best is trial 0 with value: 0.8052325581395349.\u001b[0m\n"
     ]
    },
    {
     "name": "stdout",
     "output_type": "stream",
     "text": [
      "[DURATION]: 0:00:14.708218\n",
      "Using device cpu.\n",
      "Train Epoch: 1[0/6185 (0%)]\tLoss: 0.722910\n",
      "Train      | Epoch 001 | Loss 0.554 | Accuracy 0.729 | Precision 0.763 | Recall 0.562 | F1 0.729 \n",
      "Validation | Epoch 001 | Loss 0.509 | Accuracy 0.733 | Precision 0.735 | Recall 0.620 | F1 0.733 \n"
     ]
    },
    {
     "name": "stderr",
     "output_type": "stream",
     "text": [
      "\u001b[32m[I 2020-10-11 17:05:13,089]\u001b[0m Trial 1 finished with value: 0.7325581395348836 and parameters: {'lr': 0.007998726256615954, 'dropout_rate': 0.4923939162740769, 'hidden_dim': 30, 'embedding_dim': 18, 'n_layers': 4, 'optimizer': <class 'torch.optim.rmsprop.RMSprop'>}. Best is trial 0 with value: 0.8052325581395349.\u001b[0m\n"
     ]
    },
    {
     "name": "stdout",
     "output_type": "stream",
     "text": [
      "[DURATION]: 0:00:06.712957\n",
      "Using device cpu.\n",
      "Train Epoch: 1[0/6185 (0%)]\tLoss: 0.689489\n",
      "Train      | Epoch 001 | Loss 0.690 | Accuracy 0.552 | Precision 0.483 | Recall 0.154 | F1 0.552 \n"
     ]
    },
    {
     "name": "stderr",
     "output_type": "stream",
     "text": [
      "C:\\Users\\gilleal\\AppData\\Local\\Continuum\\anaconda3\\envs\\threat_science\\lib\\site-packages\\sklearn\\metrics\\_classification.py:1221: UndefinedMetricWarning: Precision is ill-defined and being set to 0.0 due to no predicted samples. Use `zero_division` parameter to control this behavior.\n",
      "  _warn_prf(average, modifier, msg_start, len(result))\n",
      "\u001b[32m[I 2020-10-11 17:05:24,739]\u001b[0m Trial 2 finished with value: 0.5566860465116279 and parameters: {'lr': 0.0013822432099074064, 'dropout_rate': 0.35754181955574094, 'hidden_dim': 42, 'embedding_dim': 27, 'n_layers': 9, 'optimizer': <class 'torch.optim.sgd.SGD'>}. Best is trial 0 with value: 0.8052325581395349.\u001b[0m\n"
     ]
    },
    {
     "name": "stdout",
     "output_type": "stream",
     "text": [
      "Validation | Epoch 001 | Loss 0.688 | Accuracy 0.557 | Precision 0.000 | Recall 0.000 | F1 0.557 \n",
      "[DURATION]: 0:00:11.617898\n",
      "Using device cpu.\n",
      "Train Epoch: 1[0/6185 (0%)]\tLoss: 0.697927\n",
      "Train      | Epoch 001 | Loss 0.462 | Accuracy 0.789 | Precision 0.799 | Recall 0.701 | F1 0.789 \n",
      "Validation | Epoch 001 | Loss 0.304 | Accuracy 0.876 | Precision 0.835 | Recall 0.898 | F1 0.876 "
     ]
    },
    {
     "name": "stderr",
     "output_type": "stream",
     "text": [
      "\u001b[32m[I 2020-10-11 17:05:33,202]\u001b[0m Trial 3 finished with value: 0.876453488372093 and parameters: {'lr': 0.0014616573824466615, 'dropout_rate': 0.25875360423818194, 'hidden_dim': 46, 'embedding_dim': 27, 'n_layers': 4, 'optimizer': <class 'torch.optim.adam.Adam'>}. Best is trial 3 with value: 0.876453488372093.\u001b[0m\n"
     ]
    },
    {
     "name": "stdout",
     "output_type": "stream",
     "text": [
      "\n",
      "[DURATION]: 0:00:08.327484\n",
      "Using device cpu.\n",
      "Train Epoch: 1[0/6185 (0%)]\tLoss: 0.683629\n",
      "Train      | Epoch 001 | Loss 0.504 | Accuracy 0.766 | Precision 0.762 | Recall 0.686 | F1 0.766 \n"
     ]
    },
    {
     "name": "stderr",
     "output_type": "stream",
     "text": [
      "\u001b[32m[I 2020-10-11 17:05:40,356]\u001b[0m Trial 4 finished with value: 0.8139534883720931 and parameters: {'lr': 0.004619025973018541, 'dropout_rate': 0.32945348276766345, 'hidden_dim': 20, 'embedding_dim': 30, 'n_layers': 5, 'optimizer': <class 'torch.optim.rmsprop.RMSprop'>}. Best is trial 3 with value: 0.876453488372093.\u001b[0m\n"
     ]
    },
    {
     "name": "stdout",
     "output_type": "stream",
     "text": [
      "Validation | Epoch 001 | Loss 0.450 | Accuracy 0.814 | Precision 0.877 | Recall 0.675 | F1 0.814 \n",
      "[DURATION]: 0:00:07.127292\n",
      "Using device cpu.\n",
      "Train Epoch: 1[0/6185 (0%)]\tLoss: 0.691418\n",
      "Train      | Epoch 001 | Loss 0.513 | Accuracy 0.759 | Precision 0.752 | Recall 0.683 | F1 0.759 \n"
     ]
    },
    {
     "name": "stderr",
     "output_type": "stream",
     "text": [
      "\u001b[32m[I 2020-10-11 17:05:53,242]\u001b[0m Trial 5 finished with value: 0.8212209302325582 and parameters: {'lr': 0.005492993635150355, 'dropout_rate': 0.25049476854242303, 'hidden_dim': 49, 'embedding_dim': 14, 'n_layers': 8, 'optimizer': <class 'torch.optim.adam.Adam'>}. Best is trial 3 with value: 0.876453488372093.\u001b[0m\n"
     ]
    },
    {
     "name": "stdout",
     "output_type": "stream",
     "text": [
      "Validation | Epoch 001 | Loss 0.446 | Accuracy 0.821 | Precision 0.832 | Recall 0.748 | F1 0.821 \n",
      "[DURATION]: 0:00:12.850192\n",
      "Using device cpu.\n",
      "Train Epoch: 1[0/6185 (0%)]\tLoss: 0.697373\n",
      "Train      | Epoch 001 | Loss 0.526 | Accuracy 0.750 | Precision 0.763 | Recall 0.633 | F1 0.750 \n"
     ]
    },
    {
     "name": "stderr",
     "output_type": "stream",
     "text": [
      "\u001b[32m[I 2020-10-11 17:06:00,879]\u001b[0m Trial 6 finished with value: 0.8066860465116279 and parameters: {'lr': 0.0016779902641051118, 'dropout_rate': 0.46280992760181805, 'hidden_dim': 27, 'embedding_dim': 30, 'n_layers': 5, 'optimizer': <class 'torch.optim.rmsprop.RMSprop'>}. Best is trial 3 with value: 0.876453488372093.\u001b[0m\n"
     ]
    },
    {
     "name": "stdout",
     "output_type": "stream",
     "text": [
      "Validation | Epoch 001 | Loss 0.475 | Accuracy 0.807 | Precision 0.874 | Recall 0.659 | F1 0.807 \n",
      "[DURATION]: 0:00:07.612573\n",
      "Using device cpu.\n",
      "Train Epoch: 1[0/6185 (0%)]\tLoss: 0.692835\n",
      "Train      | Epoch 001 | Loss 0.491 | Accuracy 0.744 | Precision 0.782 | Recall 0.586 | F1 0.744 \n"
     ]
    },
    {
     "name": "stderr",
     "output_type": "stream",
     "text": [
      "\u001b[32m[I 2020-10-11 17:06:09,800]\u001b[0m Trial 7 finished with value: 0.873546511627907 and parameters: {'lr': 0.0032905503431091125, 'dropout_rate': 0.3165707874148863, 'hidden_dim': 24, 'embedding_dim': 13, 'n_layers': 7, 'optimizer': <class 'torch.optim.adam.Adam'>}. Best is trial 3 with value: 0.876453488372093.\u001b[0m\n"
     ]
    },
    {
     "name": "stdout",
     "output_type": "stream",
     "text": [
      "Validation | Epoch 001 | Loss 0.311 | Accuracy 0.874 | Precision 0.836 | Recall 0.889 | F1 0.874 \n",
      "[DURATION]: 0:00:08.818329\n",
      "Using device cpu.\n",
      "Train Epoch: 1[0/6185 (0%)]\tLoss: 0.713209\n",
      "Train      | Epoch 001 | Loss 0.705 | Accuracy 0.445 | Precision 0.440 | Recall 0.924 | F1 0.445 \n"
     ]
    },
    {
     "name": "stderr",
     "output_type": "stream",
     "text": [
      "\u001b[32m[I 2020-10-11 17:06:21,551]\u001b[0m Trial 8 finished with value: 0.4433139534883721 and parameters: {'lr': 0.0019535708602359944, 'dropout_rate': 0.24945851575606023, 'hidden_dim': 17, 'embedding_dim': 30, 'n_layers': 10, 'optimizer': <class 'torch.optim.sgd.SGD'>}. Best is trial 3 with value: 0.876453488372093.\u001b[0m\n"
     ]
    },
    {
     "name": "stdout",
     "output_type": "stream",
     "text": [
      "Validation | Epoch 001 | Loss 0.701 | Accuracy 0.443 | Precision 0.443 | Recall 1.000 | F1 0.443 \n",
      "[DURATION]: 0:00:11.718888\n",
      "Using device cpu.\n",
      "Train Epoch: 1[0/6185 (0%)]\tLoss: 0.702515\n",
      "Train      | Epoch 001 | Loss 0.489 | Accuracy 0.782 | Precision 0.794 | Recall 0.686 | F1 0.782 \n"
     ]
    },
    {
     "name": "stderr",
     "output_type": "stream",
     "text": [
      "\u001b[32m[I 2020-10-11 17:06:32,060]\u001b[0m Trial 9 finished with value: 0.7979651162790697 and parameters: {'lr': 0.0055491886929447815, 'dropout_rate': 0.10287155605862792, 'hidden_dim': 46, 'embedding_dim': 27, 'n_layers': 7, 'optimizer': <class 'torch.optim.adam.Adam'>}. Best is trial 3 with value: 0.876453488372093.\u001b[0m\n"
     ]
    },
    {
     "name": "stdout",
     "output_type": "stream",
     "text": [
      "Validation | Epoch 001 | Loss 0.434 | Accuracy 0.798 | Precision 0.755 | Recall 0.807 | F1 0.798 \n",
      "[DURATION]: 0:00:10.480792\n",
      "Using device cpu.\n",
      "Train Epoch: 1[0/6185 (0%)]\tLoss: 0.693419\n",
      "Train      | Epoch 001 | Loss 0.603 | Accuracy 0.673 | Precision 0.669 | Recall 0.520 | F1 0.673 \n",
      "Validation | Epoch 001 | Loss 0.539 | Accuracy 0.733 | Precision 0.673 | Recall 0.770 | F1 0.733 \n"
     ]
    },
    {
     "name": "stderr",
     "output_type": "stream",
     "text": [
      "\u001b[32m[I 2020-10-11 17:06:37,811]\u001b[0m Trial 10 finished with value: 0.7325581395348836 and parameters: {'lr': 0.0010030094870861215, 'dropout_rate': 0.1448146625448405, 'hidden_dim': 37, 'embedding_dim': 3, 'n_layers': 2, 'optimizer': <class 'torch.optim.adam.Adam'>}. Best is trial 3 with value: 0.876453488372093.\u001b[0m\n"
     ]
    },
    {
     "name": "stdout",
     "output_type": "stream",
     "text": [
      "[DURATION]: 0:00:05.622036\n",
      "Using device cpu.\n",
      "Train Epoch: 1[0/6185 (0%)]\tLoss: 0.706758\n",
      "Train      | Epoch 001 | Loss 0.565 | Accuracy 0.721 | Precision 0.722 | Recall 0.601 | F1 0.721 \n",
      "Validation | Epoch 001 | Loss 0.450 | Accuracy 0.782 | Precision 0.851 | Recall 0.616 | F1 0.782 "
     ]
    },
    {
     "name": "stderr",
     "output_type": "stream",
     "text": [
      "\u001b[32m[I 2020-10-11 17:06:42,317]\u001b[0m Trial 11 finished with value: 0.7819767441860465 and parameters: {'lr': 0.0028437524102781823, 'dropout_rate': 0.207836883172804, 'hidden_dim': 10, 'embedding_dim': 20, 'n_layers': 2, 'optimizer': <class 'torch.optim.adam.Adam'>}. Best is trial 3 with value: 0.876453488372093.\u001b[0m\n"
     ]
    },
    {
     "name": "stdout",
     "output_type": "stream",
     "text": [
      "\n",
      "[DURATION]: 0:00:04.461712\n",
      "Using device cpu.\n",
      "Train Epoch: 1[0/6185 (0%)]\tLoss: 0.697796\n",
      "Train      | Epoch 001 | Loss 0.468 | Accuracy 0.782 | Precision 0.792 | Recall 0.690 | F1 0.782 \n"
     ]
    },
    {
     "name": "stderr",
     "output_type": "stream",
     "text": [
      "\u001b[32m[I 2020-10-11 17:06:48,766]\u001b[0m Trial 12 finished with value: 0.8531976744186046 and parameters: {'lr': 0.002997407380345429, 'dropout_rate': 0.4159254694986451, 'hidden_dim': 34, 'embedding_dim': 8, 'n_layers': 4, 'optimizer': <class 'torch.optim.adam.Adam'>}. Best is trial 3 with value: 0.876453488372093.\u001b[0m\n"
     ]
    },
    {
     "name": "stdout",
     "output_type": "stream",
     "text": [
      "Validation | Epoch 001 | Loss 0.337 | Accuracy 0.853 | Precision 0.878 | Recall 0.777 | F1 0.853 \n",
      "[DURATION]: 0:00:06.394114\n",
      "Using device cpu.\n",
      "Train Epoch: 1[0/6185 (0%)]\tLoss: 0.741068\n",
      "Train      | Epoch 001 | Loss 0.587 | Accuracy 0.686 | Precision 0.707 | Recall 0.499 | F1 0.686 \n"
     ]
    },
    {
     "name": "stderr",
     "output_type": "stream",
     "text": [
      "\u001b[32m[I 2020-10-11 17:06:56,699]\u001b[0m Trial 13 finished with value: 0.751453488372093 and parameters: {'lr': 0.002335367193050911, 'dropout_rate': 0.25413158201974656, 'hidden_dim': 11, 'embedding_dim': 22, 'n_layers': 6, 'optimizer': <class 'torch.optim.adam.Adam'>}. Best is trial 3 with value: 0.876453488372093.\u001b[0m\n"
     ]
    },
    {
     "name": "stdout",
     "output_type": "stream",
     "text": [
      "Validation | Epoch 001 | Loss 0.509 | Accuracy 0.751 | Precision 0.810 | Recall 0.574 | F1 0.751 \n",
      "[DURATION]: 0:00:07.883556\n",
      "Using device cpu.\n",
      "Train Epoch: 1[0/6185 (0%)]\tLoss: 0.700628\n",
      "Train      | Epoch 001 | Loss 0.595 | Accuracy 0.685 | Precision 0.718 | Recall 0.475 | F1 0.685 \n"
     ]
    },
    {
     "name": "stderr",
     "output_type": "stream",
     "text": [
      "\u001b[32m[I 2020-10-11 17:07:04,656]\u001b[0m Trial 14 finished with value: 0.7340116279069767 and parameters: {'lr': 0.0010537394335409195, 'dropout_rate': 0.398713696163084, 'hidden_dim': 27, 'embedding_dim': 8, 'n_layers': 6, 'optimizer': <class 'torch.optim.adam.Adam'>}. Best is trial 3 with value: 0.876453488372093.\u001b[0m\n"
     ]
    },
    {
     "name": "stdout",
     "output_type": "stream",
     "text": [
      "Validation | Epoch 001 | Loss 0.515 | Accuracy 0.734 | Precision 0.748 | Recall 0.603 | F1 0.734 \n",
      "[DURATION]: 0:00:07.903535\n",
      "Using device cpu.\n",
      "Train Epoch: 1[0/6185 (0%)]\tLoss: 0.708608\n",
      "Train      | Epoch 001 | Loss 0.679 | Accuracy 0.613 | Precision 0.555 | Recall 0.644 | F1 0.613 \n"
     ]
    },
    {
     "name": "stderr",
     "output_type": "stream",
     "text": [
      "\u001b[32m[I 2020-10-11 17:07:10,878]\u001b[0m Trial 15 finished with value: 0.6875 and parameters: {'lr': 0.0038455985302165135, 'dropout_rate': 0.15916440218443237, 'hidden_dim': 40, 'embedding_dim': 23, 'n_layers': 3, 'optimizer': <class 'torch.optim.sgd.SGD'>}. Best is trial 3 with value: 0.876453488372093.\u001b[0m\n"
     ]
    },
    {
     "name": "stdout",
     "output_type": "stream",
     "text": [
      "Validation | Epoch 001 | Loss 0.666 | Accuracy 0.688 | Precision 0.676 | Recall 0.567 | F1 0.688 \n",
      "[DURATION]: 0:00:06.096632\n",
      "Using device cpu.\n",
      "Train Epoch: 1[0/6185 (0%)]\tLoss: 0.747146\n",
      "Train      | Epoch 001 | Loss 0.548 | Accuracy 0.734 | Precision 0.784 | Recall 0.552 | F1 0.734 \n",
      "Validation | Epoch 001 | Loss 0.561 | Accuracy 0.735 | Precision 0.753 | Recall 0.600 | F1 0.735 "
     ]
    },
    {
     "name": "stderr",
     "output_type": "stream",
     "text": [
      "\u001b[32m[I 2020-10-11 17:07:19,721]\u001b[0m Trial 16 finished with value: 0.7354651162790699 and parameters: {'lr': 0.009604991051808676, 'dropout_rate': 0.2928177072823961, 'hidden_dim': 16, 'embedding_dim': 15, 'n_layers': 7, 'optimizer': <class 'torch.optim.adam.Adam'>}. Best is trial 3 with value: 0.876453488372093.\u001b[0m\n"
     ]
    },
    {
     "name": "stdout",
     "output_type": "stream",
     "text": [
      "\n",
      "[DURATION]: 0:00:08.781451\n",
      "Using device cpu.\n",
      "Train Epoch: 1[0/6185 (0%)]\tLoss: 0.694998\n",
      "Train      | Epoch 001 | Loss 0.514 | Accuracy 0.753 | Precision 0.782 | Recall 0.613 | F1 0.753 \n",
      "Validation | Epoch 001 | Loss 0.385 | Accuracy 0.837 | Precision 0.937 | Recall 0.679 | F1 0.837 "
     ]
    },
    {
     "name": "stderr",
     "output_type": "stream",
     "text": [
      "\u001b[32m[I 2020-10-11 17:07:26,454]\u001b[0m Trial 17 finished with value: 0.8372093023255814 and parameters: {'lr': 0.0013187264936629813, 'dropout_rate': 0.19212524252573165, 'hidden_dim': 31, 'embedding_dim': 10, 'n_layers': 4, 'optimizer': <class 'torch.optim.adam.Adam'>}. Best is trial 3 with value: 0.876453488372093.\u001b[0m\n"
     ]
    },
    {
     "name": "stdout",
     "output_type": "stream",
     "text": [
      "\n",
      "[DURATION]: 0:00:06.685895\n",
      "Using device cpu.\n",
      "Train Epoch: 1[0/6185 (0%)]\tLoss: 0.691297\n",
      "Train      | Epoch 001 | Loss 0.572 | Accuracy 0.701 | Precision 0.741 | Recall 0.499 | F1 0.701 \n"
     ]
    },
    {
     "name": "stderr",
     "output_type": "stream",
     "text": [
      "\u001b[32m[I 2020-10-11 17:07:37,476]\u001b[0m Trial 18 finished with value: 0.8372093023255814 and parameters: {'lr': 0.0022755143217099353, 'dropout_rate': 0.2870266165248762, 'hidden_dim': 23, 'embedding_dim': 6, 'n_layers': 7, 'optimizer': <class 'torch.optim.adam.Adam'>}. Best is trial 3 with value: 0.876453488372093.\u001b[0m\n"
     ]
    },
    {
     "name": "stdout",
     "output_type": "stream",
     "text": [
      "Validation | Epoch 001 | Loss 0.381 | Accuracy 0.837 | Precision 0.881 | Recall 0.731 | F1 0.837 \n",
      "[DURATION]: 0:00:10.967562\n",
      "Using device cpu.\n",
      "Train Epoch: 1[0/6185 (0%)]\tLoss: 0.686429\n",
      "Train      | Epoch 001 | Loss 0.500 | Accuracy 0.766 | Precision 0.784 | Recall 0.651 | F1 0.766 \n"
     ]
    },
    {
     "name": "stderr",
     "output_type": "stream",
     "text": [
      "\u001b[32m[I 2020-10-11 17:08:09,546]\u001b[0m Trial 19 finished with value: 0.7950581395348837 and parameters: {'lr': 0.0036235755192635393, 'dropout_rate': 0.3898414673473246, 'hidden_dim': 49, 'embedding_dim': 18, 'n_layers': 5, 'optimizer': <class 'torch.optim.adam.Adam'>}. Best is trial 3 with value: 0.876453488372093.\u001b[0m\n"
     ]
    },
    {
     "name": "stdout",
     "output_type": "stream",
     "text": [
      "Validation | Epoch 001 | Loss 0.423 | Accuracy 0.795 | Precision 0.696 | Recall 0.954 | F1 0.795 \n",
      "[DURATION]: 0:00:31.909397\n",
      "Using device cpu.\n",
      "Train Epoch: 1[0/6185 (0%)]\tLoss: 0.724452\n",
      "Train      | Epoch 001 | Loss 0.713 | Accuracy 0.400 | Precision 0.383 | Recall 0.577 | F1 0.400 \n"
     ]
    },
    {
     "name": "stderr",
     "output_type": "stream",
     "text": [
      "\u001b[32m[I 2020-10-11 17:08:17,775]\u001b[0m Trial 20 finished with value: 0.5 and parameters: {'lr': 0.0025819834618646055, 'dropout_rate': 0.2035047308994744, 'hidden_dim': 26, 'embedding_dim': 25, 'n_layers': 3, 'optimizer': <class 'torch.optim.sgd.SGD'>}. Best is trial 3 with value: 0.876453488372093.\u001b[0m\n"
     ]
    },
    {
     "name": "stdout",
     "output_type": "stream",
     "text": [
      "Validation | Epoch 001 | Loss 0.701 | Accuracy 0.500 | Precision 0.410 | Recall 0.292 | F1 0.500 \n",
      "[DURATION]: 0:00:08.041875\n",
      "Using device cpu.\n",
      "Train Epoch: 1[0/6185 (0%)]\tLoss: 0.694588\n",
      "Train      | Epoch 001 | Loss 0.554 | Accuracy 0.725 | Precision 0.734 | Recall 0.595 | F1 0.725 \n"
     ]
    },
    {
     "name": "stderr",
     "output_type": "stream",
     "text": [
      "\u001b[32m[I 2020-10-11 17:08:33,858]\u001b[0m Trial 21 finished with value: 0.7848837209302325 and parameters: {'lr': 0.0033719496110564133, 'dropout_rate': 0.40405744899629825, 'hidden_dim': 34, 'embedding_dim': 4, 'n_layers': 4, 'optimizer': <class 'torch.optim.adam.Adam'>}. Best is trial 3 with value: 0.876453488372093.\u001b[0m\n"
     ]
    },
    {
     "name": "stdout",
     "output_type": "stream",
     "text": [
      "Validation | Epoch 001 | Loss 0.471 | Accuracy 0.785 | Precision 0.751 | Recall 0.770 | F1 0.785 \n",
      "[DURATION]: 0:00:16.010358\n",
      "Using device cpu.\n",
      "Train Epoch: 1[0/6185 (0%)]\tLoss: 0.713847\n",
      "Train      | Epoch 001 | Loss 0.470 | Accuracy 0.772 | Precision 0.778 | Recall 0.679 | F1 0.772 \n"
     ]
    },
    {
     "name": "stderr",
     "output_type": "stream",
     "text": [
      "\u001b[32m[I 2020-10-11 17:08:47,300]\u001b[0m Trial 22 finished with value: 0.8822674418604651 and parameters: {'lr': 0.0018090917165813284, 'dropout_rate': 0.43739930482779704, 'hidden_dim': 43, 'embedding_dim': 10, 'n_layers': 5, 'optimizer': <class 'torch.optim.adam.Adam'>}. Best is trial 22 with value: 0.8822674418604651.\u001b[0m\n"
     ]
    },
    {
     "name": "stdout",
     "output_type": "stream",
     "text": [
      "Validation | Epoch 001 | Loss 0.297 | Accuracy 0.882 | Precision 0.837 | Recall 0.911 | F1 0.882 \n",
      "[DURATION]: 0:00:13.373666\n",
      "Using device cpu.\n",
      "Train Epoch: 1[0/6185 (0%)]\tLoss: 0.693503\n",
      "Train      | Epoch 001 | Loss 0.538 | Accuracy 0.729 | Precision 0.748 | Recall 0.586 | F1 0.729 \n"
     ]
    },
    {
     "name": "stderr",
     "output_type": "stream",
     "text": [
      "\u001b[32m[I 2020-10-11 17:08:59,684]\u001b[0m Trial 23 finished with value: 0.8459302325581395 and parameters: {'lr': 0.0016458261565347626, 'dropout_rate': 0.4635045138043395, 'hidden_dim': 44, 'embedding_dim': 13, 'n_layers': 5, 'optimizer': <class 'torch.optim.adam.Adam'>}. Best is trial 22 with value: 0.8822674418604651.\u001b[0m\n"
     ]
    },
    {
     "name": "stdout",
     "output_type": "stream",
     "text": [
      "Validation | Epoch 001 | Loss 0.370 | Accuracy 0.846 | Precision 0.840 | Recall 0.807 | F1 0.846 \n",
      "[DURATION]: 0:00:12.179888\n",
      "Using device cpu.\n",
      "Train Epoch: 1[0/6185 (0%)]\tLoss: 0.705638\n",
      "Train      | Epoch 001 | Loss 0.531 | Accuracy 0.732 | Precision 0.746 | Recall 0.600 | F1 0.732 \n"
     ]
    },
    {
     "name": "stderr",
     "output_type": "stream",
     "text": [
      "\u001b[32m[I 2020-10-11 17:09:12,937]\u001b[0m Trial 24 finished with value: 0.7659883720930233 and parameters: {'lr': 0.0012918996164304043, 'dropout_rate': 0.3358808363304163, 'hidden_dim': 50, 'embedding_dim': 11, 'n_layers': 6, 'optimizer': <class 'torch.optim.adam.Adam'>}. Best is trial 22 with value: 0.8822674418604651.\u001b[0m\n"
     ]
    },
    {
     "name": "stdout",
     "output_type": "stream",
     "text": [
      "Validation | Epoch 001 | Loss 0.482 | Accuracy 0.766 | Precision 0.664 | Recall 0.954 | F1 0.766 \n",
      "[DURATION]: 0:00:13.186954\n",
      "Using device cpu.\n",
      "Train Epoch: 1[0/6185 (0%)]\tLoss: 0.721687\n",
      "Train      | Epoch 001 | Loss 0.487 | Accuracy 0.776 | Precision 0.763 | Recall 0.717 | F1 0.776 \n"
     ]
    },
    {
     "name": "stderr",
     "output_type": "stream",
     "text": [
      "\u001b[32m[I 2020-10-11 17:09:20,652]\u001b[0m Trial 25 finished with value: 0.7848837209302325 and parameters: {'lr': 0.0018960298072725312, 'dropout_rate': 0.4456982917498368, 'hidden_dim': 39, 'embedding_dim': 16, 'n_layers': 3, 'optimizer': <class 'torch.optim.rmsprop.RMSprop'>}. Best is trial 22 with value: 0.8822674418604651.\u001b[0m\n"
     ]
    },
    {
     "name": "stdout",
     "output_type": "stream",
     "text": [
      "Validation | Epoch 001 | Loss 0.476 | Accuracy 0.785 | Precision 0.772 | Recall 0.731 | F1 0.785 \n",
      "[DURATION]: 0:00:07.638954\n",
      "Using device cpu.\n",
      "Train Epoch: 1[0/6185 (0%)]\tLoss: 0.703196\n",
      "Train      | Epoch 001 | Loss 0.574 | Accuracy 0.695 | Precision 0.701 | Recall 0.545 | F1 0.695 \n"
     ]
    },
    {
     "name": "stderr",
     "output_type": "stream",
     "text": [
      "\u001b[32m[I 2020-10-11 17:09:36,258]\u001b[0m Trial 26 finished with value: 0.8183139534883721 and parameters: {'lr': 0.00113364341947194, 'dropout_rate': 0.3714685761110897, 'hidden_dim': 46, 'embedding_dim': 9, 'n_layers': 8, 'optimizer': <class 'torch.optim.adam.Adam'>}. Best is trial 22 with value: 0.8822674418604651.\u001b[0m\n"
     ]
    },
    {
     "name": "stdout",
     "output_type": "stream",
     "text": [
      "Validation | Epoch 001 | Loss 0.414 | Accuracy 0.818 | Precision 0.806 | Recall 0.777 | F1 0.818 \n",
      "[DURATION]: 0:00:15.403614\n",
      "Using device cpu.\n",
      "Train Epoch: 1[0/6185 (0%)]\tLoss: 0.693021\n",
      "Train      | Epoch 001 | Loss 0.566 | Accuracy 0.698 | Precision 0.720 | Recall 0.522 | F1 0.698 \n",
      "Validation | Epoch 001 | Loss 0.404 | Accuracy 0.797 | Precision 0.854 | Recall 0.652 | F1 0.797 "
     ]
    },
    {
     "name": "stderr",
     "output_type": "stream",
     "text": [
      "\u001b[32m[I 2020-10-11 17:09:47,308]\u001b[0m Trial 27 finished with value: 0.7965116279069767 and parameters: {'lr': 0.0016252392708023932, 'dropout_rate': 0.28204061443275535, 'hidden_dim': 36, 'embedding_dim': 6, 'n_layers': 7, 'optimizer': <class 'torch.optim.adam.Adam'>}. Best is trial 22 with value: 0.8822674418604651.\u001b[0m\n"
     ]
    },
    {
     "name": "stdout",
     "output_type": "stream",
     "text": [
      "\n",
      "[DURATION]: 0:00:10.989716\n",
      "Using device cpu.\n",
      "Train Epoch: 1[0/6185 (0%)]\tLoss: 0.692887\n",
      "Train      | Epoch 001 | Loss 0.587 | Accuracy 0.697 | Precision 0.714 | Recall 0.528 | F1 0.697 \n"
     ]
    },
    {
     "name": "stderr",
     "output_type": "stream",
     "text": [
      "\u001b[32m[I 2020-10-11 17:09:58,019]\u001b[0m Trial 28 finished with value: 0.8081395348837209 and parameters: {'lr': 0.0021130277323256528, 'dropout_rate': 0.49988093456779853, 'hidden_dim': 46, 'embedding_dim': 17, 'n_layers': 8, 'optimizer': <class 'torch.optim.adam.Adam'>}. Best is trial 22 with value: 0.8822674418604651.\u001b[0m\n"
     ]
    },
    {
     "name": "stdout",
     "output_type": "stream",
     "text": [
      "Validation | Epoch 001 | Loss 0.490 | Accuracy 0.808 | Precision 0.819 | Recall 0.728 | F1 0.808 \n",
      "[DURATION]: 0:00:10.664177\n",
      "Using device cpu.\n",
      "Train Epoch: 1[0/6185 (0%)]\tLoss: 0.684069\n",
      "Train      | Epoch 001 | Loss 0.504 | Accuracy 0.774 | Precision 0.786 | Recall 0.674 | F1 0.774 \n"
     ]
    },
    {
     "name": "stderr",
     "output_type": "stream",
     "text": [
      "\u001b[32m[I 2020-10-11 17:10:05,435]\u001b[0m Trial 29 finished with value: 0.8241279069767442 and parameters: {'lr': 0.004162881449446536, 'dropout_rate': 0.33872062360864685, 'hidden_dim': 43, 'embedding_dim': 12, 'n_layers': 5, 'optimizer': <class 'torch.optim.adam.Adam'>}. Best is trial 22 with value: 0.8822674418604651.\u001b[0m\n"
     ]
    },
    {
     "name": "stdout",
     "output_type": "stream",
     "text": [
      "Validation | Epoch 001 | Loss 0.432 | Accuracy 0.824 | Precision 0.846 | Recall 0.738 | F1 0.824 \n",
      "[DURATION]: 0:00:07.299097\n",
      "Using device cpu.\n",
      "Train Epoch: 1[0/6185 (0%)]\tLoss: 0.727838\n",
      "Train      | Epoch 001 | Loss 0.569 | Accuracy 0.717 | Precision 0.733 | Recall 0.567 | F1 0.717 \n"
     ]
    },
    {
     "name": "stderr",
     "output_type": "stream",
     "text": [
      "\u001b[32m[I 2020-10-11 17:10:13,775]\u001b[0m Trial 30 finished with value: 0.8125 and parameters: {'lr': 0.0026629404571314576, 'dropout_rate': 0.3159246345508254, 'hidden_dim': 21, 'embedding_dim': 12, 'n_layers': 6, 'optimizer': <class 'torch.optim.adam.Adam'>}. Best is trial 22 with value: 0.8822674418604651.\u001b[0m\n"
     ]
    },
    {
     "name": "stdout",
     "output_type": "stream",
     "text": [
      "Validation | Epoch 001 | Loss 0.467 | Accuracy 0.812 | Precision 0.870 | Recall 0.679 | F1 0.812 \n",
      "[DURATION]: 0:00:08.278154\n",
      "Using device cpu.\n",
      "Train Epoch: 1[0/6185 (0%)]\tLoss: 0.705078\n",
      "Train      | Epoch 001 | Loss 0.531 | Accuracy 0.741 | Precision 0.766 | Recall 0.599 | F1 0.741 \n",
      "Validation | Epoch 001 | Loss 0.486 | Accuracy 0.795 | Precision 0.853 | Recall 0.649 | F1 0.795 \n"
     ]
    },
    {
     "name": "stderr",
     "output_type": "stream",
     "text": [
      "\u001b[32m[I 2020-10-11 17:10:18,981]\u001b[0m Trial 31 finished with value: 0.7950581395348837 and parameters: {'lr': 0.0029937958668636772, 'dropout_rate': 0.4248871585169714, 'hidden_dim': 33, 'embedding_dim': 7, 'n_layers': 3, 'optimizer': <class 'torch.optim.adam.Adam'>}. Best is trial 22 with value: 0.8822674418604651.\u001b[0m\n"
     ]
    },
    {
     "name": "stdout",
     "output_type": "stream",
     "text": [
      "[DURATION]: 0:00:05.161317\n",
      "Using device cpu.\n",
      "Train Epoch: 1[0/6185 (0%)]\tLoss: 0.700847\n",
      "Train      | Epoch 001 | Loss 0.494 | Accuracy 0.770 | Precision 0.780 | Recall 0.671 | F1 0.770 \n",
      "Validation | Epoch 001 | Loss 0.329 | Accuracy 0.871 | Precision 0.870 | Recall 0.833 | F1 0.871 "
     ]
    },
    {
     "name": "stderr",
     "output_type": "stream",
     "text": [
      "\u001b[32m[I 2020-10-11 17:10:25,361]\u001b[0m Trial 32 finished with value: 0.8706395348837209 and parameters: {'lr': 0.006446352153068239, 'dropout_rate': 0.421220454965316, 'hidden_dim': 40, 'embedding_dim': 10, 'n_layers': 4, 'optimizer': <class 'torch.optim.adam.Adam'>}. Best is trial 22 with value: 0.8822674418604651.\u001b[0m\n"
     ]
    },
    {
     "name": "stdout",
     "output_type": "stream",
     "text": [
      "\n",
      "[DURATION]: 0:00:06.334172\n",
      "Using device cpu.\n",
      "Train Epoch: 1[0/6185 (0%)]\tLoss: 0.703680\n",
      "Train      | Epoch 001 | Loss 0.481 | Accuracy 0.779 | Precision 0.783 | Recall 0.694 | F1 0.779 \n"
     ]
    },
    {
     "name": "stderr",
     "output_type": "stream",
     "text": [
      "\u001b[32m[I 2020-10-11 17:10:31,990]\u001b[0m Trial 33 finished with value: 0.8619186046511628 and parameters: {'lr': 0.0060239513089793825, 'dropout_rate': 0.48092625554410323, 'hidden_dim': 40, 'embedding_dim': 10, 'n_layers': 4, 'optimizer': <class 'torch.optim.adam.Adam'>}. Best is trial 22 with value: 0.8822674418604651.\u001b[0m\n"
     ]
    },
    {
     "name": "stdout",
     "output_type": "stream",
     "text": [
      "Validation | Epoch 001 | Loss 0.339 | Accuracy 0.862 | Precision 0.913 | Recall 0.761 | F1 0.862 \n",
      "[DURATION]: 0:00:06.577284\n",
      "Using device cpu.\n",
      "Train Epoch: 1[0/6185 (0%)]\tLoss: 0.701127\n",
      "Train      | Epoch 001 | Loss 0.639 | Accuracy 0.635 | Precision 0.623 | Recall 0.449 | F1 0.635 \n"
     ]
    },
    {
     "name": "stderr",
     "output_type": "stream",
     "text": [
      "\u001b[32m[I 2020-10-11 17:10:40,092]\u001b[0m Trial 34 finished with value: 0.7587209302325583 and parameters: {'lr': 0.0073410622827736445, 'dropout_rate': 0.3575454331952, 'hidden_dim': 42, 'embedding_dim': 14, 'n_layers': 5, 'optimizer': <class 'torch.optim.rmsprop.RMSprop'>}. Best is trial 22 with value: 0.8822674418604651.\u001b[0m\n"
     ]
    },
    {
     "name": "stdout",
     "output_type": "stream",
     "text": [
      "Validation | Epoch 001 | Loss 0.559 | Accuracy 0.759 | Precision 0.764 | Recall 0.659 | F1 0.759 \n",
      "[DURATION]: 0:00:07.975814\n",
      "Using device cpu.\n",
      "Train Epoch: 1[0/6185 (0%)]\tLoss: 0.687499\n",
      "Train      | Epoch 001 | Loss 0.501 | Accuracy 0.777 | Precision 0.808 | Recall 0.650 | F1 0.777 \n",
      "Validation | Epoch 001 | Loss 0.435 | Accuracy 0.818 | Precision 0.891 | Recall 0.672 | F1 0.818 "
     ]
    },
    {
     "name": "stderr",
     "output_type": "stream",
     "text": [
      "\u001b[32m[I 2020-10-11 17:10:48,432]\u001b[0m Trial 35 finished with value: 0.8183139534883721 and parameters: {'lr': 0.008114184407773136, 'dropout_rate': 0.4349290029366972, 'hidden_dim': 47, 'embedding_dim': 11, 'n_layers': 4, 'optimizer': <class 'torch.optim.adam.Adam'>}. Best is trial 22 with value: 0.8822674418604651.\u001b[0m\n"
     ]
    },
    {
     "name": "stdout",
     "output_type": "stream",
     "text": [
      "\n",
      "[DURATION]: 0:00:08.266371\n",
      "Using device cpu.\n",
      "Train Epoch: 1[0/6185 (0%)]\tLoss: 0.707079\n",
      "Train      | Epoch 001 | Loss 0.694 | Accuracy 0.501 | Precision 0.461 | Recall 0.735 | F1 0.501 \n",
      "Validation | Epoch 001 | Loss 0.687 | Accuracy 0.645 | Precision 0.629 | Recall 0.489 | F1 0.645 \n"
     ]
    },
    {
     "name": "stderr",
     "output_type": "stream",
     "text": [
      "\u001b[32m[I 2020-10-11 17:10:55,727]\u001b[0m Trial 36 finished with value: 0.6453488372093024 and parameters: {'lr': 0.004688935013906938, 'dropout_rate': 0.2692183208064718, 'hidden_dim': 24, 'embedding_dim': 19, 'n_layers': 5, 'optimizer': <class 'torch.optim.sgd.SGD'>}. Best is trial 22 with value: 0.8822674418604651.\u001b[0m\n"
     ]
    },
    {
     "name": "stdout",
     "output_type": "stream",
     "text": [
      "[DURATION]: 0:00:07.242270\n",
      "Using device cpu.\n",
      "Train Epoch: 1[0/6185 (0%)]\tLoss: 0.699241\n",
      "Train      | Epoch 001 | Loss 0.452 | Accuracy 0.800 | Precision 0.814 | Recall 0.712 | F1 0.800 \n",
      "Validation | Epoch 001 | Loss 0.376 | Accuracy 0.855 | Precision 0.881 | Recall 0.777 | F1 0.855 \n"
     ]
    },
    {
     "name": "stderr",
     "output_type": "stream",
     "text": [
      "\u001b[32m[I 2020-10-11 17:11:00,970]\u001b[0m Trial 37 finished with value: 0.8546511627906976 and parameters: {'lr': 0.0014714529569094846, 'dropout_rate': 0.2351763849115649, 'hidden_dim': 29, 'embedding_dim': 13, 'n_layers': 3, 'optimizer': <class 'torch.optim.rmsprop.RMSprop'>}. Best is trial 22 with value: 0.8822674418604651.\u001b[0m\n"
     ]
    },
    {
     "name": "stdout",
     "output_type": "stream",
     "text": [
      "[DURATION]: 0:00:05.199494\n",
      "Using device cpu.\n",
      "Train Epoch: 1[0/6185 (0%)]\tLoss: 0.689340\n",
      "Train      | Epoch 001 | Loss 0.605 | Accuracy 0.686 | Precision 0.682 | Recall 0.547 | F1 0.686 \n"
     ]
    },
    {
     "name": "stderr",
     "output_type": "stream",
     "text": [
      "\u001b[32m[I 2020-10-11 17:11:12,068]\u001b[0m Trial 38 finished with value: 0.7601744186046512 and parameters: {'lr': 0.006324140625877464, 'dropout_rate': 0.31966544817567755, 'hidden_dim': 44, 'embedding_dim': 5, 'n_layers': 9, 'optimizer': <class 'torch.optim.adam.Adam'>}. Best is trial 22 with value: 0.8822674418604651.\u001b[0m\n"
     ]
    },
    {
     "name": "stdout",
     "output_type": "stream",
     "text": [
      "Validation | Epoch 001 | Loss 0.529 | Accuracy 0.760 | Precision 0.812 | Recall 0.597 | F1 0.760 \n",
      "[DURATION]: 0:00:11.048813\n",
      "Using device cpu.\n",
      "Train Epoch: 1[0/6185 (0%)]\tLoss: 0.695174\n",
      "Train      | Epoch 001 | Loss 0.527 | Accuracy 0.751 | Precision 0.767 | Recall 0.628 | F1 0.751 \n",
      "Validation | Epoch 001 | Loss 0.475 | Accuracy 0.807 | Precision 0.861 | Recall 0.672 | F1 0.807 \n"
     ]
    },
    {
     "name": "stderr",
     "output_type": "stream",
     "text": [
      "\u001b[32m[I 2020-10-11 17:11:19,085]\u001b[0m Trial 39 finished with value: 0.8066860465116279 and parameters: {'lr': 0.001159002927084947, 'dropout_rate': 0.3739350287670854, 'hidden_dim': 37, 'embedding_dim': 15, 'n_layers': 4, 'optimizer': <class 'torch.optim.adam.Adam'>}. Best is trial 22 with value: 0.8822674418604651.\u001b[0m\n"
     ]
    },
    {
     "name": "stdout",
     "output_type": "stream",
     "text": [
      "[DURATION]: 0:00:06.866391\n",
      "Using device cpu.\n",
      "Train Epoch: 1[0/6185 (0%)]\tLoss: 0.683549\n",
      "Train      | Epoch 001 | Loss 0.526 | Accuracy 0.751 | Precision 0.820 | Recall 0.561 | F1 0.751 \n",
      "Validation | Epoch 001 | Loss 0.463 | Accuracy 0.776 | Precision 0.775 | Recall 0.698 | F1 0.776 \n"
     ]
    },
    {
     "name": "stderr",
     "output_type": "stream",
     "text": [
      "\u001b[32m[I 2020-10-11 17:11:23,427]\u001b[0m Trial 40 finished with value: 0.7761627906976744 and parameters: {'lr': 0.0018336159811233148, 'dropout_rate': 0.2321464362807883, 'hidden_dim': 19, 'embedding_dim': 28, 'n_layers': 2, 'optimizer': <class 'torch.optim.adam.Adam'>}. Best is trial 22 with value: 0.8822674418604651.\u001b[0m\n"
     ]
    },
    {
     "name": "stdout",
     "output_type": "stream",
     "text": [
      "[DURATION]: 0:00:04.293966\n",
      "Using device cpu.\n",
      "Train Epoch: 1[0/6185 (0%)]\tLoss: 0.703736\n",
      "Train      | Epoch 001 | Loss 0.490 | Accuracy 0.773 | Precision 0.781 | Recall 0.677 | F1 0.773 \n",
      "Validation | Epoch 001 | Loss 0.359 | Accuracy 0.853 | Precision 0.932 | Recall 0.721 | F1 0.853 "
     ]
    },
    {
     "name": "stderr",
     "output_type": "stream",
     "text": [
      "\u001b[32m[I 2020-10-11 17:11:29,836]\u001b[0m Trial 41 finished with value: 0.8531976744186046 and parameters: {'lr': 0.0062708367501905305, 'dropout_rate': 0.4777280780515258, 'hidden_dim': 40, 'embedding_dim': 10, 'n_layers': 4, 'optimizer': <class 'torch.optim.adam.Adam'>}. Best is trial 22 with value: 0.8822674418604651.\u001b[0m\n"
     ]
    },
    {
     "name": "stdout",
     "output_type": "stream",
     "text": [
      "\n",
      "[DURATION]: 0:00:06.358423\n",
      "Using device cpu.\n",
      "Train Epoch: 1[0/6185 (0%)]\tLoss: 0.678408\n",
      "Train      | Epoch 001 | Loss 0.527 | Accuracy 0.748 | Precision 0.757 | Recall 0.636 | F1 0.748 \n",
      "Validation | Epoch 001 | Loss 0.470 | Accuracy 0.802 | Precision 0.819 | Recall 0.711 | F1 0.802 \n"
     ]
    },
    {
     "name": "stderr",
     "output_type": "stream",
     "text": [
      "\u001b[32m[I 2020-10-11 17:11:37,719]\u001b[0m Trial 42 finished with value: 0.8023255813953488 and parameters: {'lr': 0.005099795105717838, 'dropout_rate': 0.496694611559897, 'hidden_dim': 39, 'embedding_dim': 9, 'n_layers': 5, 'optimizer': <class 'torch.optim.adam.Adam'>}. Best is trial 22 with value: 0.8822674418604651.\u001b[0m\n"
     ]
    },
    {
     "name": "stdout",
     "output_type": "stream",
     "text": [
      "[DURATION]: 0:00:07.831474\n",
      "Using device cpu.\n",
      "Train Epoch: 1[0/6185 (0%)]\tLoss: 0.693344\n",
      "Train      | Epoch 001 | Loss 0.516 | Accuracy 0.756 | Precision 0.766 | Recall 0.647 | F1 0.756 \n",
      "Validation | Epoch 001 | Loss 0.466 | Accuracy 0.812 | Precision 0.886 | Recall 0.662 | F1 0.812 "
     ]
    },
    {
     "name": "stderr",
     "output_type": "stream",
     "text": [
      "\u001b[32m[I 2020-10-11 17:11:44,807]\u001b[0m Trial 43 finished with value: 0.8125 and parameters: {'lr': 0.00912399453970118, 'dropout_rate': 0.47601147074425054, 'hidden_dim': 42, 'embedding_dim': 10, 'n_layers': 4, 'optimizer': <class 'torch.optim.adam.Adam'>}. Best is trial 22 with value: 0.8822674418604651.\u001b[0m\n"
     ]
    },
    {
     "name": "stdout",
     "output_type": "stream",
     "text": [
      "\n",
      "[DURATION]: 0:00:07.042176\n",
      "Using device cpu.\n",
      "Train Epoch: 1[0/6185 (0%)]\tLoss: 0.698099\n",
      "Train      | Epoch 001 | Loss 0.467 | Accuracy 0.796 | Precision 0.812 | Recall 0.702 | F1 0.796 \n",
      "Validation | Epoch 001 | Loss 0.404 | Accuracy 0.831 | Precision 0.823 | Recall 0.790 | F1 0.831 "
     ]
    },
    {
     "name": "stderr",
     "output_type": "stream",
     "text": [
      "\u001b[32m[I 2020-10-11 17:11:51,091]\u001b[0m Trial 44 finished with value: 0.8313953488372093 and parameters: {'lr': 0.006247517428116719, 'dropout_rate': 0.46906575094097114, 'hidden_dim': 48, 'embedding_dim': 8, 'n_layers': 3, 'optimizer': <class 'torch.optim.adam.Adam'>}. Best is trial 22 with value: 0.8822674418604651.\u001b[0m\n"
     ]
    },
    {
     "name": "stdout",
     "output_type": "stream",
     "text": [
      "\n",
      "[DURATION]: 0:00:06.168284\n",
      "Using device cpu.\n",
      "Train Epoch: 1[0/6185 (0%)]\tLoss: 0.693388\n",
      "Train      | Epoch 001 | Loss 0.526 | Accuracy 0.758 | Precision 0.773 | Recall 0.644 | F1 0.758 \n",
      "Validation | Epoch 001 | Loss 0.489 | Accuracy 0.791 | Precision 0.848 | Recall 0.643 | F1 0.791 "
     ]
    },
    {
     "name": "stderr",
     "output_type": "stream",
     "text": [
      "\u001b[32m[I 2020-10-11 17:11:58,634]\u001b[0m Trial 45 finished with value: 0.7906976744186046 and parameters: {'lr': 0.007309885730275415, 'dropout_rate': 0.4497118958086122, 'hidden_dim': 45, 'embedding_dim': 11, 'n_layers': 5, 'optimizer': <class 'torch.optim.adam.Adam'>}. Best is trial 22 with value: 0.8822674418604651.\u001b[0m\n"
     ]
    },
    {
     "name": "stdout",
     "output_type": "stream",
     "text": [
      "\n",
      "[DURATION]: 0:00:07.482362\n",
      "Using device cpu.\n",
      "Train Epoch: 1[0/6185 (0%)]\tLoss: 0.702474\n",
      "Train      | Epoch 001 | Loss 0.692 | Accuracy 0.519 | Precision 0.448 | Recall 0.369 | F1 0.519 \n",
      "Validation | Epoch 001 | Loss 0.687 | Accuracy 0.557 | Precision 0.000 | Recall 0.000 | F1 0.557 "
     ]
    },
    {
     "name": "stderr",
     "output_type": "stream",
     "text": [
      "\u001b[32m[I 2020-10-11 17:12:06,675]\u001b[0m Trial 46 finished with value: 0.5566860465116279 and parameters: {'lr': 0.00544237753460204, 'dropout_rate': 0.42335014818463795, 'hidden_dim': 41, 'embedding_dim': 13, 'n_layers': 6, 'optimizer': <class 'torch.optim.sgd.SGD'>}. Best is trial 22 with value: 0.8822674418604651.\u001b[0m\n"
     ]
    },
    {
     "name": "stdout",
     "output_type": "stream",
     "text": [
      "\n",
      "[DURATION]: 0:00:07.994561\n",
      "Using device cpu.\n",
      "Train Epoch: 1[0/6185 (0%)]\tLoss: 0.707771\n",
      "Train      | Epoch 001 | Loss 0.530 | Accuracy 0.744 | Precision 0.775 | Recall 0.594 | F1 0.744 \n",
      "Validation | Epoch 001 | Loss 0.522 | Accuracy 0.749 | Precision 0.817 | Recall 0.557 | F1 0.749 \n"
     ]
    },
    {
     "name": "stderr",
     "output_type": "stream",
     "text": [
      "\u001b[32m[I 2020-10-11 17:12:13,331]\u001b[0m Trial 47 finished with value: 0.748546511627907 and parameters: {'lr': 0.0042311871810559384, 'dropout_rate': 0.4875661173242515, 'hidden_dim': 50, 'embedding_dim': 7, 'n_layers': 4, 'optimizer': <class 'torch.optim.adam.Adam'>}. Best is trial 22 with value: 0.8822674418604651.\u001b[0m\n"
     ]
    },
    {
     "name": "stdout",
     "output_type": "stream",
     "text": [
      "[DURATION]: 0:00:06.606585\n",
      "Using device cpu.\n",
      "Train Epoch: 1[0/6185 (0%)]\tLoss: 0.704693\n",
      "Train      | Epoch 001 | Loss 0.509 | Accuracy 0.764 | Precision 0.813 | Recall 0.609 | F1 0.764 \n",
      "Validation | Epoch 001 | Loss 0.455 | Accuracy 0.811 | Precision 0.889 | Recall 0.656 | F1 0.811 \n"
     ]
    },
    {
     "name": "stderr",
     "output_type": "stream",
     "text": [
      "\u001b[32m[I 2020-10-11 17:12:18,176]\u001b[0m Trial 48 finished with value: 0.811046511627907 and parameters: {'lr': 0.0014625463240859173, 'dropout_rate': 0.44921552407347776, 'hidden_dim': 36, 'embedding_dim': 15, 'n_layers': 2, 'optimizer': <class 'torch.optim.adam.Adam'>}. Best is trial 22 with value: 0.8822674418604651.\u001b[0m\n"
     ]
    },
    {
     "name": "stdout",
     "output_type": "stream",
     "text": [
      "[DURATION]: 0:00:04.791177\n",
      "Using device cpu.\n",
      "Train Epoch: 1[0/6185 (0%)]\tLoss: 0.694388\n",
      "Train      | Epoch 001 | Loss 0.638 | Accuracy 0.635 | Precision 0.636 | Recall 0.415 | F1 0.635 \n"
     ]
    },
    {
     "name": "stderr",
     "output_type": "stream",
     "text": [
      "\u001b[32m[I 2020-10-11 17:12:27,627]\u001b[0m Trial 49 finished with value: 0.7441860465116278 and parameters: {'lr': 0.00873131031013095, 'dropout_rate': 0.17908813588465944, 'hidden_dim': 30, 'embedding_dim': 9, 'n_layers': 7, 'optimizer': <class 'torch.optim.rmsprop.RMSprop'>}. Best is trial 22 with value: 0.8822674418604651.\u001b[0m\n"
     ]
    },
    {
     "name": "stdout",
     "output_type": "stream",
     "text": [
      "Validation | Epoch 001 | Loss 0.584 | Accuracy 0.744 | Precision 0.774 | Recall 0.597 | F1 0.744 \n",
      "[DURATION]: 0:00:09.334688\n",
      "Using device cpu.\n",
      "Train Epoch: 1[0/6185 (0%)]\tLoss: 0.688166\n",
      "Train      | Epoch 001 | Loss 0.692 | Accuracy 0.546 | Precision 0.456 | Recall 0.124 | F1 0.546 \n"
     ]
    },
    {
     "name": "stderr",
     "output_type": "stream",
     "text": [
      "\u001b[32m[I 2020-10-11 17:12:39,967]\u001b[0m Trial 50 finished with value: 0.5566860465116279 and parameters: {'lr': 0.007099648988570592, 'dropout_rate': 0.38568049225009476, 'hidden_dim': 38, 'embedding_dim': 3, 'n_layers': 10, 'optimizer': <class 'torch.optim.adam.Adam'>}. Best is trial 22 with value: 0.8822674418604651.\u001b[0m\n"
     ]
    },
    {
     "name": "stdout",
     "output_type": "stream",
     "text": [
      "Validation | Epoch 001 | Loss 0.687 | Accuracy 0.557 | Precision 0.000 | Recall 0.000 | F1 0.557 \n",
      "[DURATION]: 0:00:12.293405\n",
      "Using device cpu.\n",
      "Train Epoch: 1[0/6185 (0%)]\tLoss: 0.723452\n",
      "Train      | Epoch 001 | Loss 0.474 | Accuracy 0.789 | Precision 0.803 | Recall 0.694 | F1 0.789 \n",
      "Validation | Epoch 001 | Loss 0.411 | Accuracy 0.824 | Precision 0.813 | Recall 0.784 | F1 0.824 \n"
     ]
    },
    {
     "name": "stderr",
     "output_type": "stream",
     "text": [
      "\u001b[32m[I 2020-10-11 17:12:45,441]\u001b[0m Trial 51 finished with value: 0.8241279069767442 and parameters: {'lr': 0.0014451414556214375, 'dropout_rate': 0.22711008658919726, 'hidden_dim': 28, 'embedding_dim': 13, 'n_layers': 3, 'optimizer': <class 'torch.optim.rmsprop.RMSprop'>}. Best is trial 22 with value: 0.8822674418604651.\u001b[0m\n"
     ]
    },
    {
     "name": "stdout",
     "output_type": "stream",
     "text": [
      "[DURATION]: 0:00:05.420552\n",
      "Using device cpu.\n",
      "Train Epoch: 1[0/6185 (0%)]\tLoss: 0.683123\n",
      "Train      | Epoch 001 | Loss 0.476 | Accuracy 0.780 | Precision 0.790 | Recall 0.686 | F1 0.780 \n"
     ]
    },
    {
     "name": "stderr",
     "output_type": "stream",
     "text": [
      "\u001b[32m[I 2020-10-11 17:12:51,088]\u001b[0m Trial 52 finished with value: 0.75 and parameters: {'lr': 0.0012540854469642755, 'dropout_rate': 0.2643966900822667, 'hidden_dim': 32, 'embedding_dim': 13, 'n_layers': 3, 'optimizer': <class 'torch.optim.rmsprop.RMSprop'>}. Best is trial 22 with value: 0.8822674418604651.\u001b[0m\n"
     ]
    },
    {
     "name": "stdout",
     "output_type": "stream",
     "text": [
      "Validation | Epoch 001 | Loss 0.468 | Accuracy 0.750 | Precision 0.667 | Recall 0.872 | F1 0.750 \n",
      "[DURATION]: 0:00:05.596430\n",
      "Using device cpu.\n",
      "Train Epoch: 1[0/6185 (0%)]\tLoss: 0.687181\n",
      "Train      | Epoch 001 | Loss 0.501 | Accuracy 0.775 | Precision 0.791 | Recall 0.669 | F1 0.775 \n"
     ]
    },
    {
     "name": "stderr",
     "output_type": "stream",
     "text": [
      "\u001b[32m[I 2020-10-11 17:12:59,820]\u001b[0m Trial 53 finished with value: 0.8081395348837209 and parameters: {'lr': 0.0015361270336265366, 'dropout_rate': 0.23708534273433637, 'hidden_dim': 25, 'embedding_dim': 11, 'n_layers': 4, 'optimizer': <class 'torch.optim.rmsprop.RMSprop'>}. Best is trial 22 with value: 0.8822674418604651.\u001b[0m\n"
     ]
    },
    {
     "name": "stdout",
     "output_type": "stream",
     "text": [
      "Validation | Epoch 001 | Loss 0.479 | Accuracy 0.808 | Precision 0.914 | Recall 0.626 | F1 0.808 \n",
      "[DURATION]: 0:00:08.545569\n",
      "Using device cpu.\n",
      "Train Epoch: 1[0/6185 (0%)]\tLoss: 0.698021\n",
      "Train      | Epoch 001 | Loss 0.450 | Accuracy 0.794 | Precision 0.801 | Recall 0.712 | F1 0.794 \n"
     ]
    },
    {
     "name": "stderr",
     "output_type": "stream",
     "text": [
      "\u001b[32m[I 2020-10-11 17:13:09,812]\u001b[0m Trial 54 finished with value: 0.8386627906976745 and parameters: {'lr': 0.0020773741747596016, 'dropout_rate': 0.11979097827530827, 'hidden_dim': 28, 'embedding_dim': 14, 'n_layers': 3, 'optimizer': <class 'torch.optim.rmsprop.RMSprop'>}. Best is trial 22 with value: 0.8822674418604651.\u001b[0m\n"
     ]
    },
    {
     "name": "stdout",
     "output_type": "stream",
     "text": [
      "Validation | Epoch 001 | Loss 0.358 | Accuracy 0.839 | Precision 0.828 | Recall 0.803 | F1 0.839 \n",
      "[DURATION]: 0:00:09.910421\n",
      "Using device cpu.\n",
      "Train Epoch: 1[0/6185 (0%)]\tLoss: 0.702183\n",
      "Train      | Epoch 001 | Loss 0.500 | Accuracy 0.770 | Precision 0.776 | Recall 0.677 | F1 0.770 \n"
     ]
    },
    {
     "name": "stderr",
     "output_type": "stream",
     "text": [
      "\u001b[32m[I 2020-10-11 17:13:21,790]\u001b[0m Trial 55 finished with value: 0.8023255813953488 and parameters: {'lr': 0.0010068561434161823, 'dropout_rate': 0.3028335925409663, 'hidden_dim': 29, 'embedding_dim': 16, 'n_layers': 5, 'optimizer': <class 'torch.optim.rmsprop.RMSprop'>}. Best is trial 22 with value: 0.8822674418604651.\u001b[0m\n"
     ]
    },
    {
     "name": "stdout",
     "output_type": "stream",
     "text": [
      "Validation | Epoch 001 | Loss 0.450 | Accuracy 0.802 | Precision 0.799 | Recall 0.741 | F1 0.802 \n",
      "[DURATION]: 0:00:11.905457\n",
      "Using device cpu.\n",
      "Train Epoch: 1[0/6185 (0%)]\tLoss: 0.705388\n",
      "Train      | Epoch 001 | Loss 0.474 | Accuracy 0.787 | Precision 0.807 | Recall 0.682 | F1 0.787 \n"
     ]
    },
    {
     "name": "stderr",
     "output_type": "stream",
     "text": [
      "\u001b[32m[I 2020-10-11 17:13:42,066]\u001b[0m Trial 56 finished with value: 0.8604651162790697 and parameters: {'lr': 0.002425324534770651, 'dropout_rate': 0.4087973307760868, 'hidden_dim': 44, 'embedding_dim': 21, 'n_layers': 4, 'optimizer': <class 'torch.optim.adam.Adam'>}. Best is trial 22 with value: 0.8822674418604651.\u001b[0m\n"
     ]
    },
    {
     "name": "stdout",
     "output_type": "stream",
     "text": [
      "Validation | Epoch 001 | Loss 0.359 | Accuracy 0.860 | Precision 0.872 | Recall 0.803 | F1 0.860 \n",
      "[DURATION]: 0:00:20.113388\n",
      "Using device cpu.\n",
      "Train Epoch: 1[0/6185 (0%)]\tLoss: 0.714490\n",
      "Train      | Epoch 001 | Loss 0.495 | Accuracy 0.769 | Precision 0.791 | Recall 0.651 | F1 0.769 \n"
     ]
    },
    {
     "name": "stderr",
     "output_type": "stream",
     "text": [
      "\u001b[32m[I 2020-10-11 17:13:54,173]\u001b[0m Trial 57 finished with value: 0.8401162790697675 and parameters: {'lr': 0.002376135848288522, 'dropout_rate': 0.4094846122829437, 'hidden_dim': 48, 'embedding_dim': 22, 'n_layers': 4, 'optimizer': <class 'torch.optim.adam.Adam'>}. Best is trial 22 with value: 0.8822674418604651.\u001b[0m\n"
     ]
    },
    {
     "name": "stdout",
     "output_type": "stream",
     "text": [
      "Validation | Epoch 001 | Loss 0.385 | Accuracy 0.840 | Precision 0.855 | Recall 0.770 | F1 0.840 \n",
      "[DURATION]: 0:00:12.005866\n",
      "Using device cpu.\n",
      "Train Epoch: 1[0/6185 (0%)]\tLoss: 0.690220\n",
      "Train      | Epoch 001 | Loss 0.645 | Accuracy 0.620 | Precision 0.608 | Recall 0.404 | F1 0.620 \n"
     ]
    },
    {
     "name": "stderr",
     "output_type": "stream",
     "text": [
      "\u001b[32m[I 2020-10-11 17:14:06,295]\u001b[0m Trial 58 finished with value: 0.7761627906976744 and parameters: {'lr': 0.0017358717718750723, 'dropout_rate': 0.4351195467707348, 'hidden_dim': 14, 'embedding_dim': 25, 'n_layers': 6, 'optimizer': <class 'torch.optim.adam.Adam'>}. Best is trial 22 with value: 0.8822674418604651.\u001b[0m\n"
     ]
    },
    {
     "name": "stdout",
     "output_type": "stream",
     "text": [
      "Validation | Epoch 001 | Loss 0.496 | Accuracy 0.776 | Precision 0.794 | Recall 0.669 | F1 0.776 \n",
      "[DURATION]: 0:00:11.977031\n",
      "Using device cpu.\n",
      "Train Epoch: 1[0/6185 (0%)]\tLoss: 0.693328\n",
      "Train      | Epoch 001 | Loss 0.438 | Accuracy 0.805 | Precision 0.813 | Recall 0.728 | F1 0.805 \n"
     ]
    },
    {
     "name": "stderr",
     "output_type": "stream",
     "text": [
      "\u001b[32m[I 2020-10-11 17:14:18,407]\u001b[0m Trial 59 finished with value: 0.8008720930232558 and parameters: {'lr': 0.003203782276548111, 'dropout_rate': 0.3476956389972129, 'hidden_dim': 44, 'embedding_dim': 29, 'n_layers': 4, 'optimizer': <class 'torch.optim.adam.Adam'>}. Best is trial 22 with value: 0.8822674418604651.\u001b[0m\n"
     ]
    },
    {
     "name": "stdout",
     "output_type": "stream",
     "text": [
      "Validation | Epoch 001 | Loss 0.420 | Accuracy 0.801 | Precision 0.794 | Recall 0.744 | F1 0.801 \n",
      "[DURATION]: 0:00:12.018059\n",
      "Using device cpu.\n",
      "Train Epoch: 1[0/6185 (0%)]\tLoss: 0.690955\n",
      "Train      | Epoch 001 | Loss 0.464 | Accuracy 0.789 | Precision 0.815 | Recall 0.678 | F1 0.789 \n"
     ]
    },
    {
     "name": "stderr",
     "output_type": "stream",
     "text": [
      "\u001b[32m[I 2020-10-11 17:14:34,027]\u001b[0m Trial 60 finished with value: 0.8953488372093024 and parameters: {'lr': 0.0021783683362391754, 'dropout_rate': 0.3814323696240367, 'hidden_dim': 41, 'embedding_dim': 26, 'n_layers': 5, 'optimizer': <class 'torch.optim.adam.Adam'>}. Best is trial 60 with value: 0.8953488372093024.\u001b[0m\n"
     ]
    },
    {
     "name": "stdout",
     "output_type": "stream",
     "text": [
      "Validation | Epoch 001 | Loss 0.267 | Accuracy 0.895 | Precision 0.861 | Recall 0.911 | F1 0.895 \n",
      "[DURATION]: 0:00:15.523587\n",
      "Using device cpu.\n",
      "Train Epoch: 1[0/6185 (0%)]\tLoss: 0.689813\n",
      "Train      | Epoch 001 | Loss 0.470 | Accuracy 0.785 | Precision 0.807 | Recall 0.675 | F1 0.785 \n"
     ]
    },
    {
     "name": "stderr",
     "output_type": "stream",
     "text": [
      "\u001b[32m[I 2020-10-11 17:14:46,451]\u001b[0m Trial 61 finished with value: 0.8473837209302325 and parameters: {'lr': 0.002082539707639459, 'dropout_rate': 0.3981477971438106, 'hidden_dim': 41, 'embedding_dim': 26, 'n_layers': 5, 'optimizer': <class 'torch.optim.adam.Adam'>}. Best is trial 60 with value: 0.8953488372093024.\u001b[0m\n"
     ]
    },
    {
     "name": "stdout",
     "output_type": "stream",
     "text": [
      "Validation | Epoch 001 | Loss 0.341 | Accuracy 0.847 | Precision 0.770 | Recall 0.934 | F1 0.847 \n",
      "[DURATION]: 0:00:12.250758\n",
      "Using device cpu.\n",
      "Train Epoch: 1[0/6185 (0%)]\tLoss: 0.685293\n",
      "Train      | Epoch 001 | Loss 0.507 | Accuracy 0.763 | Precision 0.792 | Recall 0.631 | F1 0.763 \n"
     ]
    },
    {
     "name": "stderr",
     "output_type": "stream",
     "text": [
      "\u001b[32m[I 2020-10-11 17:14:56,539]\u001b[0m Trial 62 finished with value: 0.8299418604651163 and parameters: {'lr': 0.002364592261686916, 'dropout_rate': 0.3752168283409024, 'hidden_dim': 43, 'embedding_dim': 24, 'n_layers': 5, 'optimizer': <class 'torch.optim.adam.Adam'>}. Best is trial 60 with value: 0.8953488372093024.\u001b[0m\n"
     ]
    },
    {
     "name": "stdout",
     "output_type": "stream",
     "text": [
      "Validation | Epoch 001 | Loss 0.395 | Accuracy 0.830 | Precision 0.939 | Recall 0.659 | F1 0.830 \n",
      "[DURATION]: 0:00:10.010988\n",
      "Using device cpu.\n",
      "Train Epoch: 1[0/6185 (0%)]\tLoss: 0.731284\n",
      "Train      | Epoch 001 | Loss 0.483 | Accuracy 0.773 | Precision 0.790 | Recall 0.664 | F1 0.773 \n"
     ]
    },
    {
     "name": "stderr",
     "output_type": "stream",
     "text": [
      "\u001b[32m[I 2020-10-11 17:15:06,997]\u001b[0m Trial 63 finished with value: 0.8197674418604651 and parameters: {'lr': 0.002740909588119953, 'dropout_rate': 0.41171586617887923, 'hidden_dim': 45, 'embedding_dim': 21, 'n_layers': 4, 'optimizer': <class 'torch.optim.adam.Adam'>}. Best is trial 60 with value: 0.8953488372093024.\u001b[0m\n"
     ]
    },
    {
     "name": "stdout",
     "output_type": "stream",
     "text": [
      "Validation | Epoch 001 | Loss 0.410 | Accuracy 0.820 | Precision 0.852 | Recall 0.718 | F1 0.820 \n",
      "[DURATION]: 0:00:10.364617\n",
      "Using device cpu.\n",
      "Train Epoch: 1[0/6185 (0%)]\tLoss: 0.690468\n",
      "Train      | Epoch 001 | Loss 0.472 | Accuracy 0.791 | Precision 0.826 | Recall 0.669 | F1 0.791 \n"
     ]
    },
    {
     "name": "stderr",
     "output_type": "stream",
     "text": [
      "\u001b[32m[I 2020-10-11 17:15:17,355]\u001b[0m Trial 64 finished with value: 0.8793604651162791 and parameters: {'lr': 0.0017809646949717777, 'dropout_rate': 0.3611962932231911, 'hidden_dim': 39, 'embedding_dim': 29, 'n_layers': 6, 'optimizer': <class 'torch.optim.adam.Adam'>}. Best is trial 60 with value: 0.8953488372093024.\u001b[0m\n"
     ]
    },
    {
     "name": "stdout",
     "output_type": "stream",
     "text": [
      "Validation | Epoch 001 | Loss 0.325 | Accuracy 0.879 | Precision 0.914 | Recall 0.803 | F1 0.879 \n",
      "[DURATION]: 0:00:10.197921\n",
      "Using device cpu.\n",
      "Train Epoch: 1[0/6185 (0%)]\tLoss: 0.684022\n",
      "Train      | Epoch 001 | Loss 0.512 | Accuracy 0.737 | Precision 0.754 | Recall 0.605 | F1 0.737 \n"
     ]
    },
    {
     "name": "stderr",
     "output_type": "stream",
     "text": [
      "\u001b[32m[I 2020-10-11 17:15:28,569]\u001b[0m Trial 65 finished with value: 0.8691860465116278 and parameters: {'lr': 0.0018078422797349653, 'dropout_rate': 0.3606273993500566, 'hidden_dim': 34, 'embedding_dim': 30, 'n_layers': 7, 'optimizer': <class 'torch.optim.adam.Adam'>}. Best is trial 60 with value: 0.8953488372093024.\u001b[0m\n"
     ]
    },
    {
     "name": "stdout",
     "output_type": "stream",
     "text": [
      "Validation | Epoch 001 | Loss 0.326 | Accuracy 0.869 | Precision 0.831 | Recall 0.885 | F1 0.869 \n",
      "[DURATION]: 0:00:11.150312\n",
      "Using device cpu.\n",
      "Train Epoch: 1[0/6185 (0%)]\tLoss: 0.698283\n",
      "Train      | Epoch 001 | Loss 0.551 | Accuracy 0.721 | Precision 0.748 | Recall 0.559 | F1 0.721 \n"
     ]
    },
    {
     "name": "stderr",
     "output_type": "stream",
     "text": [
      "\u001b[32m[I 2020-10-11 17:15:41,080]\u001b[0m Trial 66 finished with value: 0.8139534883720931 and parameters: {'lr': 0.0017297701333660019, 'dropout_rate': 0.35661368578789054, 'hidden_dim': 36, 'embedding_dim': 29, 'n_layers': 8, 'optimizer': <class 'torch.optim.adam.Adam'>}. Best is trial 60 with value: 0.8953488372093024.\u001b[0m\n"
     ]
    },
    {
     "name": "stdout",
     "output_type": "stream",
     "text": [
      "Validation | Epoch 001 | Loss 0.459 | Accuracy 0.814 | Precision 0.886 | Recall 0.666 | F1 0.814 \n",
      "[DURATION]: 0:00:12.446822\n",
      "Using device cpu.\n",
      "Train Epoch: 1[0/6185 (0%)]\tLoss: 0.701056\n",
      "Train      | Epoch 001 | Loss 0.515 | Accuracy 0.755 | Precision 0.766 | Recall 0.645 | F1 0.755 \n"
     ]
    },
    {
     "name": "stderr",
     "output_type": "stream",
     "text": [
      "\u001b[32m[I 2020-10-11 17:15:51,859]\u001b[0m Trial 67 finished with value: 0.8226744186046512 and parameters: {'lr': 0.001897127638846809, 'dropout_rate': 0.32262892479716454, 'hidden_dim': 35, 'embedding_dim': 30, 'n_layers': 7, 'optimizer': <class 'torch.optim.adam.Adam'>}. Best is trial 60 with value: 0.8953488372093024.\u001b[0m\n"
     ]
    },
    {
     "name": "stdout",
     "output_type": "stream",
     "text": [
      "Validation | Epoch 001 | Loss 0.432 | Accuracy 0.823 | Precision 0.880 | Recall 0.695 | F1 0.823 \n",
      "[DURATION]: 0:00:10.614080\n",
      "Using device cpu.\n",
      "Train Epoch: 1[0/6185 (0%)]\tLoss: 0.694886\n",
      "Train      | Epoch 001 | Loss 0.525 | Accuracy 0.746 | Precision 0.774 | Recall 0.605 | F1 0.746 \n"
     ]
    },
    {
     "name": "stderr",
     "output_type": "stream",
     "text": [
      "\u001b[32m[I 2020-10-11 17:16:02,330]\u001b[0m Trial 68 finished with value: 0.8604651162790697 and parameters: {'lr': 0.0016250351998569818, 'dropout_rate': 0.3873689503935899, 'hidden_dim': 38, 'embedding_dim': 27, 'n_layers': 7, 'optimizer': <class 'torch.optim.adam.Adam'>}. Best is trial 60 with value: 0.8953488372093024.\u001b[0m\n"
     ]
    },
    {
     "name": "stdout",
     "output_type": "stream",
     "text": [
      "Validation | Epoch 001 | Loss 0.330 | Accuracy 0.860 | Precision 0.801 | Recall 0.911 | F1 0.860 \n",
      "[DURATION]: 0:00:10.409945\n",
      "Using device cpu.\n",
      "Train Epoch: 1[0/6185 (0%)]\tLoss: 0.693706\n",
      "Train      | Epoch 001 | Loss 0.696 | Accuracy 0.485 | Precision 0.442 | Recall 0.617 | F1 0.485 \n"
     ]
    },
    {
     "name": "stderr",
     "output_type": "stream",
     "text": [
      "\u001b[32m[I 2020-10-11 17:16:11,897]\u001b[0m Trial 69 finished with value: 0.5305232558139535 and parameters: {'lr': 0.001988670170802676, 'dropout_rate': 0.36737082042952174, 'hidden_dim': 41, 'embedding_dim': 28, 'n_layers': 6, 'optimizer': <class 'torch.optim.sgd.SGD'>}. Best is trial 60 with value: 0.8953488372093024.\u001b[0m\n"
     ]
    },
    {
     "name": "stdout",
     "output_type": "stream",
     "text": [
      "Validation | Epoch 001 | Loss 0.693 | Accuracy 0.531 | Precision 0.425 | Recall 0.167 | F1 0.531 \n",
      "[DURATION]: 0:00:09.494229\n",
      "Using device cpu.\n",
      "Train Epoch: 1[0/6185 (0%)]\tLoss: 0.693368\n",
      "Train      | Epoch 001 | Loss 0.520 | Accuracy 0.744 | Precision 0.776 | Recall 0.596 | F1 0.744 \n",
      "Validation | Epoch 001 | Loss 0.451 | Accuracy 0.815 | Precision 0.871 | Recall 0.685 | F1 0.815 "
     ]
    },
    {
     "name": "stderr",
     "output_type": "stream",
     "text": [
      "\u001b[32m[I 2020-10-11 17:16:21,710]\u001b[0m Trial 70 finished with value: 0.815406976744186 and parameters: {'lr': 0.0022254281594430224, 'dropout_rate': 0.30312715315456346, 'hidden_dim': 33, 'embedding_dim': 29, 'n_layers': 7, 'optimizer': <class 'torch.optim.adam.Adam'>}. Best is trial 60 with value: 0.8953488372093024.\u001b[0m\n"
     ]
    },
    {
     "name": "stdout",
     "output_type": "stream",
     "text": [
      "\n",
      "[DURATION]: 0:00:09.661195\n",
      "Using device cpu.\n",
      "Train Epoch: 1[0/6185 (0%)]\tLoss: 0.696479\n",
      "Train      | Epoch 001 | Loss 0.528 | Accuracy 0.743 | Precision 0.779 | Recall 0.586 | F1 0.743 \n"
     ]
    },
    {
     "name": "stderr",
     "output_type": "stream",
     "text": [
      "\u001b[32m[I 2020-10-11 17:16:34,363]\u001b[0m Trial 71 finished with value: 0.8168604651162792 and parameters: {'lr': 0.0013367218569908007, 'dropout_rate': 0.3413944024066484, 'hidden_dim': 39, 'embedding_dim': 26, 'n_layers': 6, 'optimizer': <class 'torch.optim.adam.Adam'>}. Best is trial 60 with value: 0.8953488372093024.\u001b[0m\n"
     ]
    },
    {
     "name": "stdout",
     "output_type": "stream",
     "text": [
      "Validation | Epoch 001 | Loss 0.428 | Accuracy 0.817 | Precision 0.846 | Recall 0.718 | F1 0.817 \n",
      "[DURATION]: 0:00:12.605579\n",
      "Using device cpu.\n",
      "Train Epoch: 1[0/6185 (0%)]\tLoss: 0.688249\n",
      "Train      | Epoch 001 | Loss 0.444 | Accuracy 0.783 | Precision 0.808 | Recall 0.671 | F1 0.783 \n"
     ]
    },
    {
     "name": "stderr",
     "output_type": "stream",
     "text": [
      "\u001b[32m[I 2020-10-11 17:16:47,651]\u001b[0m Trial 72 finished with value: 0.8561046511627908 and parameters: {'lr': 0.001759652600632022, 'dropout_rate': 0.355956786615501, 'hidden_dim': 40, 'embedding_dim': 28, 'n_layers': 8, 'optimizer': <class 'torch.optim.adam.Adam'>}. Best is trial 60 with value: 0.8953488372093024.\u001b[0m\n"
     ]
    },
    {
     "name": "stdout",
     "output_type": "stream",
     "text": [
      "Validation | Epoch 001 | Loss 0.341 | Accuracy 0.856 | Precision 0.788 | Recall 0.925 | F1 0.856 \n",
      "[DURATION]: 0:00:13.190898\n",
      "Using device cpu.\n",
      "Train Epoch: 1[0/6185 (0%)]\tLoss: 0.689909\n",
      "Train      | Epoch 001 | Loss 0.475 | Accuracy 0.777 | Precision 0.798 | Recall 0.664 | F1 0.777 \n"
     ]
    },
    {
     "name": "stderr",
     "output_type": "stream",
     "text": [
      "\u001b[32m[I 2020-10-11 17:16:58,051]\u001b[0m Trial 73 finished with value: 0.9026162790697675 and parameters: {'lr': 0.0018867484310962294, 'dropout_rate': 0.3105445460559884, 'hidden_dim': 37, 'embedding_dim': 30, 'n_layers': 6, 'optimizer': <class 'torch.optim.adam.Adam'>}. Best is trial 73 with value: 0.9026162790697675.\u001b[0m\n"
     ]
    },
    {
     "name": "stdout",
     "output_type": "stream",
     "text": [
      "Validation | Epoch 001 | Loss 0.278 | Accuracy 0.903 | Precision 0.938 | Recall 0.836 | F1 0.903 \n",
      "[DURATION]: 0:00:10.272464\n",
      "Using device cpu.\n",
      "Train Epoch: 1[0/6185 (0%)]\tLoss: 0.690177\n",
      "Train      | Epoch 001 | Loss 0.479 | Accuracy 0.771 | Precision 0.797 | Recall 0.648 | F1 0.771 \n"
     ]
    },
    {
     "name": "stderr",
     "output_type": "stream",
     "text": [
      "\u001b[32m[I 2020-10-11 17:17:10,696]\u001b[0m Trial 74 finished with value: 0.9026162790697675 and parameters: {'lr': 0.0015683014165214727, 'dropout_rate': 0.31113961079024444, 'hidden_dim': 37, 'embedding_dim': 30, 'n_layers': 6, 'optimizer': <class 'torch.optim.adam.Adam'>}. Best is trial 73 with value: 0.9026162790697675.\u001b[0m\n"
     ]
    },
    {
     "name": "stdout",
     "output_type": "stream",
     "text": [
      "Validation | Epoch 001 | Loss 0.268 | Accuracy 0.903 | Precision 0.916 | Recall 0.859 | F1 0.903 \n",
      "[DURATION]: 0:00:12.574044\n",
      "Using device cpu.\n",
      "Train Epoch: 1[0/6185 (0%)]\tLoss: 0.696460\n",
      "Train      | Epoch 001 | Loss 0.499 | Accuracy 0.774 | Precision 0.804 | Recall 0.649 | F1 0.774 \n"
     ]
    },
    {
     "name": "stderr",
     "output_type": "stream",
     "text": [
      "\u001b[32m[I 2020-10-11 17:17:20,865]\u001b[0m Trial 75 finished with value: 0.8313953488372093 and parameters: {'lr': 0.001582180410126617, 'dropout_rate': 0.28168234326827374, 'hidden_dim': 38, 'embedding_dim': 27, 'n_layers': 6, 'optimizer': <class 'torch.optim.adam.Adam'>}. Best is trial 73 with value: 0.9026162790697675.\u001b[0m\n"
     ]
    },
    {
     "name": "stdout",
     "output_type": "stream",
     "text": [
      "Validation | Epoch 001 | Loss 0.429 | Accuracy 0.831 | Precision 0.889 | Recall 0.708 | F1 0.831 \n",
      "[DURATION]: 0:00:10.105049\n",
      "Using device cpu.\n",
      "Train Epoch: 1[0/6185 (0%)]\tLoss: 0.699520\n",
      "Train      | Epoch 001 | Loss 0.477 | Accuracy 0.773 | Precision 0.788 | Recall 0.670 | F1 0.773 \n"
     ]
    },
    {
     "name": "stderr",
     "output_type": "stream",
     "text": [
      "\u001b[32m[I 2020-10-11 17:17:29,728]\u001b[0m Trial 76 finished with value: 0.8270348837209303 and parameters: {'lr': 0.0012449432561744641, 'dropout_rate': 0.30611095063419314, 'hidden_dim': 43, 'embedding_dim': 29, 'n_layers': 6, 'optimizer': <class 'torch.optim.adam.Adam'>}. Best is trial 73 with value: 0.9026162790697675.\u001b[0m\n"
     ]
    },
    {
     "name": "stdout",
     "output_type": "stream",
     "text": [
      "Validation | Epoch 001 | Loss 0.441 | Accuracy 0.827 | Precision 0.884 | Recall 0.702 | F1 0.827 \n",
      "[DURATION]: 0:00:08.750104\n",
      "Using device cpu.\n",
      "Train Epoch: 1[0/6185 (0%)]\tLoss: 0.706490\n",
      "Train      | Epoch 001 | Loss 0.456 | Accuracy 0.790 | Precision 0.806 | Recall 0.695 | F1 0.790 \n"
     ]
    },
    {
     "name": "stderr",
     "output_type": "stream",
     "text": [
      "\u001b[32m[I 2020-10-11 17:17:39,540]\u001b[0m Trial 77 finished with value: 0.8924418604651163 and parameters: {'lr': 0.0013734038167275754, 'dropout_rate': 0.33050518518830796, 'hidden_dim': 42, 'embedding_dim': 30, 'n_layers': 5, 'optimizer': <class 'torch.optim.adam.Adam'>}. Best is trial 73 with value: 0.9026162790697675.\u001b[0m\n"
     ]
    },
    {
     "name": "stdout",
     "output_type": "stream",
     "text": [
      "Validation | Epoch 001 | Loss 0.256 | Accuracy 0.892 | Precision 0.876 | Recall 0.882 | F1 0.892 \n",
      "[DURATION]: 0:00:09.766262\n",
      "Using device cpu.\n",
      "Train Epoch: 1[0/6185 (0%)]\tLoss: 0.683764\n",
      "Train      | Epoch 001 | Loss 0.462 | Accuracy 0.789 | Precision 0.789 | Recall 0.714 | F1 0.789 \n"
     ]
    },
    {
     "name": "stderr",
     "output_type": "stream",
     "text": [
      "\u001b[32m[I 2020-10-11 17:17:51,640]\u001b[0m Trial 78 finished with value: 0.872093023255814 and parameters: {'lr': 0.0011692258508386815, 'dropout_rate': 0.3132435834780695, 'hidden_dim': 46, 'embedding_dim': 30, 'n_layers': 5, 'optimizer': <class 'torch.optim.adam.Adam'>}. Best is trial 73 with value: 0.9026162790697675.\u001b[0m\n"
     ]
    },
    {
     "name": "stdout",
     "output_type": "stream",
     "text": [
      "Validation | Epoch 001 | Loss 0.303 | Accuracy 0.872 | Precision 0.822 | Recall 0.908 | F1 0.872 \n",
      "[DURATION]: 0:00:12.006315\n",
      "Using device cpu.\n",
      "Train Epoch: 1[0/6185 (0%)]\tLoss: 0.706688\n",
      "Train      | Epoch 001 | Loss 0.520 | Accuracy 0.751 | Precision 0.773 | Recall 0.622 | F1 0.751 \n"
     ]
    },
    {
     "name": "stderr",
     "output_type": "stream",
     "text": [
      "\u001b[32m[I 2020-10-11 17:18:03,100]\u001b[0m Trial 79 finished with value: 0.8255813953488372 and parameters: {'lr': 0.001398620867135212, 'dropout_rate': 0.3328964417812061, 'hidden_dim': 42, 'embedding_dim': 26, 'n_layers': 6, 'optimizer': <class 'torch.optim.adam.Adam'>}. Best is trial 73 with value: 0.9026162790697675.\u001b[0m\n"
     ]
    },
    {
     "name": "stdout",
     "output_type": "stream",
     "text": [
      "Validation | Epoch 001 | Loss 0.438 | Accuracy 0.826 | Precision 0.884 | Recall 0.698 | F1 0.826 \n",
      "[DURATION]: 0:00:11.263845\n",
      "Using device cpu.\n",
      "Train Epoch: 1[0/6185 (0%)]\tLoss: 0.719242\n",
      "Train      | Epoch 001 | Loss 0.462 | Accuracy 0.788 | Precision 0.797 | Recall 0.700 | F1 0.788 \n"
     ]
    },
    {
     "name": "stderr",
     "output_type": "stream",
     "text": [
      "\u001b[32m[I 2020-10-11 17:18:13,382]\u001b[0m Trial 80 finished with value: 0.8677325581395349 and parameters: {'lr': 0.0025319292742405144, 'dropout_rate': 0.2931930310021322, 'hidden_dim': 37, 'embedding_dim': 27, 'n_layers': 5, 'optimizer': <class 'torch.optim.adam.Adam'>}. Best is trial 73 with value: 0.9026162790697675.\u001b[0m\n"
     ]
    },
    {
     "name": "stdout",
     "output_type": "stream",
     "text": [
      "Validation | Epoch 001 | Loss 0.332 | Accuracy 0.868 | Precision 0.809 | Recall 0.918 | F1 0.868 \n",
      "[DURATION]: 0:00:10.213462\n",
      "Using device cpu.\n",
      "Train Epoch: 1[0/6185 (0%)]\tLoss: 0.683812\n",
      "Train      | Epoch 001 | Loss 0.485 | Accuracy 0.783 | Precision 0.799 | Recall 0.681 | F1 0.783 \n"
     ]
    },
    {
     "name": "stderr",
     "output_type": "stream",
     "text": [
      "\u001b[32m[I 2020-10-11 17:18:23,038]\u001b[0m Trial 81 finished with value: 0.8284883720930233 and parameters: {'lr': 0.0034288951808075017, 'dropout_rate': 0.3233234219003221, 'hidden_dim': 46, 'embedding_dim': 30, 'n_layers': 5, 'optimizer': <class 'torch.optim.adam.Adam'>}. Best is trial 73 with value: 0.9026162790697675.\u001b[0m\n"
     ]
    },
    {
     "name": "stdout",
     "output_type": "stream",
     "text": [
      "Validation | Epoch 001 | Loss 0.417 | Accuracy 0.828 | Precision 0.895 | Recall 0.695 | F1 0.828 \n",
      "[DURATION]: 0:00:09.591584\n",
      "Using device cpu.\n",
      "Train Epoch: 1[0/6185 (0%)]\tLoss: 0.709611\n",
      "Train      | Epoch 001 | Loss 0.506 | Accuracy 0.766 | Precision 0.785 | Recall 0.651 | F1 0.766 \n"
     ]
    },
    {
     "name": "stderr",
     "output_type": "stream",
     "text": [
      "\u001b[32m[I 2020-10-11 17:18:32,597]\u001b[0m Trial 82 finished with value: 0.7906976744186046 and parameters: {'lr': 0.0010495501611287254, 'dropout_rate': 0.27380068783624567, 'hidden_dim': 48, 'embedding_dim': 28, 'n_layers': 6, 'optimizer': <class 'torch.optim.adam.Adam'>}. Best is trial 73 with value: 0.9026162790697675.\u001b[0m\n"
     ]
    },
    {
     "name": "stdout",
     "output_type": "stream",
     "text": [
      "Validation | Epoch 001 | Loss 0.459 | Accuracy 0.791 | Precision 0.767 | Recall 0.757 | F1 0.791 \n",
      "[DURATION]: 0:00:09.432154\n",
      "Using device cpu.\n",
      "Train Epoch: 1[0/6185 (0%)]\tLoss: 0.717780\n",
      "Train      | Epoch 001 | Loss 0.383 | Accuracy 0.822 | Precision 0.831 | Recall 0.753 | F1 0.822 \n"
     ]
    },
    {
     "name": "stderr",
     "output_type": "stream",
     "text": [
      "\u001b[32m[I 2020-10-11 17:18:42,173]\u001b[0m Trial 83 finished with value: 0.9156976744186046 and parameters: {'lr': 0.001549414471987755, 'dropout_rate': 0.31348637693099335, 'hidden_dim': 47, 'embedding_dim': 30, 'n_layers': 5, 'optimizer': <class 'torch.optim.adam.Adam'>}. Best is trial 83 with value: 0.9156976744186046.\u001b[0m\n"
     ]
    },
    {
     "name": "stdout",
     "output_type": "stream",
     "text": [
      "Validation | Epoch 001 | Loss 0.258 | Accuracy 0.916 | Precision 0.992 | Recall 0.816 | F1 0.916 \n",
      "[DURATION]: 0:00:09.493320\n",
      "Using device cpu.\n",
      "Train Epoch: 1[0/6185 (0%)]\tLoss: 0.682212\n",
      "Train      | Epoch 001 | Loss 0.465 | Accuracy 0.784 | Precision 0.792 | Recall 0.696 | F1 0.784 \n",
      "Validation | Epoch 001 | Loss 0.400 | Accuracy 0.831 | Precision 0.804 | Recall 0.820 | F1 0.831 "
     ]
    },
    {
     "name": "stderr",
     "output_type": "stream",
     "text": [
      "\u001b[32m[I 2020-10-11 17:18:50,286]\u001b[0m Trial 84 finished with value: 0.8313953488372093 and parameters: {'lr': 0.001525254733734927, 'dropout_rate': 0.25515333125999273, 'hidden_dim': 45, 'embedding_dim': 29, 'n_layers': 5, 'optimizer': <class 'torch.optim.adam.Adam'>}. Best is trial 83 with value: 0.9156976744186046.\u001b[0m\n"
     ]
    },
    {
     "name": "stdout",
     "output_type": "stream",
     "text": [
      "\n",
      "[DURATION]: 0:00:08.058612\n",
      "Using device cpu.\n",
      "Train Epoch: 1[0/6185 (0%)]\tLoss: 0.673914\n",
      "Train      | Epoch 001 | Loss 0.508 | Accuracy 0.769 | Precision 0.794 | Recall 0.646 | F1 0.769 \n"
     ]
    },
    {
     "name": "stderr",
     "output_type": "stream",
     "text": [
      "\u001b[32m[I 2020-10-11 17:19:00,025]\u001b[0m Trial 85 finished with value: 0.7877906976744187 and parameters: {'lr': 0.001872329527828889, 'dropout_rate': 0.2918777687606471, 'hidden_dim': 39, 'embedding_dim': 30, 'n_layers': 6, 'optimizer': <class 'torch.optim.adam.Adam'>}. Best is trial 83 with value: 0.9156976744186046.\u001b[0m\n"
     ]
    },
    {
     "name": "stdout",
     "output_type": "stream",
     "text": [
      "Validation | Epoch 001 | Loss 0.459 | Accuracy 0.788 | Precision 0.769 | Recall 0.744 | F1 0.788 \n",
      "[DURATION]: 0:00:09.691881\n",
      "Using device cpu.\n",
      "Train Epoch: 1[0/6185 (0%)]\tLoss: 0.711789\n",
      "Train      | Epoch 001 | Loss 0.483 | Accuracy 0.782 | Precision 0.798 | Recall 0.679 | F1 0.782 \n"
     ]
    },
    {
     "name": "stderr",
     "output_type": "stream",
     "text": [
      "\u001b[32m[I 2020-10-11 17:19:09,111]\u001b[0m Trial 86 finished with value: 0.8023255813953488 and parameters: {'lr': 0.001655237947038855, 'dropout_rate': 0.34843734789722436, 'hidden_dim': 47, 'embedding_dim': 28, 'n_layers': 5, 'optimizer': <class 'torch.optim.adam.Adam'>}. Best is trial 83 with value: 0.9156976744186046.\u001b[0m\n"
     ]
    },
    {
     "name": "stdout",
     "output_type": "stream",
     "text": [
      "Validation | Epoch 001 | Loss 0.425 | Accuracy 0.802 | Precision 0.788 | Recall 0.757 | F1 0.802 \n",
      "[DURATION]: 0:00:08.958205\n",
      "Using device cpu.\n",
      "Train Epoch: 1[0/6185 (0%)]\tLoss: 0.703551\n",
      "Train      | Epoch 001 | Loss 0.501 | Accuracy 0.764 | Precision 0.778 | Recall 0.653 | F1 0.764 \n"
     ]
    },
    {
     "name": "stderr",
     "output_type": "stream",
     "text": [
      "\u001b[32m[I 2020-10-11 17:19:18,454]\u001b[0m Trial 87 finished with value: 0.8241279069767442 and parameters: {'lr': 0.0013710120049781453, 'dropout_rate': 0.3289709097780573, 'hidden_dim': 43, 'embedding_dim': 25, 'n_layers': 6, 'optimizer': <class 'torch.optim.adam.Adam'>}. Best is trial 83 with value: 0.9156976744186046.\u001b[0m\n"
     ]
    },
    {
     "name": "stdout",
     "output_type": "stream",
     "text": [
      "Validation | Epoch 001 | Loss 0.424 | Accuracy 0.824 | Precision 0.871 | Recall 0.708 | F1 0.824 \n",
      "[DURATION]: 0:00:09.289560\n",
      "Using device cpu.\n",
      "Train Epoch: 1[0/6185 (0%)]\tLoss: 0.699423\n",
      "Train      | Epoch 001 | Loss 0.692 | Accuracy 0.514 | Precision 0.472 | Recall 0.817 | F1 0.514 \n",
      "Validation | Epoch 001 | Loss 0.685 | Accuracy 0.624 | Precision 0.564 | Recall 0.666 | F1 0.624 "
     ]
    },
    {
     "name": "stderr",
     "output_type": "stream",
     "text": [
      "\u001b[32m[I 2020-10-11 17:19:25,815]\u001b[0m Trial 88 finished with value: 0.623546511627907 and parameters: {'lr': 0.0021865894875691895, 'dropout_rate': 0.3126555454249156, 'hidden_dim': 41, 'embedding_dim': 29, 'n_layers': 5, 'optimizer': <class 'torch.optim.sgd.SGD'>}. Best is trial 83 with value: 0.9156976744186046.\u001b[0m\n"
     ]
    },
    {
     "name": "stdout",
     "output_type": "stream",
     "text": [
      "\n",
      "[DURATION]: 0:00:07.311794\n",
      "Using device cpu.\n",
      "Train Epoch: 1[0/6185 (0%)]\tLoss: 0.689096\n",
      "Train      | Epoch 001 | Loss 0.485 | Accuracy 0.761 | Precision 0.768 | Recall 0.662 | F1 0.761 \n"
     ]
    },
    {
     "name": "stderr",
     "output_type": "stream",
     "text": [
      "\u001b[32m[I 2020-10-11 17:19:35,769]\u001b[0m Trial 89 finished with value: 0.877906976744186 and parameters: {'lr': 0.0015260122653783282, 'dropout_rate': 0.28241073438082254, 'hidden_dim': 42, 'embedding_dim': 18, 'n_layers': 6, 'optimizer': <class 'torch.optim.adam.Adam'>}. Best is trial 83 with value: 0.9156976744186046.\u001b[0m\n"
     ]
    },
    {
     "name": "stdout",
     "output_type": "stream",
     "text": [
      "Validation | Epoch 001 | Loss 0.309 | Accuracy 0.878 | Precision 0.870 | Recall 0.852 | F1 0.878 \n",
      "[DURATION]: 0:00:09.905331\n",
      "Using device cpu.\n",
      "Train Epoch: 1[0/6185 (0%)]\tLoss: 0.691073\n",
      "Train      | Epoch 001 | Loss 0.471 | Accuracy 0.780 | Precision 0.777 | Recall 0.706 | F1 0.780 \n"
     ]
    },
    {
     "name": "stderr",
     "output_type": "stream",
     "text": [
      "\u001b[32m[I 2020-10-11 17:19:47,103]\u001b[0m Trial 90 finished with value: 0.8793604651162791 and parameters: {'lr': 0.001954327228332289, 'dropout_rate': 0.2604516250681166, 'hidden_dim': 42, 'embedding_dim': 28, 'n_layers': 6, 'optimizer': <class 'torch.optim.adam.Adam'>}. Best is trial 83 with value: 0.9156976744186046.\u001b[0m\n"
     ]
    },
    {
     "name": "stdout",
     "output_type": "stream",
     "text": [
      "Validation | Epoch 001 | Loss 0.293 | Accuracy 0.879 | Precision 0.858 | Recall 0.872 | F1 0.879 \n",
      "[DURATION]: 0:00:11.184494\n",
      "Using device cpu.\n",
      "Train Epoch: 1[0/6185 (0%)]\tLoss: 0.691941\n",
      "Train      | Epoch 001 | Loss 0.473 | Accuracy 0.774 | Precision 0.774 | Recall 0.693 | F1 0.774 \n"
     ]
    },
    {
     "name": "stderr",
     "output_type": "stream",
     "text": [
      "\u001b[32m[I 2020-10-11 17:20:00,294]\u001b[0m Trial 91 finished with value: 0.8880813953488372 and parameters: {'lr': 0.0015255439649792648, 'dropout_rate': 0.27801667210104397, 'hidden_dim': 42, 'embedding_dim': 28, 'n_layers': 6, 'optimizer': <class 'torch.optim.adam.Adam'>}. Best is trial 83 with value: 0.9156976744186046.\u001b[0m\n"
     ]
    },
    {
     "name": "stdout",
     "output_type": "stream",
     "text": [
      "Validation | Epoch 001 | Loss 0.280 | Accuracy 0.888 | Precision 0.865 | Recall 0.885 | F1 0.888 \n",
      "[DURATION]: 0:00:13.121710\n",
      "Using device cpu.\n",
      "Train Epoch: 1[0/6185 (0%)]\tLoss: 0.692181\n",
      "Train      | Epoch 001 | Loss 0.473 | Accuracy 0.779 | Precision 0.780 | Recall 0.699 | F1 0.779 \n"
     ]
    },
    {
     "name": "stderr",
     "output_type": "stream",
     "text": [
      "\u001b[32m[I 2020-10-11 17:20:16,342]\u001b[0m Trial 92 finished with value: 0.873546511627907 and parameters: {'lr': 0.00197818441548499, 'dropout_rate': 0.2769407789209727, 'hidden_dim': 42, 'embedding_dim': 28, 'n_layers': 6, 'optimizer': <class 'torch.optim.adam.Adam'>}. Best is trial 83 with value: 0.9156976744186046.\u001b[0m\n"
     ]
    },
    {
     "name": "stdout",
     "output_type": "stream",
     "text": [
      "Validation | Epoch 001 | Loss 0.310 | Accuracy 0.874 | Precision 0.863 | Recall 0.849 | F1 0.874 \n",
      "[DURATION]: 0:00:15.970933\n",
      "Using device cpu.\n",
      "Train Epoch: 1[0/6185 (0%)]\tLoss: 0.683321\n",
      "Train      | Epoch 001 | Loss 0.479 | Accuracy 0.780 | Precision 0.815 | Recall 0.653 | F1 0.780 \n"
     ]
    },
    {
     "name": "stderr",
     "output_type": "stream",
     "text": [
      "\u001b[32m[I 2020-10-11 17:20:26,069]\u001b[0m Trial 93 finished with value: 0.9040697674418605 and parameters: {'lr': 0.0015050623794689785, 'dropout_rate': 0.2490861639905505, 'hidden_dim': 40, 'embedding_dim': 27, 'n_layers': 6, 'optimizer': <class 'torch.optim.adam.Adam'>}. Best is trial 83 with value: 0.9156976744186046.\u001b[0m\n"
     ]
    },
    {
     "name": "stdout",
     "output_type": "stream",
     "text": [
      "Validation | Epoch 001 | Loss 0.252 | Accuracy 0.904 | Precision 0.911 | Recall 0.869 | F1 0.904 \n",
      "[DURATION]: 0:00:09.574245\n",
      "Using device cpu.\n",
      "Train Epoch: 1[0/6185 (0%)]\tLoss: 0.723262\n",
      "Train      | Epoch 001 | Loss 0.524 | Accuracy 0.745 | Precision 0.777 | Recall 0.596 | F1 0.745 \n"
     ]
    },
    {
     "name": "stderr",
     "output_type": "stream",
     "text": [
      "\u001b[32m[I 2020-10-11 17:20:35,557]\u001b[0m Trial 94 finished with value: 0.8255813953488372 and parameters: {'lr': 0.0016836035322020805, 'dropout_rate': 0.2484416968990559, 'hidden_dim': 37, 'embedding_dim': 26, 'n_layers': 6, 'optimizer': <class 'torch.optim.adam.Adam'>}. Best is trial 83 with value: 0.9156976744186046.\u001b[0m\n"
     ]
    },
    {
     "name": "stdout",
     "output_type": "stream",
     "text": [
      "Validation | Epoch 001 | Loss 0.426 | Accuracy 0.826 | Precision 0.849 | Recall 0.738 | F1 0.826 \n",
      "[DURATION]: 0:00:09.437565\n",
      "Using device cpu.\n",
      "Train Epoch: 1[0/6185 (0%)]\tLoss: 0.681223\n",
      "Train      | Epoch 001 | Loss 0.476 | Accuracy 0.780 | Precision 0.813 | Recall 0.656 | F1 0.780 \n"
     ]
    },
    {
     "name": "stderr",
     "output_type": "stream",
     "text": [
      "\u001b[32m[I 2020-10-11 17:20:47,574]\u001b[0m Trial 95 finished with value: 0.8953488372093024 and parameters: {'lr': 0.001404662842398868, 'dropout_rate': 0.22051279464652496, 'hidden_dim': 40, 'embedding_dim': 27, 'n_layers': 6, 'optimizer': <class 'torch.optim.adam.Adam'>}. Best is trial 83 with value: 0.9156976744186046.\u001b[0m\n"
     ]
    },
    {
     "name": "stdout",
     "output_type": "stream",
     "text": [
      "Validation | Epoch 001 | Loss 0.251 | Accuracy 0.895 | Precision 0.879 | Recall 0.885 | F1 0.895 \n",
      "[DURATION]: 0:00:11.959886\n",
      "Using device cpu.\n",
      "Train Epoch: 1[0/6185 (0%)]\tLoss: 0.694350\n",
      "Train      | Epoch 001 | Loss 0.404 | Accuracy 0.822 | Precision 0.845 | Recall 0.731 | F1 0.822 \n"
     ]
    },
    {
     "name": "stderr",
     "output_type": "stream",
     "text": [
      "\u001b[32m[I 2020-10-11 17:20:56,051]\u001b[0m Trial 96 finished with value: 0.9229651162790697 and parameters: {'lr': 0.0012446045912465483, 'dropout_rate': 0.2114868766119986, 'hidden_dim': 41, 'embedding_dim': 27, 'n_layers': 5, 'optimizer': <class 'torch.optim.adam.Adam'>}. Best is trial 96 with value: 0.9229651162790697.\u001b[0m\n"
     ]
    },
    {
     "name": "stdout",
     "output_type": "stream",
     "text": [
      "Validation | Epoch 001 | Loss 0.231 | Accuracy 0.923 | Precision 0.957 | Recall 0.866 | F1 0.923 \n",
      "[DURATION]: 0:00:08.345496\n",
      "Using device cpu.\n",
      "Train Epoch: 1[0/6185 (0%)]\tLoss: 0.679361\n",
      "Train      | Epoch 001 | Loss 0.431 | Accuracy 0.810 | Precision 0.829 | Recall 0.720 | F1 0.810 \n"
     ]
    },
    {
     "name": "stderr",
     "output_type": "stream",
     "text": [
      "\u001b[32m[I 2020-10-11 17:21:07,169]\u001b[0m Trial 97 finished with value: 0.8924418604651163 and parameters: {'lr': 0.0012277411066359567, 'dropout_rate': 0.22262541311274753, 'hidden_dim': 40, 'embedding_dim': 27, 'n_layers': 5, 'optimizer': <class 'torch.optim.adam.Adam'>}. Best is trial 96 with value: 0.9229651162790697.\u001b[0m\n"
     ]
    },
    {
     "name": "stdout",
     "output_type": "stream",
     "text": [
      "Validation | Epoch 001 | Loss 0.271 | Accuracy 0.892 | Precision 0.831 | Recall 0.951 | F1 0.892 \n",
      "[DURATION]: 0:00:11.051925\n",
      "Using device cpu.\n",
      "Train Epoch: 1[0/6185 (0%)]\tLoss: 0.687420\n",
      "Train      | Epoch 001 | Loss 0.490 | Accuracy 0.783 | Precision 0.796 | Recall 0.687 | F1 0.783 \n"
     ]
    },
    {
     "name": "stderr",
     "output_type": "stream",
     "text": [
      "\u001b[32m[I 2020-10-11 17:21:17,905]\u001b[0m Trial 98 finished with value: 0.8430232558139534 and parameters: {'lr': 0.0012264019832178303, 'dropout_rate': 0.21205314061461872, 'hidden_dim': 41, 'embedding_dim': 24, 'n_layers': 5, 'optimizer': <class 'torch.optim.adam.Adam'>}. Best is trial 96 with value: 0.9229651162790697.\u001b[0m\n"
     ]
    },
    {
     "name": "stdout",
     "output_type": "stream",
     "text": [
      "Validation | Epoch 001 | Loss 0.395 | Accuracy 0.843 | Precision 0.856 | Recall 0.777 | F1 0.843 \n",
      "[DURATION]: 0:00:10.655934\n",
      "Using device cpu.\n",
      "Train Epoch: 1[0/6185 (0%)]\tLoss: 0.690042\n",
      "Train      | Epoch 001 | Loss 0.462 | Accuracy 0.785 | Precision 0.820 | Recall 0.661 | F1 0.785 \n"
     ]
    },
    {
     "name": "stderr",
     "output_type": "stream",
     "text": [
      "\u001b[32m[I 2020-10-11 17:21:27,644]\u001b[0m Trial 99 finished with value: 0.8430232558139534 and parameters: {'lr': 0.0011083327505761675, 'dropout_rate': 0.2211580641042532, 'hidden_dim': 35, 'embedding_dim': 27, 'n_layers': 5, 'optimizer': <class 'torch.optim.adam.Adam'>}. Best is trial 96 with value: 0.9229651162790697.\u001b[0m\n"
     ]
    },
    {
     "name": "stdout",
     "output_type": "stream",
     "text": [
      "Validation | Epoch 001 | Loss 0.339 | Accuracy 0.843 | Precision 0.756 | Recall 0.954 | F1 0.843 \n",
      "[DURATION]: 0:00:09.559976\n",
      "Using device cpu.\n",
      "Train Epoch: 1[0/6185 (0%)]\tLoss: 0.694581\n",
      "Train      | Epoch 001 | Loss 0.411 | Accuracy 0.808 | Precision 0.808 | Recall 0.745 | F1 0.808 \n"
     ]
    },
    {
     "name": "stderr",
     "output_type": "stream",
     "text": [
      "\u001b[32m[I 2020-10-11 17:21:37,549]\u001b[0m Trial 100 finished with value: 0.9055232558139535 and parameters: {'lr': 0.0012945724632054444, 'dropout_rate': 0.19051309233387456, 'hidden_dim': 38, 'embedding_dim': 26, 'n_layers': 5, 'optimizer': <class 'torch.optim.adam.Adam'>}. Best is trial 96 with value: 0.9229651162790697.\u001b[0m\n"
     ]
    },
    {
     "name": "stdout",
     "output_type": "stream",
     "text": [
      "Validation | Epoch 001 | Loss 0.244 | Accuracy 0.906 | Precision 0.962 | Recall 0.820 | F1 0.906 \n",
      "[DURATION]: 0:00:09.844884\n",
      "Using device cpu.\n",
      "Train Epoch: 1[0/6185 (0%)]\tLoss: 0.703062\n",
      "Train      | Epoch 001 | Loss 0.431 | Accuracy 0.810 | Precision 0.824 | Recall 0.727 | F1 0.810 \n"
     ]
    },
    {
     "name": "stderr",
     "output_type": "stream",
     "text": [
      "\u001b[32m[I 2020-10-11 17:21:47,211]\u001b[0m Trial 101 finished with value: 0.9113372093023255 and parameters: {'lr': 0.0012876548176840154, 'dropout_rate': 0.188121596811204, 'hidden_dim': 40, 'embedding_dim': 24, 'n_layers': 5, 'optimizer': <class 'torch.optim.adam.Adam'>}. Best is trial 96 with value: 0.9229651162790697.\u001b[0m\n"
     ]
    },
    {
     "name": "stdout",
     "output_type": "stream",
     "text": [
      "Validation | Epoch 001 | Loss 0.260 | Accuracy 0.911 | Precision 0.966 | Recall 0.830 | F1 0.911 \n",
      "[DURATION]: 0:00:09.606162\n",
      "Using device cpu.\n",
      "Train Epoch: 1[0/6185 (0%)]\tLoss: 0.691801\n",
      "Train      | Epoch 001 | Loss 0.449 | Accuracy 0.786 | Precision 0.811 | Recall 0.675 | F1 0.786 \n",
      "Validation | Epoch 001 | Loss 0.257 | Accuracy 0.901 | Precision 0.874 | Recall 0.908 | F1 0.901 "
     ]
    },
    {
     "name": "stderr",
     "output_type": "stream",
     "text": [
      "\u001b[32m[I 2020-10-11 17:21:57,064]\u001b[0m Trial 102 finished with value: 0.9011627906976745 and parameters: {'lr': 0.0013020745957064476, 'dropout_rate': 0.1896916984012256, 'hidden_dim': 38, 'embedding_dim': 24, 'n_layers': 5, 'optimizer': <class 'torch.optim.adam.Adam'>}. Best is trial 96 with value: 0.9229651162790697.\u001b[0m\n"
     ]
    },
    {
     "name": "stdout",
     "output_type": "stream",
     "text": [
      "\n",
      "[DURATION]: 0:00:09.784750\n",
      "Using device cpu.\n",
      "Train Epoch: 1[0/6185 (0%)]\tLoss: 0.691479\n",
      "Train      | Epoch 001 | Loss 0.446 | Accuracy 0.791 | Precision 0.816 | Recall 0.681 | F1 0.791 \n"
     ]
    },
    {
     "name": "stderr",
     "output_type": "stream",
     "text": [
      "\u001b[32m[I 2020-10-11 17:22:05,623]\u001b[0m Trial 103 finished with value: 0.8357558139534884 and parameters: {'lr': 0.001329571371215949, 'dropout_rate': 0.17323012515925124, 'hidden_dim': 38, 'embedding_dim': 24, 'n_layers': 5, 'optimizer': <class 'torch.optim.adam.Adam'>}. Best is trial 96 with value: 0.9229651162790697.\u001b[0m\n"
     ]
    },
    {
     "name": "stdout",
     "output_type": "stream",
     "text": [
      "Validation | Epoch 001 | Loss 0.330 | Accuracy 0.836 | Precision 0.753 | Recall 0.938 | F1 0.836 \n",
      "[DURATION]: 0:00:08.441165\n",
      "Using device cpu.\n",
      "Train Epoch: 1[0/6185 (0%)]\tLoss: 0.710357\n",
      "Train      | Epoch 001 | Loss 0.488 | Accuracy 0.776 | Precision 0.771 | Recall 0.705 | F1 0.776 \n"
     ]
    },
    {
     "name": "stderr",
     "output_type": "stream",
     "text": [
      "\u001b[32m[I 2020-10-11 17:22:19,062]\u001b[0m Trial 104 finished with value: 0.8793604651162791 and parameters: {'lr': 0.0011987824573362583, 'dropout_rate': 0.2000183981166407, 'hidden_dim': 40, 'embedding_dim': 23, 'n_layers': 5, 'optimizer': <class 'torch.optim.adam.Adam'>}. Best is trial 96 with value: 0.9229651162790697.\u001b[0m\n"
     ]
    },
    {
     "name": "stdout",
     "output_type": "stream",
     "text": [
      "Validation | Epoch 001 | Loss 0.281 | Accuracy 0.879 | Precision 0.878 | Recall 0.846 | F1 0.879 \n",
      "[DURATION]: 0:00:13.380213\n",
      "Using device cpu.\n",
      "Train Epoch: 1[0/6185 (0%)]\tLoss: 0.696291\n",
      "Train      | Epoch 001 | Loss 0.456 | Accuracy 0.789 | Precision 0.802 | Recall 0.695 | F1 0.789 \n"
     ]
    },
    {
     "name": "stderr",
     "output_type": "stream",
     "text": [
      "\u001b[32m[I 2020-10-11 17:22:37,630]\u001b[0m Trial 105 finished with value: 0.9098837209302325 and parameters: {'lr': 0.0014124310539975788, 'dropout_rate': 0.18549260336992018, 'hidden_dim': 37, 'embedding_dim': 25, 'n_layers': 5, 'optimizer': <class 'torch.optim.adam.Adam'>}. Best is trial 96 with value: 0.9229651162790697.\u001b[0m\n"
     ]
    },
    {
     "name": "stdout",
     "output_type": "stream",
     "text": [
      "Validation | Epoch 001 | Loss 0.246 | Accuracy 0.910 | Precision 0.935 | Recall 0.856 | F1 0.910 \n",
      "[DURATION]: 0:00:18.466792\n",
      "Using device cpu.\n",
      "Train Epoch: 1[0/6185 (0%)]\tLoss: 0.682163\n",
      "Train      | Epoch 001 | Loss 0.440 | Accuracy 0.801 | Precision 0.845 | Recall 0.676 | F1 0.801 \n"
     ]
    },
    {
     "name": "stderr",
     "output_type": "stream",
     "text": [
      "\u001b[32m[I 2020-10-11 17:22:50,842]\u001b[0m Trial 106 finished with value: 0.8793604651162791 and parameters: {'lr': 0.0011042676552968488, 'dropout_rate': 0.16341513807458333, 'hidden_dim': 36, 'embedding_dim': 25, 'n_layers': 5, 'optimizer': <class 'torch.optim.adam.Adam'>}. Best is trial 96 with value: 0.9229651162790697.\u001b[0m\n"
     ]
    },
    {
     "name": "stdout",
     "output_type": "stream",
     "text": [
      "Validation | Epoch 001 | Loss 0.294 | Accuracy 0.879 | Precision 0.828 | Recall 0.918 | F1 0.879 \n",
      "[DURATION]: 0:00:12.999506\n",
      "Using device cpu.\n",
      "Train Epoch: 1[0/6185 (0%)]\tLoss: 0.715125\n",
      "Train      | Epoch 001 | Loss 0.484 | Accuracy 0.771 | Precision 0.790 | Recall 0.658 | F1 0.771 \n"
     ]
    },
    {
     "name": "stderr",
     "output_type": "stream",
     "text": [
      "\u001b[32m[I 2020-10-11 17:23:02,773]\u001b[0m Trial 107 finished with value: 0.8357558139534884 and parameters: {'lr': 0.0014169040139849216, 'dropout_rate': 0.1922583899925053, 'hidden_dim': 35, 'embedding_dim': 25, 'n_layers': 5, 'optimizer': <class 'torch.optim.adam.Adam'>}. Best is trial 96 with value: 0.9229651162790697.\u001b[0m\n"
     ]
    },
    {
     "name": "stdout",
     "output_type": "stream",
     "text": [
      "Validation | Epoch 001 | Loss 0.391 | Accuracy 0.836 | Precision 0.925 | Recall 0.685 | F1 0.836 \n",
      "[DURATION]: 0:00:11.847447\n",
      "Using device cpu.\n",
      "Train Epoch: 1[0/6185 (0%)]\tLoss: 0.677591\n",
      "Train      | Epoch 001 | Loss 0.508 | Accuracy 0.768 | Precision 0.785 | Recall 0.654 | F1 0.768 \n"
     ]
    },
    {
     "name": "stderr",
     "output_type": "stream",
     "text": [
      "\u001b[32m[I 2020-10-11 17:23:14,351]\u001b[0m Trial 108 finished with value: 0.8241279069767442 and parameters: {'lr': 0.0013008630096960673, 'dropout_rate': 0.18235213885305598, 'hidden_dim': 37, 'embedding_dim': 23, 'n_layers': 6, 'optimizer': <class 'torch.optim.adam.Adam'>}. Best is trial 96 with value: 0.9229651162790697.\u001b[0m\n"
     ]
    },
    {
     "name": "stdout",
     "output_type": "stream",
     "text": [
      "Validation | Epoch 001 | Loss 0.435 | Accuracy 0.824 | Precision 0.841 | Recall 0.744 | F1 0.824 \n",
      "[DURATION]: 0:00:11.500826\n",
      "Using device cpu.\n",
      "Train Epoch: 1[0/6185 (0%)]\tLoss: 0.671277\n",
      "Train      | Epoch 001 | Loss 0.454 | Accuracy 0.786 | Precision 0.816 | Recall 0.667 | F1 0.786 \n"
     ]
    },
    {
     "name": "stderr",
     "output_type": "stream",
     "text": [
      "\u001b[32m[I 2020-10-11 17:23:24,033]\u001b[0m Trial 109 finished with value: 0.9026162790697675 and parameters: {'lr': 0.0012855500124672027, 'dropout_rate': 0.14555985006198793, 'hidden_dim': 33, 'embedding_dim': 26, 'n_layers': 5, 'optimizer': <class 'torch.optim.adam.Adam'>}. Best is trial 96 with value: 0.9229651162790697.\u001b[0m\n"
     ]
    },
    {
     "name": "stdout",
     "output_type": "stream",
     "text": [
      "Validation | Epoch 001 | Loss 0.268 | Accuracy 0.903 | Precision 0.961 | Recall 0.813 | F1 0.903 \n",
      "[DURATION]: 0:00:09.533737\n",
      "Using device cpu.\n",
      "Train Epoch: 1[0/6185 (0%)]\tLoss: 0.721673\n",
      "Train      | Epoch 001 | Loss 0.478 | Accuracy 0.783 | Precision 0.793 | Recall 0.691 | F1 0.783 \n"
     ]
    },
    {
     "name": "stderr",
     "output_type": "stream",
     "text": [
      "\u001b[32m[I 2020-10-11 17:23:33,520]\u001b[0m Trial 110 finished with value: 0.8386627906976745 and parameters: {'lr': 0.0014749325603517255, 'dropout_rate': 0.1303401782836878, 'hidden_dim': 31, 'embedding_dim': 24, 'n_layers': 5, 'optimizer': <class 'torch.optim.adam.Adam'>}. Best is trial 96 with value: 0.9229651162790697.\u001b[0m\n"
     ]
    },
    {
     "name": "stdout",
     "output_type": "stream",
     "text": [
      "Validation | Epoch 001 | Loss 0.397 | Accuracy 0.839 | Precision 0.844 | Recall 0.780 | F1 0.839 \n",
      "[DURATION]: 0:00:09.407780\n",
      "Using device cpu.\n",
      "Train Epoch: 1[0/6185 (0%)]\tLoss: 0.739124\n",
      "Train      | Epoch 001 | Loss 0.476 | Accuracy 0.772 | Precision 0.782 | Recall 0.674 | F1 0.772 \n"
     ]
    },
    {
     "name": "stderr",
     "output_type": "stream",
     "text": [
      "\u001b[32m[I 2020-10-11 17:23:43,511]\u001b[0m Trial 111 finished with value: 0.8430232558139534 and parameters: {'lr': 0.0013131019794348625, 'dropout_rate': 0.16212480438233362, 'hidden_dim': 34, 'embedding_dim': 26, 'n_layers': 5, 'optimizer': <class 'torch.optim.adam.Adam'>}. Best is trial 96 with value: 0.9229651162790697.\u001b[0m\n"
     ]
    },
    {
     "name": "stdout",
     "output_type": "stream",
     "text": [
      "Validation | Epoch 001 | Loss 0.391 | Accuracy 0.843 | Precision 0.902 | Recall 0.725 | F1 0.843 \n",
      "[DURATION]: 0:00:09.929997\n",
      "Using device cpu.\n",
      "Train Epoch: 1[0/6185 (0%)]\tLoss: 0.692844\n",
      "Train      | Epoch 001 | Loss 0.514 | Accuracy 0.763 | Precision 0.808 | Recall 0.611 | F1 0.763 \n"
     ]
    },
    {
     "name": "stderr",
     "output_type": "stream",
     "text": [
      "\u001b[32m[I 2020-10-11 17:23:54,433]\u001b[0m Trial 112 finished with value: 0.7863372093023255 and parameters: {'lr': 0.0010671827567440943, 'dropout_rate': 0.15149677868676165, 'hidden_dim': 38, 'embedding_dim': 23, 'n_layers': 5, 'optimizer': <class 'torch.optim.adam.Adam'>}. Best is trial 96 with value: 0.9229651162790697.\u001b[0m\n"
     ]
    },
    {
     "name": "stdout",
     "output_type": "stream",
     "text": [
      "Validation | Epoch 001 | Loss 0.475 | Accuracy 0.786 | Precision 0.747 | Recall 0.784 | F1 0.786 \n",
      "[DURATION]: 0:00:10.861186\n",
      "Using device cpu.\n",
      "Train Epoch: 1[0/6185 (0%)]\tLoss: 0.724039\n",
      "Train      | Epoch 001 | Loss 0.528 | Accuracy 0.744 | Precision 0.779 | Recall 0.589 | F1 0.744 \n"
     ]
    },
    {
     "name": "stderr",
     "output_type": "stream",
     "text": [
      "\u001b[32m[I 2020-10-11 17:24:08,015]\u001b[0m Trial 113 finished with value: 0.8212209302325582 and parameters: {'lr': 0.001261448626150936, 'dropout_rate': 0.2076946199390291, 'hidden_dim': 37, 'embedding_dim': 26, 'n_layers': 6, 'optimizer': <class 'torch.optim.adam.Adam'>}. Best is trial 96 with value: 0.9229651162790697.\u001b[0m\n"
     ]
    },
    {
     "name": "stdout",
     "output_type": "stream",
     "text": [
      "Validation | Epoch 001 | Loss 0.436 | Accuracy 0.821 | Precision 0.867 | Recall 0.705 | F1 0.821 \n",
      "[DURATION]: 0:00:13.413795\n",
      "Using device cpu.\n",
      "Train Epoch: 1[0/6185 (0%)]\tLoss: 0.697455\n",
      "Train      | Epoch 001 | Loss 0.439 | Accuracy 0.808 | Precision 0.820 | Recall 0.726 | F1 0.808 \n"
     ]
    },
    {
     "name": "stderr",
     "output_type": "stream",
     "text": [
      "\u001b[32m[I 2020-10-11 17:24:18,387]\u001b[0m Trial 114 finished with value: 0.9040697674418605 and parameters: {'lr': 0.0016011360134563044, 'dropout_rate': 0.18325705634701722, 'hidden_dim': 39, 'embedding_dim': 25, 'n_layers': 5, 'optimizer': <class 'torch.optim.adam.Adam'>}. Best is trial 96 with value: 0.9229651162790697.\u001b[0m\n"
     ]
    },
    {
     "name": "stdout",
     "output_type": "stream",
     "text": [
      "Validation | Epoch 001 | Loss 0.253 | Accuracy 0.904 | Precision 0.941 | Recall 0.836 | F1 0.904 \n",
      "[DURATION]: 0:00:10.301820\n",
      "Using device cpu.\n",
      "Train Epoch: 1[0/6185 (0%)]\tLoss: 0.682754\n",
      "Train      | Epoch 001 | Loss 0.424 | Accuracy 0.810 | Precision 0.839 | Recall 0.707 | F1 0.810 \n"
     ]
    },
    {
     "name": "stderr",
     "output_type": "stream",
     "text": [
      "\u001b[32m[I 2020-10-11 17:24:27,970]\u001b[0m Trial 115 finished with value: 0.9084302325581395 and parameters: {'lr': 0.001575624656399515, 'dropout_rate': 0.19205395682327914, 'hidden_dim': 36, 'embedding_dim': 25, 'n_layers': 5, 'optimizer': <class 'torch.optim.adam.Adam'>}. Best is trial 96 with value: 0.9229651162790697.\u001b[0m\n"
     ]
    },
    {
     "name": "stdout",
     "output_type": "stream",
     "text": [
      "Validation | Epoch 001 | Loss 0.244 | Accuracy 0.908 | Precision 0.890 | Recall 0.905 | F1 0.908 \n",
      "[DURATION]: 0:00:09.511060\n",
      "Using device cpu.\n",
      "Train Epoch: 1[0/6185 (0%)]\tLoss: 0.694711\n",
      "Train      | Epoch 001 | Loss 0.463 | Accuracy 0.782 | Precision 0.797 | Recall 0.683 | F1 0.782 \n"
     ]
    },
    {
     "name": "stderr",
     "output_type": "stream",
     "text": [
      "\u001b[32m[I 2020-10-11 17:24:35,631]\u001b[0m Trial 116 finished with value: 0.9069767441860465 and parameters: {'lr': 0.0015884956945489035, 'dropout_rate': 0.19236703468504449, 'hidden_dim': 32, 'embedding_dim': 22, 'n_layers': 4, 'optimizer': <class 'torch.optim.adam.Adam'>}. Best is trial 96 with value: 0.9229651162790697.\u001b[0m\n"
     ]
    },
    {
     "name": "stdout",
     "output_type": "stream",
     "text": [
      "Validation | Epoch 001 | Loss 0.273 | Accuracy 0.907 | Precision 0.951 | Recall 0.833 | F1 0.907 \n",
      "[DURATION]: 0:00:07.521124\n",
      "Using device cpu.\n",
      "Train Epoch: 1[0/6185 (0%)]\tLoss: 0.682674\n",
      "Train      | Epoch 001 | Loss 0.514 | Accuracy 0.758 | Precision 0.800 | Recall 0.604 | F1 0.758 \n"
     ]
    },
    {
     "name": "stderr",
     "output_type": "stream",
     "text": [
      "\u001b[32m[I 2020-10-11 17:24:44,474]\u001b[0m Trial 117 finished with value: 0.8197674418604651 and parameters: {'lr': 0.0015846086621536203, 'dropout_rate': 0.17152386790416818, 'hidden_dim': 31, 'embedding_dim': 22, 'n_layers': 4, 'optimizer': <class 'torch.optim.adam.Adam'>}. Best is trial 96 with value: 0.9229651162790697.\u001b[0m\n"
     ]
    },
    {
     "name": "stdout",
     "output_type": "stream",
     "text": [
      "Validation | Epoch 001 | Loss 0.460 | Accuracy 0.820 | Precision 0.882 | Recall 0.685 | F1 0.820 \n",
      "[DURATION]: 0:00:08.776650\n",
      "Using device cpu.\n",
      "Train Epoch: 1[0/6185 (0%)]\tLoss: 0.709549\n",
      "Train      | Epoch 001 | Loss 0.496 | Accuracy 0.768 | Precision 0.774 | Recall 0.673 | F1 0.768 \n",
      "Validation | Epoch 001 | Loss 0.413 | Accuracy 0.839 | Precision 0.870 | Recall 0.748 | F1 0.839 "
     ]
    },
    {
     "name": "stderr",
     "output_type": "stream",
     "text": [
      "\u001b[32m[I 2020-10-11 17:24:51,947]\u001b[0m Trial 118 finished with value: 0.8386627906976745 and parameters: {'lr': 0.0014706885507150904, 'dropout_rate': 0.13671439661856916, 'hidden_dim': 35, 'embedding_dim': 25, 'n_layers': 4, 'optimizer': <class 'torch.optim.adam.Adam'>}. Best is trial 96 with value: 0.9229651162790697.\u001b[0m\n"
     ]
    },
    {
     "name": "stdout",
     "output_type": "stream",
     "text": [
      "\n",
      "[DURATION]: 0:00:07.416444\n",
      "Using device cpu.\n",
      "Train Epoch: 1[0/6185 (0%)]\tLoss: 0.708902\n",
      "Train      | Epoch 001 | Loss 0.683 | Accuracy 0.557 | Precision 0.500 | Recall 0.001 | F1 0.557 \n"
     ]
    },
    {
     "name": "stderr",
     "output_type": "stream",
     "text": [
      "\u001b[32m[I 2020-10-11 17:25:00,400]\u001b[0m Trial 119 finished with value: 0.5566860465116279 and parameters: {'lr': 0.001585342811358264, 'dropout_rate': 0.195528717887818, 'hidden_dim': 36, 'embedding_dim': 25, 'n_layers': 4, 'optimizer': <class 'torch.optim.sgd.SGD'>}. Best is trial 96 with value: 0.9229651162790697.\u001b[0m\n"
     ]
    },
    {
     "name": "stdout",
     "output_type": "stream",
     "text": [
      "Validation | Epoch 001 | Loss 0.681 | Accuracy 0.557 | Precision 0.000 | Recall 0.000 | F1 0.557 \n",
      "[DURATION]: 0:00:08.394237\n",
      "Using device cpu.\n",
      "Train Epoch: 1[0/6185 (0%)]\tLoss: 0.701664\n",
      "Train      | Epoch 001 | Loss 0.520 | Accuracy 0.759 | Precision 0.792 | Recall 0.619 | F1 0.759 \n"
     ]
    },
    {
     "name": "stderr",
     "output_type": "stream",
     "text": [
      "\u001b[32m[I 2020-10-11 17:25:12,848]\u001b[0m Trial 120 finished with value: 0.7994186046511628 and parameters: {'lr': 0.0011596948500922383, 'dropout_rate': 0.1797854020875167, 'hidden_dim': 33, 'embedding_dim': 23, 'n_layers': 5, 'optimizer': <class 'torch.optim.adam.Adam'>}. Best is trial 96 with value: 0.9229651162790697.\u001b[0m\n"
     ]
    },
    {
     "name": "stdout",
     "output_type": "stream",
     "text": [
      "Validation | Epoch 001 | Loss 0.438 | Accuracy 0.799 | Precision 0.785 | Recall 0.754 | F1 0.799 \n",
      "[DURATION]: 0:00:12.251768\n",
      "Using device cpu.\n",
      "Train Epoch: 1[0/6185 (0%)]\tLoss: 0.679883\n",
      "Train      | Epoch 001 | Loss 0.485 | Accuracy 0.780 | Precision 0.799 | Recall 0.674 | F1 0.780 \n"
     ]
    },
    {
     "name": "stderr",
     "output_type": "stream",
     "text": [
      "\u001b[32m[I 2020-10-11 17:25:24,865]\u001b[0m Trial 121 finished with value: 0.8343023255813954 and parameters: {'lr': 0.0016793396910109045, 'dropout_rate': 0.18852578437554704, 'hidden_dim': 33, 'embedding_dim': 24, 'n_layers': 5, 'optimizer': <class 'torch.optim.adam.Adam'>}. Best is trial 96 with value: 0.9229651162790697.\u001b[0m\n"
     ]
    },
    {
     "name": "stdout",
     "output_type": "stream",
     "text": [
      "Validation | Epoch 001 | Loss 0.403 | Accuracy 0.834 | Precision 0.880 | Recall 0.725 | F1 0.834 \n",
      "[DURATION]: 0:00:11.916624\n",
      "Using device cpu.\n",
      "Train Epoch: 1[0/6185 (0%)]\tLoss: 0.685675\n",
      "Train      | Epoch 001 | Loss 0.441 | Accuracy 0.805 | Precision 0.831 | Recall 0.705 | F1 0.805 \n"
     ]
    },
    {
     "name": "stderr",
     "output_type": "stream",
     "text": [
      "\u001b[32m[I 2020-10-11 17:25:41,528]\u001b[0m Trial 122 finished with value: 0.876453488372093 and parameters: {'lr': 0.0013667885758764115, 'dropout_rate': 0.10528907646018193, 'hidden_dim': 32, 'embedding_dim': 24, 'n_layers': 5, 'optimizer': <class 'torch.optim.adam.Adam'>}. Best is trial 96 with value: 0.9229651162790697.\u001b[0m\n"
     ]
    },
    {
     "name": "stdout",
     "output_type": "stream",
     "text": [
      "Validation | Epoch 001 | Loss 0.282 | Accuracy 0.876 | Precision 0.831 | Recall 0.905 | F1 0.876 \n",
      "[DURATION]: 0:00:16.584405\n",
      "Using device cpu.\n",
      "Train Epoch: 1[0/6185 (0%)]\tLoss: 0.681100\n",
      "Train      | Epoch 001 | Loss 0.407 | Accuracy 0.818 | Precision 0.839 | Recall 0.728 | F1 0.818 \n"
     ]
    },
    {
     "name": "stderr",
     "output_type": "stream",
     "text": [
      "\u001b[32m[I 2020-10-11 17:25:55,506]\u001b[0m Trial 123 finished with value: 0.8909883720930233 and parameters: {'lr': 0.0012878135663146756, 'dropout_rate': 0.15249383126412558, 'hidden_dim': 39, 'embedding_dim': 21, 'n_layers': 4, 'optimizer': <class 'torch.optim.adam.Adam'>}. Best is trial 96 with value: 0.9229651162790697.\u001b[0m\n"
     ]
    },
    {
     "name": "stdout",
     "output_type": "stream",
     "text": [
      "Validation | Epoch 001 | Loss 0.261 | Accuracy 0.891 | Precision 0.859 | Recall 0.902 | F1 0.891 \n",
      "[DURATION]: 0:00:13.770291\n",
      "Using device cpu.\n",
      "Train Epoch: 1[0/6185 (0%)]\tLoss: 0.682163\n",
      "Train      | Epoch 001 | Loss 0.433 | Accuracy 0.805 | Precision 0.836 | Recall 0.697 | F1 0.805 \n"
     ]
    },
    {
     "name": "stderr",
     "output_type": "stream",
     "text": [
      "\u001b[32m[I 2020-10-11 17:26:10,102]\u001b[0m Trial 124 finished with value: 0.8851744186046512 and parameters: {'lr': 0.0014605651375363476, 'dropout_rate': 0.2135896740201457, 'hidden_dim': 36, 'embedding_dim': 25, 'n_layers': 5, 'optimizer': <class 'torch.optim.adam.Adam'>}. Best is trial 96 with value: 0.9229651162790697.\u001b[0m\n"
     ]
    },
    {
     "name": "stdout",
     "output_type": "stream",
     "text": [
      "Validation | Epoch 001 | Loss 0.289 | Accuracy 0.885 | Precision 0.845 | Recall 0.908 | F1 0.885 \n",
      "[DURATION]: 0:00:14.484610\n",
      "Using device cpu.\n",
      "Train Epoch: 1[0/6185 (0%)]\tLoss: 0.694466\n",
      "Train      | Epoch 001 | Loss 0.420 | Accuracy 0.802 | Precision 0.804 | Recall 0.732 | F1 0.802 \n"
     ]
    },
    {
     "name": "stderr",
     "output_type": "stream",
     "text": [
      "\u001b[32m[I 2020-10-11 17:26:20,186]\u001b[0m Trial 125 finished with value: 0.9156976744186046 and parameters: {'lr': 0.0011918169270410965, 'dropout_rate': 0.1856166734756626, 'hidden_dim': 38, 'embedding_dim': 26, 'n_layers': 5, 'optimizer': <class 'torch.optim.adam.Adam'>}. Best is trial 96 with value: 0.9229651162790697.\u001b[0m\n"
     ]
    },
    {
     "name": "stdout",
     "output_type": "stream",
     "text": [
      "Validation | Epoch 001 | Loss 0.227 | Accuracy 0.916 | Precision 0.930 | Recall 0.875 | F1 0.916 \n",
      "[DURATION]: 0:00:10.008180\n",
      "Using device cpu.\n",
      "Train Epoch: 1[0/6185 (0%)]\tLoss: 0.683354\n",
      "Train      | Epoch 001 | Loss 0.483 | Accuracy 0.775 | Precision 0.826 | Recall 0.624 | F1 0.775 \n"
     ]
    },
    {
     "name": "stderr",
     "output_type": "stream",
     "text": [
      "\u001b[32m[I 2020-10-11 17:26:31,296]\u001b[0m Trial 126 finished with value: 0.8561046511627908 and parameters: {'lr': 0.0011791435597787797, 'dropout_rate': 0.17029412777573869, 'hidden_dim': 37, 'embedding_dim': 26, 'n_layers': 5, 'optimizer': <class 'torch.optim.adam.Adam'>}. Best is trial 96 with value: 0.9229651162790697.\u001b[0m\n"
     ]
    },
    {
     "name": "stdout",
     "output_type": "stream",
     "text": [
      "Validation | Epoch 001 | Loss 0.335 | Accuracy 0.856 | Precision 0.837 | Recall 0.839 | F1 0.856 \n",
      "[DURATION]: 0:00:10.973514\n",
      "Using device cpu.\n",
      "Train Epoch: 1[0/6185 (0%)]\tLoss: 0.704157\n",
      "Train      | Epoch 001 | Loss 0.451 | Accuracy 0.798 | Precision 0.816 | Recall 0.702 | F1 0.798 \n"
     ]
    },
    {
     "name": "stderr",
     "output_type": "stream",
     "text": [
      "\u001b[32m[I 2020-10-11 17:26:41,780]\u001b[0m Trial 127 finished with value: 0.8822674418604651 and parameters: {'lr': 0.0010000040017049674, 'dropout_rate': 0.2017983271943541, 'hidden_dim': 34, 'embedding_dim': 27, 'n_layers': 5, 'optimizer': <class 'torch.optim.adam.Adam'>}. Best is trial 96 with value: 0.9229651162790697.\u001b[0m\n"
     ]
    },
    {
     "name": "stdout",
     "output_type": "stream",
     "text": [
      "Validation | Epoch 001 | Loss 0.279 | Accuracy 0.882 | Precision 0.850 | Recall 0.892 | F1 0.882 \n",
      "[DURATION]: 0:00:10.413824\n",
      "Using device cpu.\n",
      "Train Epoch: 1[0/6185 (0%)]\tLoss: 0.680729\n",
      "Train      | Epoch 001 | Loss 0.426 | Accuracy 0.809 | Precision 0.824 | Recall 0.723 | F1 0.809 \n"
     ]
    },
    {
     "name": "stderr",
     "output_type": "stream",
     "text": [
      "\u001b[32m[I 2020-10-11 17:26:53,811]\u001b[0m Trial 128 finished with value: 0.9026162790697675 and parameters: {'lr': 0.0015165181002254387, 'dropout_rate': 0.18521607566167675, 'hidden_dim': 39, 'embedding_dim': 26, 'n_layers': 4, 'optimizer': <class 'torch.optim.adam.Adam'>}. Best is trial 96 with value: 0.9229651162790697.\u001b[0m\n"
     ]
    },
    {
     "name": "stdout",
     "output_type": "stream",
     "text": [
      "Validation | Epoch 001 | Loss 0.279 | Accuracy 0.903 | Precision 0.976 | Recall 0.800 | F1 0.903 \n",
      "[DURATION]: 0:00:11.960518\n",
      "Using device cpu.\n",
      "Train Epoch: 1[0/6185 (0%)]\tLoss: 0.697847\n",
      "Train      | Epoch 001 | Loss 0.451 | Accuracy 0.801 | Precision 0.827 | Recall 0.697 | F1 0.801 \n"
     ]
    },
    {
     "name": "stderr",
     "output_type": "stream",
     "text": [
      "\u001b[32m[I 2020-10-11 17:27:02,352]\u001b[0m Trial 129 finished with value: 0.880813953488372 and parameters: {'lr': 0.0015418094008491018, 'dropout_rate': 0.1874108239953638, 'hidden_dim': 39, 'embedding_dim': 25, 'n_layers': 4, 'optimizer': <class 'torch.optim.adam.Adam'>}. Best is trial 96 with value: 0.9229651162790697.\u001b[0m\n"
     ]
    },
    {
     "name": "stdout",
     "output_type": "stream",
     "text": [
      "Validation | Epoch 001 | Loss 0.307 | Accuracy 0.881 | Precision 0.863 | Recall 0.869 | F1 0.881 \n",
      "[DURATION]: 0:00:08.391778\n",
      "Using device cpu.\n",
      "Train Epoch: 1[0/6185 (0%)]\tLoss: 0.723362\n",
      "Train      | Epoch 001 | Loss 0.516 | Accuracy 0.753 | Precision 0.777 | Recall 0.620 | F1 0.753 \n"
     ]
    },
    {
     "name": "stderr",
     "output_type": "stream",
     "text": [
      "\u001b[32m[I 2020-10-11 17:27:13,085]\u001b[0m Trial 130 finished with value: 0.8270348837209303 and parameters: {'lr': 0.001610628832107655, 'dropout_rate': 0.2407471333859847, 'hidden_dim': 32, 'embedding_dim': 27, 'n_layers': 6, 'optimizer': <class 'torch.optim.adam.Adam'>}. Best is trial 96 with value: 0.9229651162790697.\u001b[0m\n"
     ]
    },
    {
     "name": "stdout",
     "output_type": "stream",
     "text": [
      "Validation | Epoch 001 | Loss 0.402 | Accuracy 0.827 | Precision 0.791 | Recall 0.830 | F1 0.827 \n",
      "[DURATION]: 0:00:10.664741\n",
      "Using device cpu.\n",
      "Train Epoch: 1[0/6185 (0%)]\tLoss: 0.696848\n",
      "Train      | Epoch 001 | Loss 0.488 | Accuracy 0.776 | Precision 0.801 | Recall 0.657 | F1 0.776 \n"
     ]
    },
    {
     "name": "stderr",
     "output_type": "stream",
     "text": [
      "\u001b[32m[I 2020-10-11 17:27:20,891]\u001b[0m Trial 131 finished with value: 0.8270348837209303 and parameters: {'lr': 0.0014285258679479977, 'dropout_rate': 0.19809791496227816, 'hidden_dim': 38, 'embedding_dim': 26, 'n_layers': 4, 'optimizer': <class 'torch.optim.adam.Adam'>}. Best is trial 96 with value: 0.9229651162790697.\u001b[0m\n"
     ]
    },
    {
     "name": "stdout",
     "output_type": "stream",
     "text": [
      "Validation | Epoch 001 | Loss 0.403 | Accuracy 0.827 | Precision 0.860 | Recall 0.728 | F1 0.827 \n",
      "[DURATION]: 0:00:07.740324\n",
      "Using device cpu.\n",
      "Train Epoch: 1[0/6185 (0%)]\tLoss: 0.703150\n",
      "Train      | Epoch 001 | Loss 0.471 | Accuracy 0.780 | Precision 0.797 | Recall 0.677 | F1 0.780 \n"
     ]
    },
    {
     "name": "stderr",
     "output_type": "stream",
     "text": [
      "\u001b[32m[I 2020-10-11 17:27:31,204]\u001b[0m Trial 132 finished with value: 0.8851744186046512 and parameters: {'lr': 0.001505097906821839, 'dropout_rate': 0.1842137372452812, 'hidden_dim': 36, 'embedding_dim': 26, 'n_layers': 5, 'optimizer': <class 'torch.optim.adam.Adam'>}. Best is trial 96 with value: 0.9229651162790697.\u001b[0m\n"
     ]
    },
    {
     "name": "stdout",
     "output_type": "stream",
     "text": [
      "Validation | Epoch 001 | Loss 0.324 | Accuracy 0.885 | Precision 0.887 | Recall 0.849 | F1 0.885 \n",
      "[DURATION]: 0:00:10.247149\n",
      "Using device cpu.\n",
      "Train Epoch: 1[0/6185 (0%)]\tLoss: 0.708943\n",
      "Train      | Epoch 001 | Loss 0.492 | Accuracy 0.772 | Precision 0.776 | Recall 0.682 | F1 0.772 \n"
     ]
    },
    {
     "name": "stderr",
     "output_type": "stream",
     "text": [
      "\u001b[32m[I 2020-10-11 17:27:44,040]\u001b[0m Trial 133 finished with value: 0.8401162790697675 and parameters: {'lr': 0.0017000674429634881, 'dropout_rate': 0.17297107242241377, 'hidden_dim': 35, 'embedding_dim': 25, 'n_layers': 4, 'optimizer': <class 'torch.optim.adam.Adam'>}. Best is trial 96 with value: 0.9229651162790697.\u001b[0m\n"
     ]
    },
    {
     "name": "stdout",
     "output_type": "stream",
     "text": [
      "Validation | Epoch 001 | Loss 0.406 | Accuracy 0.840 | Precision 0.879 | Recall 0.741 | F1 0.840 \n",
      "[DURATION]: 0:00:12.639358\n",
      "Using device cpu.\n",
      "Train Epoch: 1[0/6185 (0%)]\tLoss: 0.682675\n",
      "Train      | Epoch 001 | Loss 0.470 | Accuracy 0.783 | Precision 0.806 | Recall 0.673 | F1 0.783 \n"
     ]
    },
    {
     "name": "stderr",
     "output_type": "stream",
     "text": [
      "\u001b[32m[I 2020-10-11 17:28:01,363]\u001b[0m Trial 134 finished with value: 0.8895348837209303 and parameters: {'lr': 0.001423408803353158, 'dropout_rate': 0.2076471653021944, 'hidden_dim': 39, 'embedding_dim': 26, 'n_layers': 5, 'optimizer': <class 'torch.optim.adam.Adam'>}. Best is trial 96 with value: 0.9229651162790697.\u001b[0m\n"
     ]
    },
    {
     "name": "stdout",
     "output_type": "stream",
     "text": [
      "Validation | Epoch 001 | Loss 0.283 | Accuracy 0.890 | Precision 0.905 | Recall 0.839 | F1 0.890 \n",
      "[DURATION]: 0:00:17.208741\n",
      "Using device cpu.\n",
      "Train Epoch: 1[0/6185 (0%)]\tLoss: 0.677767\n",
      "Train      | Epoch 001 | Loss 0.505 | Accuracy 0.771 | Precision 0.791 | Recall 0.657 | F1 0.771 \n"
     ]
    },
    {
     "name": "stderr",
     "output_type": "stream",
     "text": [
      "\u001b[32m[I 2020-10-11 17:28:15,956]\u001b[0m Trial 135 finished with value: 0.8212209302325582 and parameters: {'lr': 0.0013522123936777696, 'dropout_rate': 0.15512099343002167, 'hidden_dim': 37, 'embedding_dim': 23, 'n_layers': 6, 'optimizer': <class 'torch.optim.adam.Adam'>}. Best is trial 96 with value: 0.9229651162790697.\u001b[0m\n"
     ]
    },
    {
     "name": "stdout",
     "output_type": "stream",
     "text": [
      "Validation | Epoch 001 | Loss 0.432 | Accuracy 0.821 | Precision 0.845 | Recall 0.731 | F1 0.821 \n",
      "[DURATION]: 0:00:14.399639\n",
      "Using device cpu.\n",
      "Train Epoch: 1[0/6185 (0%)]\tLoss: 0.692578\n",
      "Train      | Epoch 001 | Loss 0.464 | Accuracy 0.782 | Precision 0.804 | Recall 0.671 | F1 0.782 \n"
     ]
    },
    {
     "name": "stderr",
     "output_type": "stream",
     "text": [
      "\u001b[32m[I 2020-10-11 17:28:26,633]\u001b[0m Trial 136 finished with value: 0.8619186046511628 and parameters: {'lr': 0.0012457269735715768, 'dropout_rate': 0.1419540352805459, 'hidden_dim': 38, 'embedding_dim': 24, 'n_layers': 4, 'optimizer': <class 'torch.optim.adam.Adam'>}. Best is trial 96 with value: 0.9229651162790697.\u001b[0m\n"
     ]
    },
    {
     "name": "stdout",
     "output_type": "stream",
     "text": [
      "Validation | Epoch 001 | Loss 0.330 | Accuracy 0.862 | Precision 0.809 | Recall 0.902 | F1 0.862 \n",
      "[DURATION]: 0:00:10.596888\n",
      "Using device cpu.\n",
      "Train Epoch: 1[0/6185 (0%)]\tLoss: 0.707573\n",
      "Train      | Epoch 001 | Loss 0.440 | Accuracy 0.800 | Precision 0.824 | Recall 0.698 | F1 0.800 \n"
     ]
    },
    {
     "name": "stderr",
     "output_type": "stream",
     "text": [
      "\u001b[32m[I 2020-10-11 17:28:38,411]\u001b[0m Trial 137 finished with value: 0.9156976744186046 and parameters: {'lr': 0.0017937084453109797, 'dropout_rate': 0.1681652772976618, 'hidden_dim': 39, 'embedding_dim': 27, 'n_layers': 5, 'optimizer': <class 'torch.optim.adam.Adam'>}. Best is trial 96 with value: 0.9229651162790697.\u001b[0m\n"
     ]
    },
    {
     "name": "stdout",
     "output_type": "stream",
     "text": [
      "Validation | Epoch 001 | Loss 0.240 | Accuracy 0.916 | Precision 0.895 | Recall 0.918 | F1 0.916 \n",
      "[DURATION]: 0:00:11.706104\n",
      "Using device cpu.\n",
      "Train Epoch: 1[0/6185 (0%)]\tLoss: 0.698692\n",
      "Train      | Epoch 001 | Loss 0.465 | Accuracy 0.793 | Precision 0.824 | Recall 0.677 | F1 0.793 \n"
     ]
    },
    {
     "name": "stderr",
     "output_type": "stream",
     "text": [
      "\u001b[32m[I 2020-10-11 17:28:50,893]\u001b[0m Trial 138 finished with value: 0.8372093023255814 and parameters: {'lr': 0.0017925472833667836, 'dropout_rate': 0.1675190357897937, 'hidden_dim': 40, 'embedding_dim': 28, 'n_layers': 6, 'optimizer': <class 'torch.optim.adam.Adam'>}. Best is trial 96 with value: 0.9229651162790697.\u001b[0m\n"
     ]
    },
    {
     "name": "stdout",
     "output_type": "stream",
     "text": [
      "Validation | Epoch 001 | Loss 0.400 | Accuracy 0.837 | Precision 0.867 | Recall 0.748 | F1 0.837 \n",
      "[DURATION]: 0:00:12.305883\n",
      "Using device cpu.\n",
      "Train Epoch: 1[0/6185 (0%)]\tLoss: 0.706076\n",
      "Train      | Epoch 001 | Loss 0.437 | Accuracy 0.804 | Precision 0.815 | Recall 0.722 | F1 0.804 \n"
     ]
    },
    {
     "name": "stderr",
     "output_type": "stream",
     "text": [
      "\u001b[32m[I 2020-10-11 17:29:07,102]\u001b[0m Trial 139 finished with value: 0.8909883720930233 and parameters: {'lr': 0.0011252881075889014, 'dropout_rate': 0.17896500450226566, 'hidden_dim': 34, 'embedding_dim': 27, 'n_layers': 5, 'optimizer': <class 'torch.optim.adam.Adam'>}. Best is trial 96 with value: 0.9229651162790697.\u001b[0m\n"
     ]
    },
    {
     "name": "stdout",
     "output_type": "stream",
     "text": [
      "Validation | Epoch 001 | Loss 0.268 | Accuracy 0.891 | Precision 0.905 | Recall 0.843 | F1 0.891 \n",
      "[DURATION]: 0:00:16.135734\n",
      "Using device cpu.\n",
      "Train Epoch: 1[0/6185 (0%)]\tLoss: 0.693965\n",
      "Train      | Epoch 001 | Loss 0.420 | Accuracy 0.804 | Precision 0.811 | Recall 0.726 | F1 0.804 \n"
     ]
    },
    {
     "name": "stderr",
     "output_type": "stream",
     "text": [
      "\u001b[32m[I 2020-10-11 17:29:30,585]\u001b[0m Trial 140 finished with value: 0.9098837209302325 and parameters: {'lr': 0.0015796995246679256, 'dropout_rate': 0.19542171365305586, 'hidden_dim': 30, 'embedding_dim': 25, 'n_layers': 5, 'optimizer': <class 'torch.optim.adam.Adam'>}. Best is trial 96 with value: 0.9229651162790697.\u001b[0m\n"
     ]
    },
    {
     "name": "stdout",
     "output_type": "stream",
     "text": [
      "Validation | Epoch 001 | Loss 0.232 | Accuracy 0.910 | Precision 0.901 | Recall 0.895 | F1 0.910 \n",
      "[DURATION]: 0:00:23.394946\n",
      "Using device cpu.\n",
      "Train Epoch: 1[0/6185 (0%)]\tLoss: 0.730851\n",
      "Train      | Epoch 001 | Loss 0.510 | Accuracy 0.759 | Precision 0.770 | Recall 0.651 | F1 0.759 \n"
     ]
    },
    {
     "name": "stderr",
     "output_type": "stream",
     "text": [
      "\u001b[32m[I 2020-10-11 17:29:41,156]\u001b[0m Trial 141 finished with value: 0.8299418604651163 and parameters: {'lr': 0.001620355070794401, 'dropout_rate': 0.21666907820991785, 'hidden_dim': 28, 'embedding_dim': 25, 'n_layers': 5, 'optimizer': <class 'torch.optim.adam.Adam'>}. Best is trial 96 with value: 0.9229651162790697.\u001b[0m\n"
     ]
    },
    {
     "name": "stdout",
     "output_type": "stream",
     "text": [
      "Validation | Epoch 001 | Loss 0.430 | Accuracy 0.830 | Precision 0.888 | Recall 0.705 | F1 0.830 \n",
      "[DURATION]: 0:00:10.393422\n",
      "Using device cpu.\n",
      "Train Epoch: 1[0/6185 (0%)]\tLoss: 0.687293\n",
      "Train      | Epoch 001 | Loss 0.502 | Accuracy 0.768 | Precision 0.800 | Recall 0.636 | F1 0.768 \n"
     ]
    },
    {
     "name": "stderr",
     "output_type": "stream",
     "text": [
      "\u001b[32m[I 2020-10-11 17:29:49,204]\u001b[0m Trial 142 finished with value: 0.8270348837209303 and parameters: {'lr': 0.0015623052974870924, 'dropout_rate': 0.19664385439758839, 'hidden_dim': 30, 'embedding_dim': 26, 'n_layers': 5, 'optimizer': <class 'torch.optim.adam.Adam'>}. Best is trial 96 with value: 0.9229651162790697.\u001b[0m\n"
     ]
    },
    {
     "name": "stdout",
     "output_type": "stream",
     "text": [
      "Validation | Epoch 001 | Loss 0.409 | Accuracy 0.827 | Precision 0.878 | Recall 0.708 | F1 0.827 \n",
      "[DURATION]: 0:00:07.988526\n",
      "Using device cpu.\n",
      "Train Epoch: 1[0/6185 (0%)]\tLoss: 0.673329\n",
      "Train      | Epoch 001 | Loss 0.447 | Accuracy 0.793 | Precision 0.829 | Recall 0.671 | F1 0.793 \n"
     ]
    },
    {
     "name": "stderr",
     "output_type": "stream",
     "text": [
      "\u001b[32m[I 2020-10-11 17:30:02,541]\u001b[0m Trial 143 finished with value: 0.8793604651162791 and parameters: {'lr': 0.00185064598093722, 'dropout_rate': 0.1595840901674518, 'hidden_dim': 32, 'embedding_dim': 22, 'n_layers': 5, 'optimizer': <class 'torch.optim.adam.Adam'>}. Best is trial 96 with value: 0.9229651162790697.\u001b[0m\n"
     ]
    },
    {
     "name": "stdout",
     "output_type": "stream",
     "text": [
      "Validation | Epoch 001 | Loss 0.291 | Accuracy 0.879 | Precision 0.845 | Recall 0.892 | F1 0.879 \n",
      "[DURATION]: 0:00:13.238446\n",
      "Using device cpu.\n",
      "Train Epoch: 1[0/6185 (0%)]\tLoss: 0.704687\n",
      "Train      | Epoch 001 | Loss 0.399 | Accuracy 0.815 | Precision 0.832 | Recall 0.731 | F1 0.815 \n"
     ]
    },
    {
     "name": "stderr",
     "output_type": "stream",
     "text": [
      "\u001b[32m[I 2020-10-11 17:30:18,661]\u001b[0m Trial 144 finished with value: 0.9026162790697675 and parameters: {'lr': 0.0017339966910304356, 'dropout_rate': 0.18268511808205073, 'hidden_dim': 29, 'embedding_dim': 25, 'n_layers': 5, 'optimizer': <class 'torch.optim.adam.Adam'>}. Best is trial 96 with value: 0.9229651162790697.\u001b[0m\n"
     ]
    },
    {
     "name": "stdout",
     "output_type": "stream",
     "text": [
      "Validation | Epoch 001 | Loss 0.262 | Accuracy 0.903 | Precision 0.969 | Recall 0.807 | F1 0.903 \n",
      "[DURATION]: 0:00:15.912042\n",
      "Using device cpu.\n",
      "Train Epoch: 1[0/6185 (0%)]\tLoss: 0.685971\n",
      "Train      | Epoch 001 | Loss 0.416 | Accuracy 0.816 | Precision 0.839 | Recall 0.725 | F1 0.816 \n"
     ]
    },
    {
     "name": "stderr",
     "output_type": "stream",
     "text": [
      "\u001b[32m[I 2020-10-11 17:30:31,053]\u001b[0m Trial 145 finished with value: 0.8793604651162791 and parameters: {'lr': 0.0017459755049881818, 'dropout_rate': 0.181867344984787, 'hidden_dim': 29, 'embedding_dim': 25, 'n_layers': 4, 'optimizer': <class 'torch.optim.adam.Adam'>}. Best is trial 96 with value: 0.9229651162790697.\u001b[0m\n"
     ]
    },
    {
     "name": "stdout",
     "output_type": "stream",
     "text": [
      "Validation | Epoch 001 | Loss 0.259 | Accuracy 0.879 | Precision 0.908 | Recall 0.810 | F1 0.879 \n",
      "[DURATION]: 0:00:12.306510\n",
      "Using device cpu.\n",
      "Train Epoch: 1[0/6185 (0%)]\tLoss: 0.688613\n",
      "Train      | Epoch 001 | Loss 0.421 | Accuracy 0.814 | Precision 0.834 | Recall 0.723 | F1 0.814 \n"
     ]
    },
    {
     "name": "stderr",
     "output_type": "stream",
     "text": [
      "\u001b[32m[I 2020-10-11 17:30:46,916]\u001b[0m Trial 146 finished with value: 0.8895348837209303 and parameters: {'lr': 0.0016415373972038653, 'dropout_rate': 0.20510373249337818, 'hidden_dim': 39, 'embedding_dim': 29, 'n_layers': 6, 'optimizer': <class 'torch.optim.adam.Adam'>}. Best is trial 96 with value: 0.9229651162790697.\u001b[0m\n"
     ]
    },
    {
     "name": "stdout",
     "output_type": "stream",
     "text": [
      "Validation | Epoch 001 | Loss 0.291 | Accuracy 0.890 | Precision 0.875 | Recall 0.875 | F1 0.890 \n",
      "[DURATION]: 0:00:15.783206\n",
      "Using device cpu.\n",
      "Train Epoch: 1[0/6185 (0%)]\tLoss: 0.677611\n",
      "Train      | Epoch 001 | Loss 0.450 | Accuracy 0.788 | Precision 0.807 | Recall 0.686 | F1 0.788 \n"
     ]
    },
    {
     "name": "stderr",
     "output_type": "stream",
     "text": [
      "\u001b[32m[I 2020-10-11 17:31:00,966]\u001b[0m Trial 147 finished with value: 0.8517441860465116 and parameters: {'lr': 0.001391750159837476, 'dropout_rate': 0.22748255486604133, 'hidden_dim': 41, 'embedding_dim': 26, 'n_layers': 5, 'optimizer': <class 'torch.optim.adam.Adam'>}. Best is trial 96 with value: 0.9229651162790697.\u001b[0m\n"
     ]
    },
    {
     "name": "stdout",
     "output_type": "stream",
     "text": [
      "Validation | Epoch 001 | Loss 0.334 | Accuracy 0.852 | Precision 0.947 | Recall 0.705 | F1 0.852 \n",
      "[DURATION]: 0:00:13.837971\n",
      "Using device cpu.\n",
      "Train Epoch: 1[0/6185 (0%)]\tLoss: 0.737865\n",
      "Train      | Epoch 001 | Loss 0.525 | Accuracy 0.748 | Precision 0.744 | Recall 0.659 | F1 0.748 \n",
      "Validation | Epoch 001 | Loss 0.368 | Accuracy 0.844 | Precision 0.828 | Recall 0.820 | F1 0.844 "
     ]
    },
    {
     "name": "stderr",
     "output_type": "stream",
     "text": [
      "\u001b[32m[I 2020-10-11 17:31:11,394]\u001b[0m Trial 148 finished with value: 0.8444767441860465 and parameters: {'lr': 0.0012169434793672803, 'dropout_rate': 0.2963326602016402, 'hidden_dim': 31, 'embedding_dim': 27, 'n_layers': 5, 'optimizer': <class 'torch.optim.adam.Adam'>}. Best is trial 96 with value: 0.9229651162790697.\u001b[0m\n"
     ]
    },
    {
     "name": "stdout",
     "output_type": "stream",
     "text": [
      "\n",
      "[DURATION]: 0:00:10.334983\n",
      "Using device cpu.\n",
      "Train Epoch: 1[0/6185 (0%)]\tLoss: 0.691983\n",
      "Train      | Epoch 001 | Loss 0.431 | Accuracy 0.795 | Precision 0.815 | Recall 0.694 | F1 0.795 \n"
     ]
    },
    {
     "name": "stderr",
     "output_type": "stream",
     "text": [
      "\u001b[32m[I 2020-10-11 17:31:20,897]\u001b[0m Trial 149 finished with value: 0.9098837209302325 and parameters: {'lr': 0.001486012605667963, 'dropout_rate': 0.1946302605199313, 'hidden_dim': 38, 'embedding_dim': 24, 'n_layers': 5, 'optimizer': <class 'torch.optim.adam.Adam'>}. Best is trial 96 with value: 0.9229651162790697.\u001b[0m\n"
     ]
    },
    {
     "name": "stdout",
     "output_type": "stream",
     "text": [
      "Validation | Epoch 001 | Loss 0.239 | Accuracy 0.910 | Precision 0.912 | Recall 0.882 | F1 0.910 \n",
      "[DURATION]: 0:00:09.454676\n"
     ]
    },
    {
     "data": {
      "text/plain": [
       "['../studies/20201011_17-31-20_dga_optuna.pkl']"
      ]
     },
     "execution_count": 13,
     "metadata": {},
     "output_type": "execute_result"
    }
   ],
   "source": [
    "sampler = optuna.samplers.TPESampler()\n",
    "study = optuna.create_study(sampler=sampler, direction='maximize')\n",
    "study.optimize(func=hyper_train, n_trials=150)\n",
    "now = datetime.datetime.now()\n",
    "timestamp = str(now.strftime(\"%Y%m%d_%H-%M-%S\"))\n",
    "joblib.dump(study, f'../studies/{timestamp}_dga_optuna.pkl')"
   ]
  },
  {
   "cell_type": "code",
   "execution_count": 14,
   "metadata": {},
   "outputs": [
    {
     "data": {
      "text/plain": [
       "[WindowsPath('../studies/20201011_17-31-20_dga_optuna.pkl'),\n",
       " WindowsPath('../studies/dga_optuna.pkl')]"
      ]
     },
     "execution_count": 14,
     "metadata": {},
     "output_type": "execute_result"
    }
   ],
   "source": [
    "from pathlib import Path\n",
    "\n",
    "# Search the directory\n",
    "list(Path('../studies').glob('*.*'))"
   ]
  },
  {
   "cell_type": "code",
   "execution_count": 15,
   "metadata": {},
   "outputs": [
    {
     "data": {
      "text/html": [
       "<div>\n",
       "<style scoped>\n",
       "    .dataframe tbody tr th:only-of-type {\n",
       "        vertical-align: middle;\n",
       "    }\n",
       "\n",
       "    .dataframe tbody tr th {\n",
       "        vertical-align: top;\n",
       "    }\n",
       "\n",
       "    .dataframe thead th {\n",
       "        text-align: right;\n",
       "    }\n",
       "</style>\n",
       "<table border=\"1\" class=\"dataframe\">\n",
       "  <thead>\n",
       "    <tr style=\"text-align: right;\">\n",
       "      <th></th>\n",
       "      <th>number</th>\n",
       "      <th>value</th>\n",
       "      <th>datetime_start</th>\n",
       "      <th>datetime_complete</th>\n",
       "      <th>duration</th>\n",
       "      <th>params_dropout_rate</th>\n",
       "      <th>params_embedding_dim</th>\n",
       "      <th>params_hidden_dim</th>\n",
       "      <th>params_lr</th>\n",
       "      <th>params_n_layers</th>\n",
       "      <th>params_optimizer</th>\n",
       "      <th>state</th>\n",
       "    </tr>\n",
       "  </thead>\n",
       "  <tbody>\n",
       "    <tr>\n",
       "      <th>96</th>\n",
       "      <td>96</td>\n",
       "      <td>0.922965</td>\n",
       "      <td>2020-10-11 17:20:47.575063</td>\n",
       "      <td>2020-10-11 17:20:56.051558</td>\n",
       "      <td>00:00:08.476495</td>\n",
       "      <td>0.211487</td>\n",
       "      <td>27</td>\n",
       "      <td>41</td>\n",
       "      <td>0.001245</td>\n",
       "      <td>5</td>\n",
       "      <td>&lt;class 'torch.optim.adam.Adam'&gt;</td>\n",
       "      <td>COMPLETE</td>\n",
       "    </tr>\n",
       "    <tr>\n",
       "      <th>137</th>\n",
       "      <td>137</td>\n",
       "      <td>0.915698</td>\n",
       "      <td>2020-10-11 17:28:26.635896</td>\n",
       "      <td>2020-10-11 17:28:38.410991</td>\n",
       "      <td>00:00:11.775095</td>\n",
       "      <td>0.168165</td>\n",
       "      <td>27</td>\n",
       "      <td>39</td>\n",
       "      <td>0.001794</td>\n",
       "      <td>5</td>\n",
       "      <td>&lt;class 'torch.optim.adam.Adam'&gt;</td>\n",
       "      <td>COMPLETE</td>\n",
       "    </tr>\n",
       "    <tr>\n",
       "      <th>83</th>\n",
       "      <td>83</td>\n",
       "      <td>0.915698</td>\n",
       "      <td>2020-10-11 17:18:32.599471</td>\n",
       "      <td>2020-10-11 17:18:42.173847</td>\n",
       "      <td>00:00:09.574376</td>\n",
       "      <td>0.313486</td>\n",
       "      <td>30</td>\n",
       "      <td>47</td>\n",
       "      <td>0.001549</td>\n",
       "      <td>5</td>\n",
       "      <td>&lt;class 'torch.optim.adam.Adam'&gt;</td>\n",
       "      <td>COMPLETE</td>\n",
       "    </tr>\n",
       "    <tr>\n",
       "      <th>125</th>\n",
       "      <td>125</td>\n",
       "      <td>0.915698</td>\n",
       "      <td>2020-10-11 17:26:10.104892</td>\n",
       "      <td>2020-10-11 17:26:20.185073</td>\n",
       "      <td>00:00:10.080181</td>\n",
       "      <td>0.185617</td>\n",
       "      <td>26</td>\n",
       "      <td>38</td>\n",
       "      <td>0.001192</td>\n",
       "      <td>5</td>\n",
       "      <td>&lt;class 'torch.optim.adam.Adam'&gt;</td>\n",
       "      <td>COMPLETE</td>\n",
       "    </tr>\n",
       "    <tr>\n",
       "      <th>101</th>\n",
       "      <td>101</td>\n",
       "      <td>0.911337</td>\n",
       "      <td>2020-10-11 17:21:37.551870</td>\n",
       "      <td>2020-10-11 17:21:47.211033</td>\n",
       "      <td>00:00:09.659163</td>\n",
       "      <td>0.188122</td>\n",
       "      <td>24</td>\n",
       "      <td>40</td>\n",
       "      <td>0.001288</td>\n",
       "      <td>5</td>\n",
       "      <td>&lt;class 'torch.optim.adam.Adam'&gt;</td>\n",
       "      <td>COMPLETE</td>\n",
       "    </tr>\n",
       "    <tr>\n",
       "      <th>...</th>\n",
       "      <td>...</td>\n",
       "      <td>...</td>\n",
       "      <td>...</td>\n",
       "      <td>...</td>\n",
       "      <td>...</td>\n",
       "      <td>...</td>\n",
       "      <td>...</td>\n",
       "      <td>...</td>\n",
       "      <td>...</td>\n",
       "      <td>...</td>\n",
       "      <td>...</td>\n",
       "      <td>...</td>\n",
       "    </tr>\n",
       "    <tr>\n",
       "      <th>2</th>\n",
       "      <td>2</td>\n",
       "      <td>0.556686</td>\n",
       "      <td>2020-10-11 17:05:13.091640</td>\n",
       "      <td>2020-10-11 17:05:24.738541</td>\n",
       "      <td>00:00:11.646901</td>\n",
       "      <td>0.357542</td>\n",
       "      <td>27</td>\n",
       "      <td>42</td>\n",
       "      <td>0.001382</td>\n",
       "      <td>9</td>\n",
       "      <td>&lt;class 'torch.optim.sgd.SGD'&gt;</td>\n",
       "      <td>COMPLETE</td>\n",
       "    </tr>\n",
       "    <tr>\n",
       "      <th>46</th>\n",
       "      <td>46</td>\n",
       "      <td>0.556686</td>\n",
       "      <td>2020-10-11 17:11:58.636692</td>\n",
       "      <td>2020-10-11 17:12:06.675252</td>\n",
       "      <td>00:00:08.038560</td>\n",
       "      <td>0.423350</td>\n",
       "      <td>13</td>\n",
       "      <td>41</td>\n",
       "      <td>0.005442</td>\n",
       "      <td>6</td>\n",
       "      <td>&lt;class 'torch.optim.sgd.SGD'&gt;</td>\n",
       "      <td>COMPLETE</td>\n",
       "    </tr>\n",
       "    <tr>\n",
       "      <th>69</th>\n",
       "      <td>69</td>\n",
       "      <td>0.530523</td>\n",
       "      <td>2020-10-11 17:16:02.333080</td>\n",
       "      <td>2020-10-11 17:16:11.896839</td>\n",
       "      <td>00:00:09.563759</td>\n",
       "      <td>0.367371</td>\n",
       "      <td>28</td>\n",
       "      <td>41</td>\n",
       "      <td>0.001989</td>\n",
       "      <td>6</td>\n",
       "      <td>&lt;class 'torch.optim.sgd.SGD'&gt;</td>\n",
       "      <td>COMPLETE</td>\n",
       "    </tr>\n",
       "    <tr>\n",
       "      <th>20</th>\n",
       "      <td>20</td>\n",
       "      <td>0.500000</td>\n",
       "      <td>2020-10-11 17:08:09.548959</td>\n",
       "      <td>2020-10-11 17:08:17.774833</td>\n",
       "      <td>00:00:08.225874</td>\n",
       "      <td>0.203505</td>\n",
       "      <td>25</td>\n",
       "      <td>26</td>\n",
       "      <td>0.002582</td>\n",
       "      <td>3</td>\n",
       "      <td>&lt;class 'torch.optim.sgd.SGD'&gt;</td>\n",
       "      <td>COMPLETE</td>\n",
       "    </tr>\n",
       "    <tr>\n",
       "      <th>8</th>\n",
       "      <td>8</td>\n",
       "      <td>0.443314</td>\n",
       "      <td>2020-10-11 17:06:09.802396</td>\n",
       "      <td>2020-10-11 17:06:21.550282</td>\n",
       "      <td>00:00:11.747886</td>\n",
       "      <td>0.249459</td>\n",
       "      <td>30</td>\n",
       "      <td>17</td>\n",
       "      <td>0.001954</td>\n",
       "      <td>10</td>\n",
       "      <td>&lt;class 'torch.optim.sgd.SGD'&gt;</td>\n",
       "      <td>COMPLETE</td>\n",
       "    </tr>\n",
       "  </tbody>\n",
       "</table>\n",
       "<p>150 rows × 12 columns</p>\n",
       "</div>"
      ],
      "text/plain": [
       "     number     value             datetime_start          datetime_complete  \\\n",
       "96       96  0.922965 2020-10-11 17:20:47.575063 2020-10-11 17:20:56.051558   \n",
       "137     137  0.915698 2020-10-11 17:28:26.635896 2020-10-11 17:28:38.410991   \n",
       "83       83  0.915698 2020-10-11 17:18:32.599471 2020-10-11 17:18:42.173847   \n",
       "125     125  0.915698 2020-10-11 17:26:10.104892 2020-10-11 17:26:20.185073   \n",
       "101     101  0.911337 2020-10-11 17:21:37.551870 2020-10-11 17:21:47.211033   \n",
       "..      ...       ...                        ...                        ...   \n",
       "2         2  0.556686 2020-10-11 17:05:13.091640 2020-10-11 17:05:24.738541   \n",
       "46       46  0.556686 2020-10-11 17:11:58.636692 2020-10-11 17:12:06.675252   \n",
       "69       69  0.530523 2020-10-11 17:16:02.333080 2020-10-11 17:16:11.896839   \n",
       "20       20  0.500000 2020-10-11 17:08:09.548959 2020-10-11 17:08:17.774833   \n",
       "8         8  0.443314 2020-10-11 17:06:09.802396 2020-10-11 17:06:21.550282   \n",
       "\n",
       "           duration  params_dropout_rate  params_embedding_dim  \\\n",
       "96  00:00:08.476495             0.211487                    27   \n",
       "137 00:00:11.775095             0.168165                    27   \n",
       "83  00:00:09.574376             0.313486                    30   \n",
       "125 00:00:10.080181             0.185617                    26   \n",
       "101 00:00:09.659163             0.188122                    24   \n",
       "..              ...                  ...                   ...   \n",
       "2   00:00:11.646901             0.357542                    27   \n",
       "46  00:00:08.038560             0.423350                    13   \n",
       "69  00:00:09.563759             0.367371                    28   \n",
       "20  00:00:08.225874             0.203505                    25   \n",
       "8   00:00:11.747886             0.249459                    30   \n",
       "\n",
       "     params_hidden_dim  params_lr  params_n_layers  \\\n",
       "96                  41   0.001245                5   \n",
       "137                 39   0.001794                5   \n",
       "83                  47   0.001549                5   \n",
       "125                 38   0.001192                5   \n",
       "101                 40   0.001288                5   \n",
       "..                 ...        ...              ...   \n",
       "2                   42   0.001382                9   \n",
       "46                  41   0.005442                6   \n",
       "69                  41   0.001989                6   \n",
       "20                  26   0.002582                3   \n",
       "8                   17   0.001954               10   \n",
       "\n",
       "                    params_optimizer     state  \n",
       "96   <class 'torch.optim.adam.Adam'>  COMPLETE  \n",
       "137  <class 'torch.optim.adam.Adam'>  COMPLETE  \n",
       "83   <class 'torch.optim.adam.Adam'>  COMPLETE  \n",
       "125  <class 'torch.optim.adam.Adam'>  COMPLETE  \n",
       "101  <class 'torch.optim.adam.Adam'>  COMPLETE  \n",
       "..                               ...       ...  \n",
       "2      <class 'torch.optim.sgd.SGD'>  COMPLETE  \n",
       "46     <class 'torch.optim.sgd.SGD'>  COMPLETE  \n",
       "69     <class 'torch.optim.sgd.SGD'>  COMPLETE  \n",
       "20     <class 'torch.optim.sgd.SGD'>  COMPLETE  \n",
       "8      <class 'torch.optim.sgd.SGD'>  COMPLETE  \n",
       "\n",
       "[150 rows x 12 columns]"
      ]
     },
     "execution_count": 15,
     "metadata": {},
     "output_type": "execute_result"
    }
   ],
   "source": [
    "study = joblib.load('../studies/20201011_17-31-20_dga_optuna.pkl')\n",
    "df = study.trials_dataframe()\n",
    "df.sort_values(by=['value'], ascending=False)"
   ]
  },
  {
   "cell_type": "code",
   "execution_count": null,
   "metadata": {},
   "outputs": [],
   "source": [
    "# import plotly\n",
    "# from optuna.visualization import plot_parallel_coordinate\n",
    "\n",
    "# plot_parallel_coordinate(study)"
   ]
  },
  {
   "cell_type": "code",
   "execution_count": null,
   "metadata": {},
   "outputs": [],
   "source": [
    "# from optuna.visualization import plot_contour\n",
    "\n",
    "# plot_contour(study)"
   ]
  }
 ],
 "metadata": {
  "kernelspec": {
   "display_name": "threat_science",
   "language": "python",
   "name": "threat_science"
  },
  "language_info": {
   "codemirror_mode": {
    "name": "ipython",
    "version": 3
   },
   "file_extension": ".py",
   "mimetype": "text/x-python",
   "name": "python",
   "nbconvert_exporter": "python",
   "pygments_lexer": "ipython3",
   "version": "3.8.3"
  }
 },
 "nbformat": 4,
 "nbformat_minor": 4
}
