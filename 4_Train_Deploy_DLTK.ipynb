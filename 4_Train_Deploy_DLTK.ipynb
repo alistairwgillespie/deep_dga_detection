{
 "cells": [
  {
   "cell_type": "markdown",
   "metadata": {},
   "source": [
    "# Deep Learning Toolkit for Splunk - Barebone Notebook"
   ]
  },
  {
   "cell_type": "markdown",
   "metadata": {},
   "source": [
    "This notebook contains a barebone example workflow how to work on custom containerized code that seamlessly interfaces with the Deep Learning Toolkit for Splunk."
   ]
  },
  {
   "cell_type": "markdown",
   "metadata": {},
   "source": [
    "Note: By default every time you save this notebook the cells are exported into a python module which is then invoked by Splunk MLTK commands like <code> | fit ... | apply ... | summary </code>. Please read the Model Development Guide in the Deep Learning Toolkit app for more information."
   ]
  },
  {
   "cell_type": "markdown",
   "metadata": {},
   "source": [
    "## Stage 0 - import libraries\n",
    "At stage 0 we define all imports necessary to run our subsequent code depending on various libraries."
   ]
  },
  {
   "cell_type": "code",
   "execution_count": 1,
   "metadata": {
    "deletable": false,
    "name": "mltkc_import"
   },
   "outputs": [],
   "source": [
    "# this definition exposes all python module imports that should be available in all subsequent commands\n",
    "import json\n",
    "import numpy as np\n",
    "import pandas as pd\n",
    "import os\n",
    "import torch\n",
    "import torch.utils.data\n",
    "import torch.nn as nn\n",
    "# ...\n",
    "# global constants\n",
    "MODEL_DIRECTORY = \"/srv/app/model/data/\""
   ]
  },
  {
   "cell_type": "code",
   "execution_count": 2,
   "metadata": {},
   "outputs": [
    {
     "name": "stdout",
     "output_type": "stream",
     "text": [
      "numpy version: 1.15.4\n",
      "pandas version: 0.25.1\n"
     ]
    }
   ],
   "source": [
    "# THIS CELL IS NOT EXPORTED - free notebook cell for testing or development purposes\n",
    "print(\"numpy version: \" + np.__version__)\n",
    "print(\"pandas version: \" + pd.__version__)"
   ]
  },
  {
   "cell_type": "markdown",
   "metadata": {},
   "source": [
    "## Stage 1 - get a data sample from Splunk\n",
    "In Splunk run a search to pipe a dataset into your notebook environment. Note: mode=stage is used in the | fit command to do this."
   ]
  },
  {
   "cell_type": "markdown",
   "metadata": {},
   "source": [
    "| makeresults count=10<br>\n",
    "| streamstats c as i<br>\n",
    "| eval s = i%3<br>\n",
    "| eval feature_{s}=0<br>\n",
    "| foreach feature_* [eval &lt;&lt;FIELD&gt;&gt;=random()/pow(2,31)]<br>\n",
    "| fit MLTKContainer mode=stage algo=barebone epochs=10 batch_size=1 s from feature_* into app:barebone_model"
   ]
  },
  {
   "cell_type": "markdown",
   "metadata": {},
   "source": [
    "After you run this search your data set sample is available as a csv inside the container to develop your model. The name is taken from the into keyword (\"barebone_model\" in the example above) or set to \"default\" if no into keyword is present. This step is intended to work with a subset of your data to create your custom model."
   ]
  },
  {
   "cell_type": "code",
   "execution_count": 3,
   "metadata": {},
   "outputs": [],
   "source": [
    "# should be the name of directory you created to save your features data\n",
    "data_dir = 'data'"
   ]
  },
  {
   "cell_type": "code",
   "execution_count": 4,
   "metadata": {},
   "outputs": [
    {
     "name": "stdout",
     "output_type": "stream",
     "text": [
      "angertourloadscheduleimplement.com\n",
      "eveningcarpetzonelanddelay.com\n",
      "bedroomliptransitionbone.com\n",
      "industrytowerzoneblowretain.com\n",
      "hospitalprofileproposerepeat.com\n",
      "answeradoptspotmeetquestion.com\n",
      "seasonchargecompleteappreciate.com\n",
      "addressbottlelucktradepass.com\n",
      "shoejoindishframediscover.com\n",
      "temperatureconsultknifereserve.com\n"
     ]
    }
   ],
   "source": [
    "# take a look at some matsnu example domains\n",
    "from dga import matsnu\n",
    "\n",
    "for i in range(10):\n",
    "    print(matsnu.generate_domain())"
   ]
  },
  {
   "cell_type": "code",
   "execution_count": 5,
   "metadata": {},
   "outputs": [
    {
     "name": "stdout",
     "output_type": "stream",
     "text": [
      "Matsnu Shape: (20000, 1)\n"
     ]
    },
    {
     "data": {
      "text/html": [
       "<div>\n",
       "<style scoped>\n",
       "    .dataframe tbody tr th:only-of-type {\n",
       "        vertical-align: middle;\n",
       "    }\n",
       "\n",
       "    .dataframe tbody tr th {\n",
       "        vertical-align: top;\n",
       "    }\n",
       "\n",
       "    .dataframe thead th {\n",
       "        text-align: right;\n",
       "    }\n",
       "</style>\n",
       "<table border=\"1\" class=\"dataframe\">\n",
       "  <thead>\n",
       "    <tr style=\"text-align: right;\">\n",
       "      <th></th>\n",
       "      <th>domain</th>\n",
       "      <th>label</th>\n",
       "    </tr>\n",
       "  </thead>\n",
       "  <tbody>\n",
       "    <tr>\n",
       "      <td>0</td>\n",
       "      <td>weddingbluecreamjurypractice.com</td>\n",
       "      <td>dga</td>\n",
       "    </tr>\n",
       "    <tr>\n",
       "      <td>1</td>\n",
       "      <td>fingermarriedfeatureobtain.com</td>\n",
       "      <td>dga</td>\n",
       "    </tr>\n",
       "    <tr>\n",
       "      <td>2</td>\n",
       "      <td>mediumbunchadmireblankexchange.com</td>\n",
       "      <td>dga</td>\n",
       "    </tr>\n",
       "    <tr>\n",
       "      <td>3</td>\n",
       "      <td>sandwichmarkweekendapply.com</td>\n",
       "      <td>dga</td>\n",
       "    </tr>\n",
       "    <tr>\n",
       "      <td>4</td>\n",
       "      <td>eastlackschemebrainfailcompany.com</td>\n",
       "      <td>dga</td>\n",
       "    </tr>\n",
       "  </tbody>\n",
       "</table>\n",
       "</div>"
      ],
      "text/plain": [
       "                               domain label\n",
       "0    weddingbluecreamjurypractice.com   dga\n",
       "1      fingermarriedfeatureobtain.com   dga\n",
       "2  mediumbunchadmireblankexchange.com   dga\n",
       "3        sandwichmarkweekendapply.com   dga\n",
       "4  eastlackschemebrainfailcompany.com   dga"
      ]
     },
     "execution_count": 5,
     "metadata": {},
     "output_type": "execute_result"
    }
   ],
   "source": [
    "# matsnu domains\n",
    "matsnu_list = []\n",
    "\n",
    "for i in range(20000):\n",
    "    matsnu_list.append(matsnu.generate_domain())\n",
    "    \n",
    "matsnu_df = pd.DataFrame(matsnu_list, columns=['domain'])\n",
    "\n",
    "print(\"Matsnu Shape:\", matsnu_df.shape)\n",
    "\n",
    "matsnu_df['label'] = 'dga'\n",
    "\n",
    "matsnu_df.head()"
   ]
  },
  {
   "cell_type": "code",
   "execution_count": 6,
   "metadata": {},
   "outputs": [
    {
     "data": {
      "text/html": [
       "<div>\n",
       "<style scoped>\n",
       "    .dataframe tbody tr th:only-of-type {\n",
       "        vertical-align: middle;\n",
       "    }\n",
       "\n",
       "    .dataframe tbody tr th {\n",
       "        vertical-align: top;\n",
       "    }\n",
       "\n",
       "    .dataframe thead th {\n",
       "        text-align: right;\n",
       "    }\n",
       "</style>\n",
       "<table border=\"1\" class=\"dataframe\">\n",
       "  <thead>\n",
       "    <tr style=\"text-align: right;\">\n",
       "      <th></th>\n",
       "      <th>domain</th>\n",
       "      <th>label</th>\n",
       "    </tr>\n",
       "  </thead>\n",
       "  <tbody>\n",
       "    <tr>\n",
       "      <td>1</td>\n",
       "      <td>google.com</td>\n",
       "      <td>benign</td>\n",
       "    </tr>\n",
       "    <tr>\n",
       "      <td>2</td>\n",
       "      <td>youtube.com</td>\n",
       "      <td>benign</td>\n",
       "    </tr>\n",
       "    <tr>\n",
       "      <td>3</td>\n",
       "      <td>facebook.com</td>\n",
       "      <td>benign</td>\n",
       "    </tr>\n",
       "    <tr>\n",
       "      <td>4</td>\n",
       "      <td>baidu.com</td>\n",
       "      <td>benign</td>\n",
       "    </tr>\n",
       "    <tr>\n",
       "      <td>5</td>\n",
       "      <td>wikipedia.org</td>\n",
       "      <td>benign</td>\n",
       "    </tr>\n",
       "  </tbody>\n",
       "</table>\n",
       "</div>"
      ],
      "text/plain": [
       "          domain   label\n",
       "1     google.com  benign\n",
       "2    youtube.com  benign\n",
       "3   facebook.com  benign\n",
       "4      baidu.com  benign\n",
       "5  wikipedia.org  benign"
      ]
     },
     "execution_count": 6,
     "metadata": {},
     "output_type": "execute_result"
    }
   ],
   "source": [
    "# alex top 1 million domains\n",
    "alexa_df = pd.read_csv(data_dir + \"/alexa_top_1m.csv\", names=['domain'])\n",
    "\n",
    "alexa_df['label'] = 'benign'\n",
    "\n",
    "alexa_df.head()"
   ]
  },
  {
   "cell_type": "code",
   "execution_count": 7,
   "metadata": {},
   "outputs": [],
   "source": [
    "train_df = pd.concat([alexa_df.iloc[:20000], matsnu_df.iloc[:20000]], axis=0).reset_index(drop=True)"
   ]
  },
  {
   "cell_type": "code",
   "execution_count": 8,
   "metadata": {},
   "outputs": [
    {
     "data": {
      "text/html": [
       "<div>\n",
       "<style scoped>\n",
       "    .dataframe tbody tr th:only-of-type {\n",
       "        vertical-align: middle;\n",
       "    }\n",
       "\n",
       "    .dataframe tbody tr th {\n",
       "        vertical-align: top;\n",
       "    }\n",
       "\n",
       "    .dataframe thead th {\n",
       "        text-align: right;\n",
       "    }\n",
       "</style>\n",
       "<table border=\"1\" class=\"dataframe\">\n",
       "  <thead>\n",
       "    <tr style=\"text-align: right;\">\n",
       "      <th></th>\n",
       "      <th>domain</th>\n",
       "      <th>label</th>\n",
       "    </tr>\n",
       "  </thead>\n",
       "  <tbody>\n",
       "    <tr>\n",
       "      <td>0</td>\n",
       "      <td>google.com</td>\n",
       "      <td>benign</td>\n",
       "    </tr>\n",
       "    <tr>\n",
       "      <td>1</td>\n",
       "      <td>youtube.com</td>\n",
       "      <td>benign</td>\n",
       "    </tr>\n",
       "    <tr>\n",
       "      <td>2</td>\n",
       "      <td>facebook.com</td>\n",
       "      <td>benign</td>\n",
       "    </tr>\n",
       "    <tr>\n",
       "      <td>3</td>\n",
       "      <td>baidu.com</td>\n",
       "      <td>benign</td>\n",
       "    </tr>\n",
       "    <tr>\n",
       "      <td>4</td>\n",
       "      <td>wikipedia.org</td>\n",
       "      <td>benign</td>\n",
       "    </tr>\n",
       "  </tbody>\n",
       "</table>\n",
       "</div>"
      ],
      "text/plain": [
       "          domain   label\n",
       "0     google.com  benign\n",
       "1    youtube.com  benign\n",
       "2   facebook.com  benign\n",
       "3      baidu.com  benign\n",
       "4  wikipedia.org  benign"
      ]
     },
     "execution_count": 8,
     "metadata": {},
     "output_type": "execute_result"
    }
   ],
   "source": [
    "train_df.head()"
   ]
  },
  {
   "cell_type": "code",
   "execution_count": 9,
   "metadata": {},
   "outputs": [],
   "source": [
    "# import labelencoder\n",
    "from sklearn.preprocessing import LabelEncoder\n",
    "\n",
    "# instantiate labelencoder object\n",
    "le = LabelEncoder()"
   ]
  },
  {
   "cell_type": "code",
   "execution_count": 10,
   "metadata": {},
   "outputs": [
    {
     "data": {
      "text/plain": [
       "0    0\n",
       "1    0\n",
       "2    0\n",
       "3    0\n",
       "4    0\n",
       "5    0\n",
       "6    0\n",
       "7    0\n",
       "8    0\n",
       "9    0\n",
       "Name: label, dtype: int64"
      ]
     },
     "execution_count": 10,
     "metadata": {},
     "output_type": "execute_result"
    }
   ],
   "source": [
    "# Apply le on categorical feature columns\n",
    "train_df['label'] = le.fit_transform(train_df['label'])\n",
    "\n",
    "train_df['label'].head(10)"
   ]
  },
  {
   "cell_type": "code",
   "execution_count": 11,
   "metadata": {},
   "outputs": [],
   "source": [
    "import os\n",
    "import pandas as pd\n",
    "import torch\n",
    "from torch.utils.data import Dataset\n",
    "import numpy as np\n",
    "from sklearn.preprocessing import LabelEncoder\n",
    "# from __future__ import unicode_literals, print_function, division\n",
    "from io import open\n",
    "import glob\n",
    "\n",
    "# print(findFiles('data/names/*.txt'))\n",
    "\n",
    "import unicodedata\n",
    "import string\n",
    "\n",
    "class DGADataset(Dataset):\n",
    "    def __init__(self, data_dir, csv_path, n_records):\n",
    "        \"\"\"\n",
    "        Args:\n",
    "            data_dir (string): directory name\n",
    "            csv_path (string): csv filename\n",
    "        \"\"\"\n",
    "        \n",
    "        self.all_chars =  self.__build__chars__()\n",
    "        \n",
    "        self.alexa_df = pd.read_csv(\n",
    "            os.path.join(data_dir, csv_path),\n",
    "            names=['domain']\n",
    "        ).iloc[:n_records]\n",
    "        self.alexa_df['label'] = 'benign'\n",
    "        \n",
    "        self.matsnu_df = pd.DataFrame(\n",
    "            [matsnu.generate_domain() for i in range(n_records)],\n",
    "            columns = ['domain']\n",
    "        )\n",
    "        self.matsnu_df['label'] = 'dga'\n",
    "        \n",
    "        self.data_df = pd.concat([self.alexa_df, self.matsnu_df]).reset_index(drop=True)\n",
    "        \n",
    "        class_labeler = LabelEncoder()\n",
    "        self.data_df['class'] = le.fit_transform(self.data_df['label'])\n",
    "        \n",
    "        self.inputs = self.data_df.iloc[:, 0]\n",
    "        self.labels = self.data_df.iloc[:, -1]\n",
    "        \n",
    "        self.data_len = len(self.data_df.index)\n",
    "\n",
    "    def __build__chars__(self):\n",
    "        \"\"\"Build dictionary of chars.\"\"\"\n",
    "        all_letters = string.ascii_letters + string.digits + \" .'-\"\n",
    "        return {all_letters[i]:i for i in range(len(all_letters))}\n",
    "    \n",
    "    def char_to_ix(self, char):\n",
    "        \"\"\"Character to index lookup.\"\"\"\n",
    "        return self.all_chars[char]\n",
    "\n",
    "    def ix_to_char(self, char):\n",
    "        \"\"\"Index to character lookup.\"\"\"\n",
    "        for i, val in self.all_chars.items():\n",
    "            if val == char:\n",
    "                return i\n",
    "\n",
    "    def domain_to_ix(self, domain):\n",
    "        \"\"\"Domain to sequence of indexes.\"\"\"\n",
    "        return torch.LongTensor([self.char_to_ix(i) for i in domain])\n",
    "\n",
    "    def __getitem__(self, index):\n",
    "        domain = self.domain_to_ix(self.inputs[index])\n",
    "        target = torch.LongTensor([self.labels[index]])\n",
    "        return (domain, target)\n",
    "\n",
    "    def __len__(self):\n",
    "        return self.data_len\n"
   ]
  },
  {
   "cell_type": "code",
   "execution_count": 12,
   "metadata": {},
   "outputs": [
    {
     "data": {
      "text/plain": [
       "(tensor([ 6, 14, 14,  6, 11,  4, 63,  2, 14, 12]), tensor([0]))"
      ]
     },
     "execution_count": 12,
     "metadata": {},
     "output_type": "execute_result"
    }
   ],
   "source": [
    "DGADataset('data', 'alexa_top_1m.csv', 10).__getitem__(0)"
   ]
  },
  {
   "cell_type": "code",
   "execution_count": 13,
   "metadata": {},
   "outputs": [],
   "source": [
    "from torch.utils.data import DataLoader\n",
    "from torch.nn.utils.rnn import pad_sequence\n",
    "\n",
    "def pad_collate(batch):\n",
    "    (xx, yy) = zip(*batch)\n",
    "    x_lens = [len(x) for x in xx]\n",
    "    y_lens = [len(y) for y in yy]\n",
    "\n",
    "    xx_pad = pad_sequence(xx, batch_first=True, padding_value=0)\n",
    "\n",
    "    return xx_pad, yy, x_lens, y_lens\n",
    "\n",
    "def _get_train_data_loader(batch_size, data_dir, filename, n_records):\n",
    "    print(\"Get train data loader.\")\n",
    "    \n",
    "    dataset =  DGADataset(data_dir, filename, n_records)\n",
    "    \n",
    "    return DataLoader(dataset, batch_size=batch_size, shuffle=True, collate_fn=pad_collate)"
   ]
  },
  {
   "cell_type": "code",
   "execution_count": 14,
   "metadata": {},
   "outputs": [
    {
     "name": "stderr",
     "output_type": "stream",
     "text": [
      ".....\n",
      "----------------------------------------------------------------------\n",
      "Ran 5 tests in 4.453s\n",
      "\n",
      "OK\n"
     ]
    }
   ],
   "source": [
    "import unittest\n",
    "\n",
    "class TestDGADataSet(unittest.TestCase):\n",
    "    def setUp(self):\n",
    "        self.n = 200\n",
    "        self.test_dga = DGADataset('data', 'alexa_top_1m.csv', self.n)\n",
    "\n",
    "    def test_length(self):\n",
    "        actual_len = self.test_dga.__len__()\n",
    "        self.assertEqual(actual_len, self.n * 2, \n",
    "                         \"DataSet is not the right length ({}), should be {}\".format(actual_len, 400)\n",
    "                        )\n",
    "\n",
    "    def test_labels(self):\n",
    "        expected_labels = ['benign', 'dga']\n",
    "        labels = self.test_dga.data_df['label'].unique().tolist()\n",
    "        self.assertEqual(labels, \n",
    "                         expected_labels, \n",
    "                         \"Incorrect labels ({}), expected {}\".format(labels, expected_labels)\n",
    "                        )\n",
    "        \n",
    "    def test_classes(self):\n",
    "        expected_classes = [0, 1]\n",
    "        classes = self.test_dga.data_df['class'].unique().tolist()\n",
    "        self.assertEqual(classes, \n",
    "                         expected_classes, \n",
    "                         \"Incorrect classes ({}), expected {})\".format(classes, expected_classes)\n",
    "                        )\n",
    "        \n",
    "    def test_index(self):\n",
    "        index = self.test_dga.data_df.index.tolist()\n",
    "        self.assertEqual(len(index), \n",
    "                         len(set(index)),\n",
    "                         \"Index contains duplicates ({}), expected {})\".format(len(set(index)), len(index)))\n",
    "\n",
    "    def test_getitem(self):\n",
    "        item = self.test_dga.__getitem__(0)\n",
    "        self.assertEqual(len(item), \n",
    "                         2,\n",
    "                         \"Get item output is wrong length ({}), expected {})\".format(len(item), 2))\n",
    "    \n",
    "if __name__ == '__main__':\n",
    "    unittest.main(argv=['first-arg-is-ignored'], exit=False)"
   ]
  },
  {
   "cell_type": "code",
   "execution_count": 15,
   "metadata": {
    "deletable": false,
    "name": "mltkc_stage"
   },
   "outputs": [],
   "source": [
    "# TO:DO Figure out splunk query\n",
    "# this cell is not executed from MLTK and should only be used for staging data into the notebook environment\n",
    "# def stage(name):\n",
    "#     with open(\"data/\"+name+\".csv\", 'r') as f:\n",
    "#         df = pd.read_csv(f)\n",
    "#     with open(\"data/\"+name+\".json\", 'r') as f:\n",
    "#         param = json.load(f)\n",
    "#     return df, param\n",
    "\n",
    "batch_size = 10\n",
    "data_dir = 'data'\n",
    "filename = 'alexa_top_1m.csv'\n",
    "n_records = 5000"
   ]
  },
  {
   "cell_type": "code",
   "execution_count": 16,
   "metadata": {},
   "outputs": [
    {
     "name": "stdout",
     "output_type": "stream",
     "text": [
      "Get train data loader.\n",
      "<torch.utils.data.dataloader.DataLoader object at 0x7f6485854780>\n",
      "{'feature_variables': ['domain'], 'target_variables': ['benign', 'malicious']}\n"
     ]
    }
   ],
   "source": [
    "# # THIS CELL IS NOT EXPORTED - free notebook cell for testing or development purposes\n",
    "df = _get_train_data_loader(batch_size, data_dir, filename, n_records)# print(df.describe())\n",
    "print(df)\n",
    "param = {'feature_variables': ['domain'], 'target_variables': ['benign', 'malicious']}\n",
    "print(param)"
   ]
  },
  {
   "cell_type": "code",
   "execution_count": 35,
   "metadata": {},
   "outputs": [],
   "source": [
    "from torch.nn.utils.rnn import pad_sequence, pad_packed_sequence, pack_padded_sequence\n",
    "\n",
    "class RNNEstimator(nn.Module):\n",
    "    \"\"\"\n",
    "    RNN Estimator for generating sequences of target variables.\n",
    "    \"\"\"\n",
    "    \n",
    "    def __init__(self, input_features=65, hidden_dim=12, n_layers=2, output_dim=9, embedding_dim=5, batch_size=10):\n",
    "        super(RNNEstimator, self).__init__()\n",
    "\n",
    "        # Variables\n",
    "        self.hidden_dim = hidden_dim\n",
    "        self.hidden_layers = n_layers\n",
    "        self.batch_size = batch_size\n",
    "        self.embedding_dim = embedding_dim\n",
    "        \n",
    "        # Embedding\n",
    "        self.embedding = nn.Embedding(input_features, embedding_dim)\n",
    "        \n",
    "        # RNN Layer\n",
    "        self.rnn = nn.RNN(embedding_dim, hidden_dim, n_layers, dropout=0.3, batch_first=True)\n",
    "        \n",
    "        # Fully connected layer\n",
    "        self.fc = nn.Linear(hidden_dim, output_dim)\n",
    "        \n",
    "        self.softmax = nn.LogSoftmax(dim=1)\n",
    "        \n",
    "    def init_hidden(self):\n",
    "        \"\"\"\n",
    "        Initialize the hidden and cell states of the LSTM with zeros.\n",
    "        \"\"\"\n",
    "        return torch.zeros(self.hidden_layers, self.batch_size, self.hidden_dim)\n",
    "        \n",
    "    def forward(self, x, x_lens, hidden_state):\n",
    "        \"\"\"\n",
    "        Perform a forward pass of our model on batch of tracks.\n",
    "        \"\"\"\n",
    "        # x: (batch_size, longest_sequence, embedding) i.e. 10, 32, 5\n",
    "        # hidden size: (hidden_layers, batch_size, hidden_dim) i.e. 2, 10, 30\n",
    "#         print(\"Input Shape\", x.shape)\n",
    "#         print(\"Hidden state\", hidden_state.shape)\n",
    "\n",
    "        # x_embed: (batch_size, longest_sequence, 1?, embedding_size) i.e. \n",
    "        embed_x = self.embedding(x)\n",
    "#         print(\"Embedding\", embed_x.shape)\n",
    "        \n",
    "        x_packed = pack_padded_sequence(embed_x, x_lens, batch_first=True, enforce_sorted=False)\n",
    "\n",
    "        # Passing in the input and hidden state into the model and obtaining outputs\n",
    "        output_packed, hidden_state = self.rnn(x_packed, hidden_state)\n",
    "        \n",
    "        output_padded, output_lengths = pad_packed_sequence(output_packed, batch_first=True)\n",
    "        \n",
    "        output = self.softmax(self.fc(output_padded))\n",
    "        \n",
    "        return output, hidden_state"
   ]
  },
  {
   "cell_type": "markdown",
   "metadata": {},
   "source": [
    "## Stage 2 - create and initialize a model"
   ]
  },
  {
   "cell_type": "code",
   "execution_count": 36,
   "metadata": {
    "deletable": false,
    "name": "mltkc_init"
   },
   "outputs": [],
   "source": [
    "def init(df, param):\n",
    "    \n",
    "    X = df.dataset.data_df\n",
    "    Y = df.dataset.labels\n",
    "    \n",
    "    input_size = 66\n",
    "    hidden_dim = 30\n",
    "    num_classes = 2\n",
    "    learning_rate = 0.001\n",
    "    embedding_dim = 5\n",
    "    n_layers = 2\n",
    "    \n",
    "    mapping = { key: value for value,key in enumerate(np.unique(Y.to_numpy().reshape(-1))) }\n",
    "    \n",
    "    # TODO: Change these\n",
    "    print(\"FIT build RNN model with input size \" + str(df.dataset.data_len))\n",
    "    print(\"FIT build model with target classes \" + str(num_classes))\n",
    "    \n",
    "    model = {\n",
    "        \"input_size\": input_size,\n",
    "        \"hidden_dim\": hidden_dim,\n",
    "        \"embedding_dim\": embedding_dim,\n",
    "        \"num_classes\": num_classes,\n",
    "        \"n_layers\": n_layers,\n",
    "        \"learning_rate\": learning_rate,\n",
    "#         \"mapping\": mapping,\n",
    "        \"num_epochs\": 100,\n",
    "        \"batch_size\": 10,\n",
    "    }\n",
    "    \n",
    "    model[\"train_loader\"] = df\n",
    "    \n",
    "#     if 'options' in param:\n",
    "#         if 'params' in param['options']:\n",
    "#             if 'epochs' in param['options']['params']:\n",
    "#                 model['num_epochs'] = int(param['options']['params']['epochs'])\n",
    "#             if 'batch_size' in param['options']['params']:\n",
    "#                 model['batch_size'] = int(param['options']['params']['batch_size'])\n",
    "\n",
    "    # RNN Layer\n",
    "    model['model'] = RNNEstimator(\n",
    "        input_features=model[\"input_size\"], \n",
    "        hidden_dim=model[\"hidden_dim\"], \n",
    "        n_layers=model[\"n_layers\"], \n",
    "        output_dim=model[\"num_classes\"],\n",
    "        embedding_dim=model[\"embedding_dim\"], \n",
    "        batch_size=model[\"batch_size\"]\n",
    "    )\n",
    "    \n",
    "    # Define loss and optimizer\n",
    "    model['criterion'] = torch.nn.NLLLoss()\n",
    "    \n",
    "    model['optimizer'] = torch.optim.SGD(model['model'].parameters(), lr=model[\"learning_rate\"])\n",
    "    \n",
    "    return model"
   ]
  },
  {
   "cell_type": "code",
   "execution_count": 37,
   "metadata": {
    "scrolled": true
   },
   "outputs": [
    {
     "name": "stdout",
     "output_type": "stream",
     "text": [
      "FIT build RNN model with input size 10000\n",
      "FIT build model with target classes 2\n",
      "{'input_size': 66, 'hidden_dim': 30, 'embedding_dim': 5, 'num_classes': 2, 'n_layers': 2, 'learning_rate': 0.001, 'num_epochs': 100, 'batch_size': 10, 'train_loader': <torch.utils.data.dataloader.DataLoader object at 0x7f6485854780>, 'model': RNNEstimator(\n",
      "  (embedding): Embedding(66, 5)\n",
      "  (rnn): RNN(5, 30, num_layers=2, batch_first=True, dropout=0.3)\n",
      "  (fc): Linear(in_features=30, out_features=2, bias=True)\n",
      "  (softmax): LogSoftmax()\n",
      "), 'criterion': NLLLoss(), 'optimizer': SGD (\n",
      "Parameter Group 0\n",
      "    dampening: 0\n",
      "    lr: 0.001\n",
      "    momentum: 0\n",
      "    nesterov: False\n",
      "    weight_decay: 0\n",
      ")}\n"
     ]
    }
   ],
   "source": [
    "# THIS CELL IS NOT EXPORTED - free notebook cell for testing or development purposes\n",
    "model = init(df,param)\n",
    "print(model)"
   ]
  },
  {
   "cell_type": "code",
   "execution_count": 38,
   "metadata": {},
   "outputs": [],
   "source": [
    "# def make_target(label, label_to_ix):\n",
    "#     return torch.LongTensor([label_to_ix[label]])\n",
    "\n",
    "# label_to_ix = {\"benign\": 0, \"dga\": 1}"
   ]
  },
  {
   "cell_type": "code",
   "execution_count": 39,
   "metadata": {},
   "outputs": [],
   "source": [
    "# all_categories = [\"benign\", \"dga\"]\n",
    "# def categoryFromOutput(output):\n",
    "#     top_n, top_i = output.topk(1)\n",
    "#     category_i = top_i[0].item()\n",
    "#     return all_categories[category_i], category_i"
   ]
  },
  {
   "cell_type": "markdown",
   "metadata": {},
   "source": [
    "## Stage 3 - fit the model"
   ]
  },
  {
   "cell_type": "code",
   "execution_count": 46,
   "metadata": {
    "deletable": false,
    "name": "mltkc_fit"
   },
   "outputs": [],
   "source": [
    "# train your model\n",
    "# returns a fit info json object and may modify the model object\n",
    "def fit(model, df, param):\n",
    "    # model.fit()\n",
    "    \n",
    "    returns = {}\n",
    "    info = {\"message\": \"model trained\"}\n",
    "    \n",
    "    model['model'].train() # Make sure that the model is in training mode.\n",
    "\n",
    "    for epoch in range(1, model['num_epochs'] + 1):\n",
    "\n",
    "        avg_loss = 0\n",
    "\n",
    "        # Iterate over dataset\n",
    "        for _, (x_padded, y_padded, x_lens, y_lens) in enumerate(model[\"train_loader\"]):\n",
    "            \n",
    "            # Clear stored gradient\n",
    "            model[\"optimizer\"].zero_grad()\n",
    "\n",
    "            # Initialize hidden state\n",
    "            hidden_state =  model['model'].init_hidden()\n",
    "\n",
    "            # Forward pass\n",
    "            output, hidden_cell =  model['model'](x_padded, x_lens, hidden_state)\n",
    "            \n",
    "            # Calculate NLL loss over batch\n",
    "            batch_loss =  model['criterion'](output[:, -1, :], torch.tensor(y_padded))\n",
    "            avg_loss += batch_loss.item()\n",
    "\n",
    "            # Zero out gradient, so it doesnt accumulate between epochs\n",
    "            model[\"optimizer\"].zero_grad()\n",
    "\n",
    "            # Backward pass\n",
    "            batch_loss.backward()\n",
    "\n",
    "            # Update parameters\n",
    "            model[\"optimizer\"].step()\n",
    "#             break\n",
    "        if epoch % 50 == 0:\n",
    "            print('Epoch: {}/{}.............'.format(epoch, model['num_epochs']), end=' ')\n",
    "            print(\"Loss: {:.4f}\".format(avg_loss / len(model[\"train_loader\"])))\n",
    "#         break\n",
    "    # memorize parameters\n",
    "    returns['model_epochs'] = model['num_epochs']\n",
    "    returns['model_batch_size'] = model['batch_size']\n",
    "    returns['model_loss_acc'] = batch_loss.item()\n",
    "            \n",
    "    return info"
   ]
  },
  {
   "cell_type": "code",
   "execution_count": 47,
   "metadata": {},
   "outputs": [],
   "source": [
    "# !pip install --upgrade torch torchvision"
   ]
  },
  {
   "cell_type": "code",
   "execution_count": null,
   "metadata": {},
   "outputs": [],
   "source": [
    "# THIS CELL IS NOT EXPORTED - free notebook cell for testing or development purposes\n",
    "print(fit(model,df,param))"
   ]
  },
  {
   "cell_type": "markdown",
   "metadata": {},
   "source": [
    "## Stage 4 - apply the model"
   ]
  },
  {
   "cell_type": "code",
   "execution_count": 771,
   "metadata": {
    "deletable": false,
    "name": "mltkc_apply"
   },
   "outputs": [],
   "source": [
    "# apply your model\n",
    "# returns the calculated results\n",
    "def apply(model,df,param):\n",
    "    y_hat = np.ones(df.shape[0]) * model['hyperparameter']\n",
    "    result = pd.DataFrame(y_hat, columns=['meaning_of_life'])\n",
    "    \n",
    "    X = df[param['feature_variables']].astype('float32').to_numpy()\n",
    "    classes = {v: k for k, v in model['mapping'].items()}\n",
    "    with torch.no_grad():\n",
    "        input = torch.from_numpy(X)\n",
    "        output = model['model'](input)\n",
    "        y_hat = output.data\n",
    "        _, predicted = torch.max(output.data, 1)\n",
    "        prediction = [classes[key] for key in predicted.numpy()]\n",
    "    return prediction\n",
    "    \n",
    "    \n",
    "    return result"
   ]
  },
  {
   "cell_type": "code",
   "execution_count": 661,
   "metadata": {},
   "outputs": [
    {
     "ename": "AttributeError",
     "evalue": "'DataLoader' object has no attribute 'shape'",
     "output_type": "error",
     "traceback": [
      "\u001b[0;31m---------------------------------------------------------------------------\u001b[0m",
      "\u001b[0;31mAttributeError\u001b[0m                            Traceback (most recent call last)",
      "\u001b[0;32m<ipython-input-661-b7aebe3e7b7f>\u001b[0m in \u001b[0;36m<module>\u001b[0;34m\u001b[0m\n\u001b[1;32m      1\u001b[0m \u001b[0;31m# THIS CELL IS NOT EXPORTED - free notebook cell for testing or development purposes\u001b[0m\u001b[0;34m\u001b[0m\u001b[0;34m\u001b[0m\u001b[0;34m\u001b[0m\u001b[0m\n\u001b[0;32m----> 2\u001b[0;31m \u001b[0mprint\u001b[0m\u001b[0;34m(\u001b[0m\u001b[0mapply\u001b[0m\u001b[0;34m(\u001b[0m\u001b[0mmodel\u001b[0m\u001b[0;34m,\u001b[0m\u001b[0mdf\u001b[0m\u001b[0;34m,\u001b[0m\u001b[0mparam\u001b[0m\u001b[0;34m)\u001b[0m\u001b[0;34m)\u001b[0m\u001b[0;34m\u001b[0m\u001b[0;34m\u001b[0m\u001b[0m\n\u001b[0m",
      "\u001b[0;32m<ipython-input-660-ba41656797ea>\u001b[0m in \u001b[0;36mapply\u001b[0;34m(model, df, param)\u001b[0m\n\u001b[1;32m      2\u001b[0m \u001b[0;31m# returns the calculated results\u001b[0m\u001b[0;34m\u001b[0m\u001b[0;34m\u001b[0m\u001b[0;34m\u001b[0m\u001b[0m\n\u001b[1;32m      3\u001b[0m \u001b[0;32mdef\u001b[0m \u001b[0mapply\u001b[0m\u001b[0;34m(\u001b[0m\u001b[0mmodel\u001b[0m\u001b[0;34m,\u001b[0m\u001b[0mdf\u001b[0m\u001b[0;34m,\u001b[0m\u001b[0mparam\u001b[0m\u001b[0;34m)\u001b[0m\u001b[0;34m:\u001b[0m\u001b[0;34m\u001b[0m\u001b[0;34m\u001b[0m\u001b[0m\n\u001b[0;32m----> 4\u001b[0;31m     \u001b[0my_hat\u001b[0m \u001b[0;34m=\u001b[0m \u001b[0mnp\u001b[0m\u001b[0;34m.\u001b[0m\u001b[0mones\u001b[0m\u001b[0;34m(\u001b[0m\u001b[0mdf\u001b[0m\u001b[0;34m.\u001b[0m\u001b[0mshape\u001b[0m\u001b[0;34m[\u001b[0m\u001b[0;36m0\u001b[0m\u001b[0;34m]\u001b[0m\u001b[0;34m)\u001b[0m \u001b[0;34m*\u001b[0m \u001b[0mmodel\u001b[0m\u001b[0;34m[\u001b[0m\u001b[0;34m'hyperparameter'\u001b[0m\u001b[0;34m]\u001b[0m\u001b[0;34m\u001b[0m\u001b[0;34m\u001b[0m\u001b[0m\n\u001b[0m\u001b[1;32m      5\u001b[0m     \u001b[0mresult\u001b[0m \u001b[0;34m=\u001b[0m \u001b[0mpd\u001b[0m\u001b[0;34m.\u001b[0m\u001b[0mDataFrame\u001b[0m\u001b[0;34m(\u001b[0m\u001b[0my_hat\u001b[0m\u001b[0;34m,\u001b[0m \u001b[0mcolumns\u001b[0m\u001b[0;34m=\u001b[0m\u001b[0;34m[\u001b[0m\u001b[0;34m'meaning_of_life'\u001b[0m\u001b[0;34m]\u001b[0m\u001b[0;34m)\u001b[0m\u001b[0;34m\u001b[0m\u001b[0;34m\u001b[0m\u001b[0m\n\u001b[1;32m      6\u001b[0m \u001b[0;34m\u001b[0m\u001b[0m\n",
      "\u001b[0;31mAttributeError\u001b[0m: 'DataLoader' object has no attribute 'shape'"
     ]
    }
   ],
   "source": [
    "# THIS CELL IS NOT EXPORTED - free notebook cell for testing or development purposes\n",
    "print(apply(model,df,param))"
   ]
  },
  {
   "cell_type": "markdown",
   "metadata": {},
   "source": [
    "## Stage 5 - save the model"
   ]
  },
  {
   "cell_type": "code",
   "execution_count": null,
   "metadata": {
    "deletable": false,
    "name": "mltkc_save"
   },
   "outputs": [],
   "source": [
    "# save model to name in expected convention \"<algo_name>_<model_name>\"\n",
    "def save(model,name):\n",
    "    with open(MODEL_DIRECTORY + name + \".json\", 'w') as file:\n",
    "        json.dump(model, file)\n",
    "    return model"
   ]
  },
  {
   "cell_type": "markdown",
   "metadata": {},
   "source": [
    "## Stage 6 - load the model"
   ]
  },
  {
   "cell_type": "code",
   "execution_count": null,
   "metadata": {
    "deletable": false,
    "name": "mltkc_load"
   },
   "outputs": [],
   "source": [
    "# load model from name in expected convention \"<algo_name>_<model_name>\"\n",
    "def load(name):\n",
    "    model = {}\n",
    "    with open(MODEL_DIRECTORY + name + \".json\", 'r') as file:\n",
    "        model = json.load(file)\n",
    "    return model"
   ]
  },
  {
   "cell_type": "markdown",
   "metadata": {},
   "source": [
    "## Stage 7 - provide a summary of the model"
   ]
  },
  {
   "cell_type": "code",
   "execution_count": null,
   "metadata": {
    "deletable": false,
    "name": "mltkc_summary"
   },
   "outputs": [],
   "source": [
    "# return a model summary\n",
    "def summary(model=None):\n",
    "    returns = {\"version\": {\"numpy\": np.__version__, \"pandas\": pd.__version__} }\n",
    "    return returns"
   ]
  },
  {
   "cell_type": "markdown",
   "metadata": {},
   "source": [
    "After implementing your fit, apply, save and load you can train your model:<br>\n",
    "| makeresults count=10<br>\n",
    "| streamstats c as i<br>\n",
    "| eval s = i%3<br>\n",
    "| eval feature_{s}=0<br>\n",
    "| foreach feature_* [eval &lt;&lt;FIELD&gt;&gt;=random()/pow(2,31)]<br>\n",
    "| fit MLTKContainer algo=barebone s from feature_* into app:barebone_model<br>"
   ]
  },
  {
   "cell_type": "markdown",
   "metadata": {},
   "source": [
    "Or apply your model:<br>\n",
    "| makeresults count=10<br>\n",
    "| streamstats c as i<br>\n",
    "| eval s = i%3<br>\n",
    "| eval feature_{s}=0<br>\n",
    "| foreach feature_* [eval &lt;&lt;FIELD&gt;&gt;=random()/pow(2,31)]<br>\n",
    "| apply barebone_model as the_meaning_of_life"
   ]
  },
  {
   "cell_type": "markdown",
   "metadata": {},
   "source": [
    "## End of Stages\n",
    "All subsequent cells are not tagged and can be used for further freeform code"
   ]
  },
  {
   "cell_type": "code",
   "execution_count": null,
   "metadata": {},
   "outputs": [],
   "source": []
  },
  {
   "cell_type": "code",
   "execution_count": null,
   "metadata": {},
   "outputs": [],
   "source": []
  }
 ],
 "metadata": {
  "kernelspec": {
   "display_name": "Python 3",
   "language": "python",
   "name": "python3"
  },
  "language_info": {
   "codemirror_mode": {
    "name": "ipython",
    "version": 3
   },
   "file_extension": ".py",
   "mimetype": "text/x-python",
   "name": "python",
   "nbconvert_exporter": "python",
   "pygments_lexer": "ipython3",
   "version": "3.6.8"
  }
 },
 "nbformat": 4,
 "nbformat_minor": 4
}
